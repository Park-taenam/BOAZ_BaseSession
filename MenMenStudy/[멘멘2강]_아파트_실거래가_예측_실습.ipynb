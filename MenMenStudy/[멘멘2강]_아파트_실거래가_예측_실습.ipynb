{
  "nbformat": 4,
  "nbformat_minor": 0,
  "metadata": {
    "colab": {
      "name": "[멘멘2강] 아파트 실거래가 예측 실습",
      "provenance": [],
      "collapsed_sections": []
    },
    "kernelspec": {
      "name": "python3",
      "display_name": "Python 3"
    },
    "language_info": {
      "name": "python"
    }
  },
  "cells": [
    {
      "cell_type": "markdown",
      "source": [
        "\b핸즈온 머신러닝 2강 : 머신러닝 처음부터 끝까지 \n",
        "\n",
        "머신러닝 프로젝트 진행의 전반적인 과정을 이해하는 것을 목적으로 한다. 데이터 전처리와 모델링, 그리고 평가로 이루어져 있다. \n",
        "\n",
        "데이터는 교재의 캘리포니아 주택가격 데이터가 아닌, 우리나라 아파트 데이터를 사용한다. 서울과 부산지역 아파트의 실거래가를 예측하는 모델을 개발하고, 이를 평가해본다."
      ],
      "metadata": {
        "id": "TcqEoNXPqOvo"
      }
    },
    {
      "cell_type": "code",
      "source": [
        "from google.colab import drive\n",
        "drive.mount('/content/drive')"
      ],
      "metadata": {
        "colab": {
          "base_uri": "https://localhost:8080/"
        },
        "id": "6pdtDh8cqoIq",
        "outputId": "cea23c45-a2cb-4904-d253-3fa905db2e3e"
      },
      "execution_count": 1,
      "outputs": [
        {
          "output_type": "stream",
          "name": "stdout",
          "text": [
            "Drive already mounted at /content/drive; to attempt to forcibly remount, call drive.mount(\"/content/drive\", force_remount=True).\n"
          ]
        }
      ]
    },
    {
      "cell_type": "code",
      "source": [
        "import pandas as pd\n",
        "import numpy as np\n",
        "import seaborn as sns\n",
        "%matplotlib inline\n",
        "import matplotlib.pyplot as plt\n",
        "\n",
        "from sklearn.model_selection import train_test_split, TimeSeriesSplit, StratifiedShuffleSplit\n",
        "from sklearn.preprocessing import OrdinalEncoder, LabelEncoder\n",
        "from sklearn.linear_model import LinearRegression\n",
        "from sklearn.tree import DecisionTreeRegressor\n",
        "from sklearn.ensemble import RandomForestRegressor\n",
        "from sklearn.metrics import mean_squared_error\n",
        "\n",
        "from pandas.plotting import scatter_matrix\n",
        "from tqdm import tqdm\n",
        "import re"
      ],
      "metadata": {
        "id": "DAfZVpDAqou5"
      },
      "execution_count": 2,
      "outputs": []
    },
    {
      "cell_type": "markdown",
      "source": [
        "# 데이터 불러오고 살펴보기"
      ],
      "metadata": {
        "id": "RhrbCuvkzULS"
      }
    },
    {
      "cell_type": "code",
      "source": [
        "#데이터 불러오기\n",
        "train = pd.read_csv('/content/drive/MyDrive/Colab Notebooks/Transaction_price_data/train.csv')\n",
        "test = pd.read_csv('/content/drive/MyDrive/Colab Notebooks/Transaction_price_data/test.csv')"
      ],
      "metadata": {
        "id": "zu08jl-HrJiO"
      },
      "execution_count": 3,
      "outputs": []
    },
    {
      "cell_type": "code",
      "source": [
        "train.head()"
      ],
      "metadata": {
        "colab": {
          "base_uri": "https://localhost:8080/",
          "height": 444
        },
        "id": "2w5-AJPVidcJ",
        "outputId": "cd3561db-e961-4566-9fc4-298e1c55e06a"
      },
      "execution_count": 4,
      "outputs": [
        {
          "output_type": "execute_result",
          "data": {
            "text/html": [
              "\n",
              "  <div id=\"df-93839233-b1e3-43a1-b348-216030b6ae0c\">\n",
              "    <div class=\"colab-df-container\">\n",
              "      <div>\n",
              "<style scoped>\n",
              "    .dataframe tbody tr th:only-of-type {\n",
              "        vertical-align: middle;\n",
              "    }\n",
              "\n",
              "    .dataframe tbody tr th {\n",
              "        vertical-align: top;\n",
              "    }\n",
              "\n",
              "    .dataframe thead th {\n",
              "        text-align: right;\n",
              "    }\n",
              "</style>\n",
              "<table border=\"1\" class=\"dataframe\">\n",
              "  <thead>\n",
              "    <tr style=\"text-align: right;\">\n",
              "      <th></th>\n",
              "      <th>transaction_id</th>\n",
              "      <th>apartment_id</th>\n",
              "      <th>city</th>\n",
              "      <th>dong</th>\n",
              "      <th>jibun</th>\n",
              "      <th>apt</th>\n",
              "      <th>addr_kr</th>\n",
              "      <th>exclusive_use_area</th>\n",
              "      <th>year_of_completion</th>\n",
              "      <th>transaction_year_month</th>\n",
              "      <th>transaction_date</th>\n",
              "      <th>floor</th>\n",
              "      <th>transaction_real_price</th>\n",
              "    </tr>\n",
              "  </thead>\n",
              "  <tbody>\n",
              "    <tr>\n",
              "      <th>0</th>\n",
              "      <td>0</td>\n",
              "      <td>7622</td>\n",
              "      <td>서울특별시</td>\n",
              "      <td>신교동</td>\n",
              "      <td>6-13</td>\n",
              "      <td>신현(101동)</td>\n",
              "      <td>신교동 6-13 신현(101동)</td>\n",
              "      <td>84.82</td>\n",
              "      <td>2002</td>\n",
              "      <td>200801</td>\n",
              "      <td>21~31</td>\n",
              "      <td>2</td>\n",
              "      <td>37500</td>\n",
              "    </tr>\n",
              "    <tr>\n",
              "      <th>1</th>\n",
              "      <td>1</td>\n",
              "      <td>5399</td>\n",
              "      <td>서울특별시</td>\n",
              "      <td>필운동</td>\n",
              "      <td>142</td>\n",
              "      <td>사직파크맨션</td>\n",
              "      <td>필운동 142 사직파크맨션</td>\n",
              "      <td>99.17</td>\n",
              "      <td>1973</td>\n",
              "      <td>200801</td>\n",
              "      <td>1~10</td>\n",
              "      <td>6</td>\n",
              "      <td>20000</td>\n",
              "    </tr>\n",
              "    <tr>\n",
              "      <th>2</th>\n",
              "      <td>2</td>\n",
              "      <td>3578</td>\n",
              "      <td>서울특별시</td>\n",
              "      <td>필운동</td>\n",
              "      <td>174-1</td>\n",
              "      <td>두레엘리시안</td>\n",
              "      <td>필운동 174-1 두레엘리시안</td>\n",
              "      <td>84.74</td>\n",
              "      <td>2007</td>\n",
              "      <td>200801</td>\n",
              "      <td>1~10</td>\n",
              "      <td>6</td>\n",
              "      <td>38500</td>\n",
              "    </tr>\n",
              "    <tr>\n",
              "      <th>3</th>\n",
              "      <td>3</td>\n",
              "      <td>10957</td>\n",
              "      <td>서울특별시</td>\n",
              "      <td>내수동</td>\n",
              "      <td>95</td>\n",
              "      <td>파크팰리스</td>\n",
              "      <td>내수동 95 파크팰리스</td>\n",
              "      <td>146.39</td>\n",
              "      <td>2003</td>\n",
              "      <td>200801</td>\n",
              "      <td>11~20</td>\n",
              "      <td>15</td>\n",
              "      <td>118000</td>\n",
              "    </tr>\n",
              "    <tr>\n",
              "      <th>4</th>\n",
              "      <td>4</td>\n",
              "      <td>10639</td>\n",
              "      <td>서울특별시</td>\n",
              "      <td>내수동</td>\n",
              "      <td>110-15</td>\n",
              "      <td>킹스매너</td>\n",
              "      <td>내수동 110-15 킹스매너</td>\n",
              "      <td>194.43</td>\n",
              "      <td>2004</td>\n",
              "      <td>200801</td>\n",
              "      <td>21~31</td>\n",
              "      <td>3</td>\n",
              "      <td>120000</td>\n",
              "    </tr>\n",
              "  </tbody>\n",
              "</table>\n",
              "</div>\n",
              "      <button class=\"colab-df-convert\" onclick=\"convertToInteractive('df-93839233-b1e3-43a1-b348-216030b6ae0c')\"\n",
              "              title=\"Convert this dataframe to an interactive table.\"\n",
              "              style=\"display:none;\">\n",
              "        \n",
              "  <svg xmlns=\"http://www.w3.org/2000/svg\" height=\"24px\"viewBox=\"0 0 24 24\"\n",
              "       width=\"24px\">\n",
              "    <path d=\"M0 0h24v24H0V0z\" fill=\"none\"/>\n",
              "    <path d=\"M18.56 5.44l.94 2.06.94-2.06 2.06-.94-2.06-.94-.94-2.06-.94 2.06-2.06.94zm-11 1L8.5 8.5l.94-2.06 2.06-.94-2.06-.94L8.5 2.5l-.94 2.06-2.06.94zm10 10l.94 2.06.94-2.06 2.06-.94-2.06-.94-.94-2.06-.94 2.06-2.06.94z\"/><path d=\"M17.41 7.96l-1.37-1.37c-.4-.4-.92-.59-1.43-.59-.52 0-1.04.2-1.43.59L10.3 9.45l-7.72 7.72c-.78.78-.78 2.05 0 2.83L4 21.41c.39.39.9.59 1.41.59.51 0 1.02-.2 1.41-.59l7.78-7.78 2.81-2.81c.8-.78.8-2.07 0-2.86zM5.41 20L4 18.59l7.72-7.72 1.47 1.35L5.41 20z\"/>\n",
              "  </svg>\n",
              "      </button>\n",
              "      \n",
              "  <style>\n",
              "    .colab-df-container {\n",
              "      display:flex;\n",
              "      flex-wrap:wrap;\n",
              "      gap: 12px;\n",
              "    }\n",
              "\n",
              "    .colab-df-convert {\n",
              "      background-color: #E8F0FE;\n",
              "      border: none;\n",
              "      border-radius: 50%;\n",
              "      cursor: pointer;\n",
              "      display: none;\n",
              "      fill: #1967D2;\n",
              "      height: 32px;\n",
              "      padding: 0 0 0 0;\n",
              "      width: 32px;\n",
              "    }\n",
              "\n",
              "    .colab-df-convert:hover {\n",
              "      background-color: #E2EBFA;\n",
              "      box-shadow: 0px 1px 2px rgba(60, 64, 67, 0.3), 0px 1px 3px 1px rgba(60, 64, 67, 0.15);\n",
              "      fill: #174EA6;\n",
              "    }\n",
              "\n",
              "    [theme=dark] .colab-df-convert {\n",
              "      background-color: #3B4455;\n",
              "      fill: #D2E3FC;\n",
              "    }\n",
              "\n",
              "    [theme=dark] .colab-df-convert:hover {\n",
              "      background-color: #434B5C;\n",
              "      box-shadow: 0px 1px 3px 1px rgba(0, 0, 0, 0.15);\n",
              "      filter: drop-shadow(0px 1px 2px rgba(0, 0, 0, 0.3));\n",
              "      fill: #FFFFFF;\n",
              "    }\n",
              "  </style>\n",
              "\n",
              "      <script>\n",
              "        const buttonEl =\n",
              "          document.querySelector('#df-93839233-b1e3-43a1-b348-216030b6ae0c button.colab-df-convert');\n",
              "        buttonEl.style.display =\n",
              "          google.colab.kernel.accessAllowed ? 'block' : 'none';\n",
              "\n",
              "        async function convertToInteractive(key) {\n",
              "          const element = document.querySelector('#df-93839233-b1e3-43a1-b348-216030b6ae0c');\n",
              "          const dataTable =\n",
              "            await google.colab.kernel.invokeFunction('convertToInteractive',\n",
              "                                                     [key], {});\n",
              "          if (!dataTable) return;\n",
              "\n",
              "          const docLinkHtml = 'Like what you see? Visit the ' +\n",
              "            '<a target=\"_blank\" href=https://colab.research.google.com/notebooks/data_table.ipynb>data table notebook</a>'\n",
              "            + ' to learn more about interactive tables.';\n",
              "          element.innerHTML = '';\n",
              "          dataTable['output_type'] = 'display_data';\n",
              "          await google.colab.output.renderOutput(dataTable, element);\n",
              "          const docLink = document.createElement('div');\n",
              "          docLink.innerHTML = docLinkHtml;\n",
              "          element.appendChild(docLink);\n",
              "        }\n",
              "      </script>\n",
              "    </div>\n",
              "  </div>\n",
              "  "
            ],
            "text/plain": [
              "   transaction_id  apartment_id  ... floor transaction_real_price\n",
              "0               0          7622  ...     2                  37500\n",
              "1               1          5399  ...     6                  20000\n",
              "2               2          3578  ...     6                  38500\n",
              "3               3         10957  ...    15                 118000\n",
              "4               4         10639  ...     3                 120000\n",
              "\n",
              "[5 rows x 13 columns]"
            ]
          },
          "metadata": {},
          "execution_count": 4
        }
      ]
    },
    {
      "cell_type": "code",
      "source": [
        "train.info()"
      ],
      "metadata": {
        "colab": {
          "base_uri": "https://localhost:8080/"
        },
        "id": "DfN6hw_Qt45g",
        "outputId": "78b84deb-f783-4807-fede-74e159c24ee6"
      },
      "execution_count": 5,
      "outputs": [
        {
          "output_type": "stream",
          "name": "stdout",
          "text": [
            "<class 'pandas.core.frame.DataFrame'>\n",
            "RangeIndex: 1216553 entries, 0 to 1216552\n",
            "Data columns (total 13 columns):\n",
            " #   Column                  Non-Null Count    Dtype  \n",
            "---  ------                  --------------    -----  \n",
            " 0   transaction_id          1216553 non-null  int64  \n",
            " 1   apartment_id            1216553 non-null  int64  \n",
            " 2   city                    1216553 non-null  object \n",
            " 3   dong                    1216553 non-null  object \n",
            " 4   jibun                   1216553 non-null  object \n",
            " 5   apt                     1216553 non-null  object \n",
            " 6   addr_kr                 1216553 non-null  object \n",
            " 7   exclusive_use_area      1216553 non-null  float64\n",
            " 8   year_of_completion      1216553 non-null  int64  \n",
            " 9   transaction_year_month  1216553 non-null  int64  \n",
            " 10  transaction_date        1216553 non-null  object \n",
            " 11  floor                   1216553 non-null  int64  \n",
            " 12  transaction_real_price  1216553 non-null  int64  \n",
            "dtypes: float64(1), int64(6), object(6)\n",
            "memory usage: 120.7+ MB\n"
          ]
        }
      ]
    },
    {
      "cell_type": "markdown",
      "source": [
        "- 범주형 변수, 숫자형 변수로 나뉜것을 볼 수 있음. \n",
        "- 범주형 변수에 대해서는 value_counts()로 카테고리 별 값을 확인할 수 있음.\n",
        "- 양적 변수에 대해서는 히스토그램이나 산점도로 시각화해서 분포를 확인할 수 있음."
      ],
      "metadata": {
        "id": "qSRNIkq7wDab"
      }
    },
    {
      "cell_type": "code",
      "source": [
        "train.city.value_counts() #범주형변수"
      ],
      "metadata": {
        "colab": {
          "base_uri": "https://localhost:8080/"
        },
        "id": "8FhrlbMBwMM6",
        "outputId": "1a3abfb2-d9f0-419d-c112-affec79acbcf"
      },
      "execution_count": 6,
      "outputs": [
        {
          "output_type": "execute_result",
          "data": {
            "text/plain": [
              "서울특별시    742285\n",
              "부산광역시    474268\n",
              "Name: city, dtype: int64"
            ]
          },
          "metadata": {},
          "execution_count": 6
        }
      ]
    },
    {
      "cell_type": "code",
      "source": [
        "train.floor.describe() #숫자형"
      ],
      "metadata": {
        "colab": {
          "base_uri": "https://localhost:8080/"
        },
        "id": "79TKSFXFjLdz",
        "outputId": "e7d005ef-21be-4d88-8eb4-1d004bcfdbf6"
      },
      "execution_count": 7,
      "outputs": [
        {
          "output_type": "execute_result",
          "data": {
            "text/plain": [
              "count    1.216553e+06\n",
              "mean     9.343291e+00\n",
              "std      6.606500e+00\n",
              "min     -4.000000e+00\n",
              "25%      4.000000e+00\n",
              "50%      8.000000e+00\n",
              "75%      1.300000e+01\n",
              "max      8.000000e+01\n",
              "Name: floor, dtype: float64"
            ]
          },
          "metadata": {},
          "execution_count": 7
        }
      ]
    },
    {
      "cell_type": "code",
      "source": [
        "train.floor.hist(bins=50)\n",
        "plt.show() #히스토그램으로 확인"
      ],
      "metadata": {
        "colab": {
          "base_uri": "https://localhost:8080/",
          "height": 265
        },
        "id": "tegmU7YKxhQI",
        "outputId": "bce873cb-5a20-4b45-bf84-b29ec2983734"
      },
      "execution_count": 8,
      "outputs": [
        {
          "output_type": "display_data",
          "data": {
            "image/png": "[encoded data removed]",
            "text/plain": [
              "<Figure size 432x288 with 1 Axes>"
            ]
          },
          "metadata": {
            "needs_background": "light"
          }
        }
      ]
    },
    {
      "cell_type": "markdown",
      "source": [
        "test 데이터셋도 살펴보자\n"
      ],
      "metadata": {
        "id": "F_vU-ej4xrjL"
      }
    },
    {
      "cell_type": "code",
      "source": [
        "test.transaction_year_month.hist()"
      ],
      "metadata": {
        "colab": {
          "base_uri": "https://localhost:8080/",
          "height": 295
        },
        "id": "EKrLeRqszHHS",
        "outputId": "be80abcd-c9f0-4539-e018-6c5e818fe8b3"
      },
      "execution_count": 9,
      "outputs": [
        {
          "output_type": "execute_result",
          "data": {
            "text/plain": [
              "<matplotlib.axes._subplots.AxesSubplot at 0x7fa983817150>"
            ]
          },
          "metadata": {},
          "execution_count": 9
        },
        {
          "output_type": "display_data",
          "data": {
            "image/png": "[encoded data removed]",
            "text/plain": [
              "<Figure size 432x288 with 1 Axes>"
            ]
          },
          "metadata": {
            "needs_background": "light"
          }
        }
      ]
    },
    {
      "cell_type": "code",
      "source": [
        "train.transaction_year_month.hist()"
      ],
      "metadata": {
        "colab": {
          "base_uri": "https://localhost:8080/",
          "height": 282
        },
        "id": "OTHUzwVrjp3m",
        "outputId": "2c6ff0b0-b2f8-4a67-a9a8-6e6ff7d4e56b"
      },
      "execution_count": 10,
      "outputs": [
        {
          "output_type": "execute_result",
          "data": {
            "text/plain": [
              "<matplotlib.axes._subplots.AxesSubplot at 0x7fa9837b2e50>"
            ]
          },
          "metadata": {},
          "execution_count": 10
        },
        {
          "output_type": "display_data",
          "data": {
            "image/png": "[encoded data removed]",
            "text/plain": [
              "<Figure size 432x288 with 1 Axes>"
            ]
          },
          "metadata": {
            "needs_background": "light"
          }
        }
      ]
    },
    {
      "cell_type": "markdown",
      "source": [
        "\bx축을 보면 숫자가 약간 다름. test set의 데이터들은 전부 2017년에만 거래된 데이터들. 나중에 전처리할때 이부분도 같이 체크해주어야 함. 지금은 일단 살펴보는 단계라서 pass"
      ],
      "metadata": {
        "id": "UYW0fw_izJ2F"
      }
    },
    {
      "cell_type": "markdown",
      "source": [
        "**변수 설명**\n",
        "- transaction_real_price : 실거래가\n",
        "\n",
        "\n",
        "- exclusice_use_area : 전용면적\n",
        "- year_of_completion : 완공된 해\n",
        "- transaction_year_month : 거래년월\n",
        "- transaction_date : 거래일\n",
        "- floor : 층"
      ],
      "metadata": {
        "id": "Cn3Ki1isuxCT"
      }
    },
    {
      "cell_type": "code",
      "source": [
        "#데이터 모양 살펴보기, 차례로 행, 열\n",
        "print(train.shape)\n",
        "print(test.shape)"
      ],
      "metadata": {
        "colab": {
          "base_uri": "https://localhost:8080/"
        },
        "id": "gHc8PHIfvAo3",
        "outputId": "aaa05f3d-4229-4cc7-ca22-fd24a219205d"
      },
      "execution_count": 11,
      "outputs": [
        {
          "output_type": "stream",
          "name": "stdout",
          "text": [
            "(1216553, 13)\n",
            "(5463, 12)\n"
          ]
        }
      ]
    },
    {
      "cell_type": "markdown",
      "source": [
        "이 데이터셋은 테스트 세트와 훈련 세트가 이미 나누어져 있는 데이터지만, 자체 검증을 위해 훈련 세트를 다시 나누어야 함. 훈련 세트 내에서 다시 '진짜' 훈련에 사용할 데이터와, 검증에 사용할 데이터를 나누어야 함\n",
        "\n",
        "### 무작위 샘플링"
      ],
      "metadata": {
        "id": "g7J7hkojzkum"
      }
    },
    {
      "cell_type": "code",
      "source": [
        "train_set, test_set = train_test_split(train, test_size=0.2, random_state=42)\n",
        "print(train_set.shape)\n",
        "print(test_set.shape)"
      ],
      "metadata": {
        "id": "sGmTPC_3zkH2",
        "colab": {
          "base_uri": "https://localhost:8080/"
        },
        "outputId": "094a0746-d448-496b-e925-3126473f32f5"
      },
      "execution_count": 12,
      "outputs": [
        {
          "output_type": "stream",
          "name": "stdout",
          "text": [
            "(973242, 13)\n",
            "(243311, 13)\n"
          ]
        }
      ]
    },
    {
      "cell_type": "markdown",
      "source": [
        "### 계층적 샘플링\n",
        "부산과 서울의 가격이 다를 수 있음. 각 비율에 맞춰 샘플링을 진행하는게 좋지 않을까?"
      ],
      "metadata": {
        "id": "8W3gXngYkKY4"
      }
    },
    {
      "cell_type": "code",
      "source": [
        "train.city.value_counts()"
      ],
      "metadata": {
        "colab": {
          "base_uri": "https://localhost:8080/"
        },
        "id": "hl6gFTc_0KuP",
        "outputId": "3fcb95bd-5198-429d-ffb9-96219b7f7ce3"
      },
      "execution_count": 13,
      "outputs": [
        {
          "output_type": "execute_result",
          "data": {
            "text/plain": [
              "서울특별시    742285\n",
              "부산광역시    474268\n",
              "Name: city, dtype: int64"
            ]
          },
          "metadata": {},
          "execution_count": 13
        }
      ]
    },
    {
      "cell_type": "markdown",
      "source": [
        "텍스트를 숫자로 변환하는 과정이 필요! -> 인코더 사용"
      ],
      "metadata": {
        "id": "yEFdEj-x0104"
      }
    },
    {
      "cell_type": "code",
      "source": [
        "train_city = train[['city']]\n",
        "ordinal_encoder = OrdinalEncoder()\n",
        "\n",
        "train_city_encoded = ordinal_encoder.fit_transform(train_city)\n",
        "train_city_encoded[:10]"
      ],
      "metadata": {
        "colab": {
          "base_uri": "https://localhost:8080/"
        },
        "id": "Me_GWNe40rkf",
        "outputId": "c7a7f694-b699-4260-e9fe-09b67c97ce7e"
      },
      "execution_count": 14,
      "outputs": [
        {
          "output_type": "execute_result",
          "data": {
            "text/plain": [
              "array([[1.],\n",
              "       [1.],\n",
              "       [1.],\n",
              "       [1.],\n",
              "       [1.],\n",
              "       [1.],\n",
              "       [1.],\n",
              "       [1.],\n",
              "       [1.],\n",
              "       [1.]])"
            ]
          },
          "metadata": {},
          "execution_count": 14
        }
      ]
    },
    {
      "cell_type": "code",
      "source": [
        "ordinal_encoder.categories_ #카테고리 특성 확인"
      ],
      "metadata": {
        "colab": {
          "base_uri": "https://localhost:8080/"
        },
        "id": "pbYTPc2x1TDo",
        "outputId": "c1e4fc87-1401-41d3-da1c-41a0aa6f08fc"
      },
      "execution_count": 15,
      "outputs": [
        {
          "output_type": "execute_result",
          "data": {
            "text/plain": [
              "[array(['부산광역시', '서울특별시'], dtype=object)]"
            ]
          },
          "metadata": {},
          "execution_count": 15
        }
      ]
    },
    {
      "cell_type": "code",
      "source": [
        "train[['city']] = train_city_encoded #인코딩 된 값으로 바꿔주고"
      ],
      "metadata": {
        "id": "7FRu30SQ1u6R"
      },
      "execution_count": 16,
      "outputs": []
    },
    {
      "cell_type": "code",
      "source": [
        "train[['city']].value_counts #값이 변환된 것을 볼 수 있음."
      ],
      "metadata": {
        "colab": {
          "base_uri": "https://localhost:8080/"
        },
        "id": "68Eh8Jen2S1X",
        "outputId": "18dd71cd-e5d5-4a35-d3c1-fa2a0f8fb913"
      },
      "execution_count": 17,
      "outputs": [
        {
          "output_type": "execute_result",
          "data": {
            "text/plain": [
              "<bound method DataFrame.value_counts of          city\n",
              "0         1.0\n",
              "1         1.0\n",
              "2         1.0\n",
              "3         1.0\n",
              "4         1.0\n",
              "...       ...\n",
              "1216548   0.0\n",
              "1216549   0.0\n",
              "1216550   0.0\n",
              "1216551   0.0\n",
              "1216552   0.0\n",
              "\n",
              "[1216553 rows x 1 columns]>"
            ]
          },
          "metadata": {},
          "execution_count": 17
        }
      ]
    },
    {
      "cell_type": "code",
      "source": [
        "train.head()"
      ],
      "metadata": {
        "colab": {
          "base_uri": "https://localhost:8080/",
          "height": 444
        },
        "id": "h7dn8_hR2gfG",
        "outputId": "60dc7697-abf0-45e3-d08e-daa08dc61f7b"
      },
      "execution_count": 18,
      "outputs": [
        {
          "output_type": "execute_result",
          "data": {
            "text/html": [
              "\n",
              "  <div id=\"df-72976900-dc31-4723-ad9a-d22166eb0996\">\n",
              "    <div class=\"colab-df-container\">\n",
              "      <div>\n",
              "<style scoped>\n",
              "    .dataframe tbody tr th:only-of-type {\n",
              "        vertical-align: middle;\n",
              "    }\n",
              "\n",
              "    .dataframe tbody tr th {\n",
              "        vertical-align: top;\n",
              "    }\n",
              "\n",
              "    .dataframe thead th {\n",
              "        text-align: right;\n",
              "    }\n",
              "</style>\n",
              "<table border=\"1\" class=\"dataframe\">\n",
              "  <thead>\n",
              "    <tr style=\"text-align: right;\">\n",
              "      <th></th>\n",
              "      <th>transaction_id</th>\n",
              "      <th>apartment_id</th>\n",
              "      <th>city</th>\n",
              "      <th>dong</th>\n",
              "      <th>jibun</th>\n",
              "      <th>apt</th>\n",
              "      <th>addr_kr</th>\n",
              "      <th>exclusive_use_area</th>\n",
              "      <th>year_of_completion</th>\n",
              "      <th>transaction_year_month</th>\n",
              "      <th>transaction_date</th>\n",
              "      <th>floor</th>\n",
              "      <th>transaction_real_price</th>\n",
              "    </tr>\n",
              "  </thead>\n",
              "  <tbody>\n",
              "    <tr>\n",
              "      <th>0</th>\n",
              "      <td>0</td>\n",
              "      <td>7622</td>\n",
              "      <td>1.0</td>\n",
              "      <td>신교동</td>\n",
              "      <td>6-13</td>\n",
              "      <td>신현(101동)</td>\n",
              "      <td>신교동 6-13 신현(101동)</td>\n",
              "      <td>84.82</td>\n",
              "      <td>2002</td>\n",
              "      <td>200801</td>\n",
              "      <td>21~31</td>\n",
              "      <td>2</td>\n",
              "      <td>37500</td>\n",
              "    </tr>\n",
              "    <tr>\n",
              "      <th>1</th>\n",
              "      <td>1</td>\n",
              "      <td>5399</td>\n",
              "      <td>1.0</td>\n",
              "      <td>필운동</td>\n",
              "      <td>142</td>\n",
              "      <td>사직파크맨션</td>\n",
              "      <td>필운동 142 사직파크맨션</td>\n",
              "      <td>99.17</td>\n",
              "      <td>1973</td>\n",
              "      <td>200801</td>\n",
              "      <td>1~10</td>\n",
              "      <td>6</td>\n",
              "      <td>20000</td>\n",
              "    </tr>\n",
              "    <tr>\n",
              "      <th>2</th>\n",
              "      <td>2</td>\n",
              "      <td>3578</td>\n",
              "      <td>1.0</td>\n",
              "      <td>필운동</td>\n",
              "      <td>174-1</td>\n",
              "      <td>두레엘리시안</td>\n",
              "      <td>필운동 174-1 두레엘리시안</td>\n",
              "      <td>84.74</td>\n",
              "      <td>2007</td>\n",
              "      <td>200801</td>\n",
              "      <td>1~10</td>\n",
              "      <td>6</td>\n",
              "      <td>38500</td>\n",
              "    </tr>\n",
              "    <tr>\n",
              "      <th>3</th>\n",
              "      <td>3</td>\n",
              "      <td>10957</td>\n",
              "      <td>1.0</td>\n",
              "      <td>내수동</td>\n",
              "      <td>95</td>\n",
              "      <td>파크팰리스</td>\n",
              "      <td>내수동 95 파크팰리스</td>\n",
              "      <td>146.39</td>\n",
              "      <td>2003</td>\n",
              "      <td>200801</td>\n",
              "      <td>11~20</td>\n",
              "      <td>15</td>\n",
              "      <td>118000</td>\n",
              "    </tr>\n",
              "    <tr>\n",
              "      <th>4</th>\n",
              "      <td>4</td>\n",
              "      <td>10639</td>\n",
              "      <td>1.0</td>\n",
              "      <td>내수동</td>\n",
              "      <td>110-15</td>\n",
              "      <td>킹스매너</td>\n",
              "      <td>내수동 110-15 킹스매너</td>\n",
              "      <td>194.43</td>\n",
              "      <td>2004</td>\n",
              "      <td>200801</td>\n",
              "      <td>21~31</td>\n",
              "      <td>3</td>\n",
              "      <td>120000</td>\n",
              "    </tr>\n",
              "  </tbody>\n",
              "</table>\n",
              "</div>\n",
              "      <button class=\"colab-df-convert\" onclick=\"convertToInteractive('df-72976900-dc31-4723-ad9a-d22166eb0996')\"\n",
              "              title=\"Convert this dataframe to an interactive table.\"\n",
              "              style=\"display:none;\">\n",
              "        \n",
              "  <svg xmlns=\"http://www.w3.org/2000/svg\" height=\"24px\"viewBox=\"0 0 24 24\"\n",
              "       width=\"24px\">\n",
              "    <path d=\"M0 0h24v24H0V0z\" fill=\"none\"/>\n",
              "    <path d=\"M18.56 5.44l.94 2.06.94-2.06 2.06-.94-2.06-.94-.94-2.06-.94 2.06-2.06.94zm-11 1L8.5 8.5l.94-2.06 2.06-.94-2.06-.94L8.5 2.5l-.94 2.06-2.06.94zm10 10l.94 2.06.94-2.06 2.06-.94-2.06-.94-.94-2.06-.94 2.06-2.06.94z\"/><path d=\"M17.41 7.96l-1.37-1.37c-.4-.4-.92-.59-1.43-.59-.52 0-1.04.2-1.43.59L10.3 9.45l-7.72 7.72c-.78.78-.78 2.05 0 2.83L4 21.41c.39.39.9.59 1.41.59.51 0 1.02-.2 1.41-.59l7.78-7.78 2.81-2.81c.8-.78.8-2.07 0-2.86zM5.41 20L4 18.59l7.72-7.72 1.47 1.35L5.41 20z\"/>\n",
              "  </svg>\n",
              "      </button>\n",
              "      \n",
              "  <style>\n",
              "    .colab-df-container {\n",
              "      display:flex;\n",
              "      flex-wrap:wrap;\n",
              "      gap: 12px;\n",
              "    }\n",
              "\n",
              "    .colab-df-convert {\n",
              "      background-color: #E8F0FE;\n",
              "      border: none;\n",
              "      border-radius: 50%;\n",
              "      cursor: pointer;\n",
              "      display: none;\n",
              "      fill: #1967D2;\n",
              "      height: 32px;\n",
              "      padding: 0 0 0 0;\n",
              "      width: 32px;\n",
              "    }\n",
              "\n",
              "    .colab-df-convert:hover {\n",
              "      background-color: #E2EBFA;\n",
              "      box-shadow: 0px 1px 2px rgba(60, 64, 67, 0.3), 0px 1px 3px 1px rgba(60, 64, 67, 0.15);\n",
              "      fill: #174EA6;\n",
              "    }\n",
              "\n",
              "    [theme=dark] .colab-df-convert {\n",
              "      background-color: #3B4455;\n",
              "      fill: #D2E3FC;\n",
              "    }\n",
              "\n",
              "    [theme=dark] .colab-df-convert:hover {\n",
              "      background-color: #434B5C;\n",
              "      box-shadow: 0px 1px 3px 1px rgba(0, 0, 0, 0.15);\n",
              "      filter: drop-shadow(0px 1px 2px rgba(0, 0, 0, 0.3));\n",
              "      fill: #FFFFFF;\n",
              "    }\n",
              "  </style>\n",
              "\n",
              "      <script>\n",
              "        const buttonEl =\n",
              "          document.querySelector('#df-72976900-dc31-4723-ad9a-d22166eb0996 button.colab-df-convert');\n",
              "        buttonEl.style.display =\n",
              "          google.colab.kernel.accessAllowed ? 'block' : 'none';\n",
              "\n",
              "        async function convertToInteractive(key) {\n",
              "          const element = document.querySelector('#df-72976900-dc31-4723-ad9a-d22166eb0996');\n",
              "          const dataTable =\n",
              "            await google.colab.kernel.invokeFunction('convertToInteractive',\n",
              "                                                     [key], {});\n",
              "          if (!dataTable) return;\n",
              "\n",
              "          const docLinkHtml = 'Like what you see? Visit the ' +\n",
              "            '<a target=\"_blank\" href=https://colab.research.google.com/notebooks/data_table.ipynb>data table notebook</a>'\n",
              "            + ' to learn more about interactive tables.';\n",
              "          element.innerHTML = '';\n",
              "          dataTable['output_type'] = 'display_data';\n",
              "          await google.colab.output.renderOutput(dataTable, element);\n",
              "          const docLink = document.createElement('div');\n",
              "          docLink.innerHTML = docLinkHtml;\n",
              "          element.appendChild(docLink);\n",
              "        }\n",
              "      </script>\n",
              "    </div>\n",
              "  </div>\n",
              "  "
            ],
            "text/plain": [
              "   transaction_id  apartment_id  ...  floor transaction_real_price\n",
              "0               0          7622  ...      2                  37500\n",
              "1               1          5399  ...      6                  20000\n",
              "2               2          3578  ...      6                  38500\n",
              "3               3         10957  ...     15                 118000\n",
              "4               4         10639  ...      3                 120000\n",
              "\n",
              "[5 rows x 13 columns]"
            ]
          },
          "metadata": {},
          "execution_count": 18
        }
      ]
    },
    {
      "cell_type": "code",
      "source": [
        "#train_test_split 이제 해보자\n",
        "\n",
        "train.city.hist() #비율이 다름"
      ],
      "metadata": {
        "colab": {
          "base_uri": "https://localhost:8080/",
          "height": 282
        },
        "id": "Uhg5BOZl2ihA",
        "outputId": "39dd170f-b32e-44a0-a7c8-e88b4ca65841"
      },
      "execution_count": 19,
      "outputs": [
        {
          "output_type": "execute_result",
          "data": {
            "text/plain": [
              "<matplotlib.axes._subplots.AxesSubplot at 0x7fa9837eb810>"
            ]
          },
          "metadata": {},
          "execution_count": 19
        },
        {
          "output_type": "display_data",
          "data": {
            "image/png": "[encoded data removed]",
            "text/plain": [
              "<Figure size 432x288 with 1 Axes>"
            ]
          },
          "metadata": {
            "needs_background": "light"
          }
        }
      ]
    },
    {
      "cell_type": "code",
      "source": [
        "split = StratifiedShuffleSplit(n_splits=1, test_size=.2, random_state=10)\n",
        "for train_idx, test_idx in split.split(train, train['city']):\n",
        "  strat_train_set = train.loc[train_idx]\n",
        "  strat_test_set = train.loc[test_idx]"
      ],
      "metadata": {
        "id": "BPtPAC9Y2qeE"
      },
      "execution_count": 20,
      "outputs": []
    },
    {
      "cell_type": "code",
      "source": [
        "#계층적 샘플링 했을때 서울, 부산 각각의 데이터 개수\n",
        "strat_train_set['city'].value_counts()"
      ],
      "metadata": {
        "colab": {
          "base_uri": "https://localhost:8080/"
        },
        "id": "n3dWP7UX28nA",
        "outputId": "5664fecf-99af-4e8d-9b73-bce0c40eaa20"
      },
      "execution_count": 21,
      "outputs": [
        {
          "output_type": "execute_result",
          "data": {
            "text/plain": [
              "1.0    593828\n",
              "0.0    379414\n",
              "Name: city, dtype: int64"
            ]
          },
          "metadata": {},
          "execution_count": 21
        }
      ]
    },
    {
      "cell_type": "code",
      "source": [
        "#무작위 샘플링\n",
        "train_set['city'].value_counts()"
      ],
      "metadata": {
        "colab": {
          "base_uri": "https://localhost:8080/"
        },
        "id": "SgQwHseAyzYs",
        "outputId": "a9ec5c51-011c-4ed9-d30d-97eb92971af7"
      },
      "execution_count": 22,
      "outputs": [
        {
          "output_type": "execute_result",
          "data": {
            "text/plain": [
              "서울특별시    593666\n",
              "부산광역시    379576\n",
              "Name: city, dtype: int64"
            ]
          },
          "metadata": {},
          "execution_count": 22
        }
      ]
    },
    {
      "cell_type": "code",
      "source": [
        "#상관계수 확인 - corr() 숫자 확인\n",
        "\n",
        "corr_matrix = train.corr()\n",
        "corr_matrix['transaction_real_price'].sort_values(ascending=False)"
      ],
      "metadata": {
        "colab": {
          "base_uri": "https://localhost:8080/"
        },
        "id": "PI4KeqSD3YJs",
        "outputId": "aa1b586f-f199-4557-8cac-0d8a2d294e68"
      },
      "execution_count": 23,
      "outputs": [
        {
          "output_type": "execute_result",
          "data": {
            "text/plain": [
              "transaction_real_price    1.000000\n",
              "exclusive_use_area        0.561563\n",
              "city                      0.440886\n",
              "transaction_year_month    0.183910\n",
              "floor                     0.112278\n",
              "year_of_completion        0.052656\n",
              "apartment_id              0.017576\n",
              "transaction_id           -0.120734\n",
              "Name: transaction_real_price, dtype: float64"
            ]
          },
          "metadata": {},
          "execution_count": 23
        }
      ]
    },
    {
      "cell_type": "code",
      "source": [
        "#상관계수 확인 - scatter_matrix 시각화\n",
        "\n",
        "attributes = ['transaction_real_price', 'exclusive_use_area', 'city']\n",
        "scatter_matrix(train[attributes], figsize=(12,8))"
      ],
      "metadata": {
        "colab": {
          "base_uri": "https://localhost:8080/",
          "height": 639
        },
        "id": "InRVM88k315A",
        "outputId": "f5ae1664-d55c-4a99-d5a3-a0e11a9fad6a"
      },
      "execution_count": 24,
      "outputs": [
        {
          "output_type": "execute_result",
          "data": {
            "text/plain": [
              "array([[<matplotlib.axes._subplots.AxesSubplot object at 0x7fa9836c2e50>,\n",
              "        <matplotlib.axes._subplots.AxesSubplot object at 0x7fa9836c2310>,\n",
              "        <matplotlib.axes._subplots.AxesSubplot object at 0x7fa9836718d0>],\n",
              "       [<matplotlib.axes._subplots.AxesSubplot object at 0x7fa983626ed0>,\n",
              "        <matplotlib.axes._subplots.AxesSubplot object at 0x7fa9835e9510>,\n",
              "        <matplotlib.axes._subplots.AxesSubplot object at 0x7fa98359dad0>],\n",
              "       [<matplotlib.axes._subplots.AxesSubplot object at 0x7fa983553fd0>,\n",
              "        <matplotlib.axes._subplots.AxesSubplot object at 0x7fa983516710>,\n",
              "        <matplotlib.axes._subplots.AxesSubplot object at 0x7fa9834cba10>]],\n",
              "      dtype=object)"
            ]
          },
          "metadata": {},
          "execution_count": 24
        },
        {
          "output_type": "display_data",
          "data": {
            "image/png": "[encoded data removed]",
            "text/plain": [
              "<Figure size 864x576 with 9 Axes>"
            ]
          },
          "metadata": {
            "needs_background": "light"
          }
        }
      ]
    },
    {
      "cell_type": "markdown",
      "source": [
        "나머지 값들 사이에는 큰 관계 없는걸 볼 수 있고, 대각선은 그냥 각각의 히스토그램을 보여준거고, 맨 윗줄을 봐야하는데 exclusize_use_area가 약간의 선형성을 보여주고있음! \n",
        "city는 당연히 서울이 비쌀수밖에 없고,, "
      ],
      "metadata": {
        "id": "UVnvMbns4icd"
      }
    },
    {
      "cell_type": "code",
      "source": [
        "train.plot(kind='scatter', x='exclusive_use_area', y='transaction_real_price',\n",
        "           alpha=0.1)"
      ],
      "metadata": {
        "colab": {
          "base_uri": "https://localhost:8080/",
          "height": 297
        },
        "id": "aV-iSEsk45Mh",
        "outputId": "85f8285b-a1d9-429c-f3ca-f0e8ec32b487"
      },
      "execution_count": 25,
      "outputs": [
        {
          "output_type": "execute_result",
          "data": {
            "text/plain": [
              "<matplotlib.axes._subplots.AxesSubplot at 0x7fa983339550>"
            ]
          },
          "metadata": {},
          "execution_count": 25
        },
        {
          "output_type": "display_data",
          "data": {
            "image/png": "[encoded data removed]",
            "text/plain": [
              "<Figure size 432x288 with 1 Axes>"
            ]
          },
          "metadata": {
            "needs_background": "light"
          }
        }
      ]
    },
    {
      "cell_type": "markdown",
      "source": [
        "# 데이터 전처리"
      ],
      "metadata": {
        "id": "vyFfYvMWzX-7"
      }
    },
    {
      "cell_type": "markdown",
      "source": [
        "### apt"
      ],
      "metadata": {
        "id": "Ro80hEDGBUHm"
      }
    },
    {
      "cell_type": "code",
      "source": [
        "#다시 데이터를 확인해보자.\n",
        "#exclusive_use_area가 유의미한 관계를 보인다는것 확인했고, city도 나름의 관계가 있었음. \n",
        "#적절한 특성 조합을 생각해보자!\n",
        "\n",
        "train.apt.value_counts()"
      ],
      "metadata": {
        "colab": {
          "base_uri": "https://localhost:8080/"
        },
        "id": "SJ6XRUGizXkH",
        "outputId": "f60a38ca-7301-4371-c2b8-4da694cd2b20"
      },
      "execution_count": 26,
      "outputs": [
        {
          "output_type": "execute_result",
          "data": {
            "text/plain": [
              "현대         13154\n",
              "한신          9766\n",
              "삼성          6729\n",
              "대우          6216\n",
              "신동아         5851\n",
              "           ...  \n",
              "(749-6)        1\n",
              "메가트리움          1\n",
              "애오개아이파크        1\n",
              "예성그린           1\n",
              "로미아트빌          1\n",
              "Name: apt, Length: 10440, dtype: int64"
            ]
          },
          "metadata": {},
          "execution_count": 26
        }
      ]
    },
    {
      "cell_type": "markdown",
      "source": [
        "apt 변수를 보자. 아파트 101동과 102동 간 가격 차이가 클까? -> 확인"
      ],
      "metadata": {
        "id": "hN7GP3SS6VS9"
      }
    },
    {
      "cell_type": "code",
      "source": [
        "#괄호, 괄호 내의 내용을 제거\n",
        "regex = \"\\(.*\\)|\\s-\\s.*\"\n",
        "for i in tqdm(range(len(train))):\n",
        "  train.at[i,'apt'] = re.sub(regex, '', train.at[i,'apt'])\n",
        "for i in tqdm(range(len(test))):\n",
        "  test.at[i,'apt'] = re.sub(regex, '', test.at[i,'apt'])"
      ],
      "metadata": {
        "colab": {
          "base_uri": "https://localhost:8080/"
        },
        "id": "szOsy-W26L8i",
        "outputId": "4e2c0d56-c117-4fba-ef38-0e0932761736"
      },
      "execution_count": 27,
      "outputs": [
        {
          "output_type": "stream",
          "name": "stderr",
          "text": [
            "100%|██████████| 1216553/1216553 [00:47<00:00, 25814.61it/s]\n",
            "100%|██████████| 5463/5463 [00:00<00:00, 56686.94it/s]\n"
          ]
        }
      ]
    },
    {
      "cell_type": "code",
      "source": [
        "train['apt'].value_counts()[:20]"
      ],
      "metadata": {
        "colab": {
          "base_uri": "https://localhost:8080/"
        },
        "id": "CyCZ3bsS6XWI",
        "outputId": "fbe7a33d-3663-47ed-ca1c-c2f39414ea3a"
      },
      "execution_count": 28,
      "outputs": [
        {
          "output_type": "execute_result",
          "data": {
            "text/plain": [
              "현대        17716\n",
              "한신        10135\n",
              "삼성         6771\n",
              "대우         6390\n",
              "신동아        6386\n",
              "두산         5801\n",
              "우성         5781\n",
              "주공2        5669\n",
              "삼성래미안      5483\n",
              "벽산         4651\n",
              "대림         4582\n",
              "동원로얄듀크     4430\n",
              "경남         4030\n",
              "삼환         3896\n",
              "극동         3771\n",
              "삼익         3583\n",
              "롯데캐슬       3570\n",
              "쌍용         3409\n",
              "코오롱        3320\n",
              "한양         3231\n",
              "Name: apt, dtype: int64"
            ]
          },
          "metadata": {},
          "execution_count": 28
        }
      ]
    },
    {
      "cell_type": "markdown",
      "source": [
        "아파트 많은 순서대로 정렬됨!\n",
        "전체 데이터에서 생각보다 많은 아파트가 겹친다. 아파트 별로 몇 채가 있는지 나타내는 변수를 생성하자."
      ],
      "metadata": {
        "id": "Ucr8C21C7C-s"
      }
    },
    {
      "cell_type": "code",
      "source": [
        "#같은 아파트 이름을 갖는 수로 새로운 피쳐 생성\n",
        "\n",
        "train['apt_counts'] = 0\n",
        "\n",
        "train.groupby('apt')['apt_counts'].count()\n",
        "train = pd.merge(train, train.groupby('apt')['apt_counts'].count(),\n",
        "                 on='apt', how='left').drop('apt_counts_x',axis=1).rename(columns={'apt_counts_y':'apt_counts'})\n",
        "\n",
        "test['apt_counts'] = 0\n",
        "\n",
        "test.groupby('apt')['apt_counts'].count()\n",
        "test = pd.merge(test, test.groupby('apt')['apt_counts'].count(),\n",
        "                 on='apt', how='left').drop('apt_counts_x',axis=1).rename(columns={'apt_counts_y':'apt_counts'})\n",
        "\n",
        "          "
      ],
      "metadata": {
        "id": "qX_SwsPj7BU8"
      },
      "execution_count": 29,
      "outputs": []
    },
    {
      "cell_type": "code",
      "source": [
        "train.info()"
      ],
      "metadata": {
        "colab": {
          "base_uri": "https://localhost:8080/"
        },
        "id": "gyGgSUSf7xdf",
        "outputId": "1bdecde9-5218-428d-8914-a127360fd9d7"
      },
      "execution_count": 30,
      "outputs": [
        {
          "output_type": "stream",
          "name": "stdout",
          "text": [
            "<class 'pandas.core.frame.DataFrame'>\n",
            "Int64Index: 1216553 entries, 0 to 1216552\n",
            "Data columns (total 14 columns):\n",
            " #   Column                  Non-Null Count    Dtype  \n",
            "---  ------                  --------------    -----  \n",
            " 0   transaction_id          1216553 non-null  int64  \n",
            " 1   apartment_id            1216553 non-null  int64  \n",
            " 2   city                    1216553 non-null  float64\n",
            " 3   dong                    1216553 non-null  object \n",
            " 4   jibun                   1216553 non-null  object \n",
            " 5   apt                     1216553 non-null  object \n",
            " 6   addr_kr                 1216553 non-null  object \n",
            " 7   exclusive_use_area      1216553 non-null  float64\n",
            " 8   year_of_completion      1216553 non-null  int64  \n",
            " 9   transaction_year_month  1216553 non-null  int64  \n",
            " 10  transaction_date        1216553 non-null  object \n",
            " 11  floor                   1216553 non-null  int64  \n",
            " 12  transaction_real_price  1216553 non-null  int64  \n",
            " 13  apt_counts              1216553 non-null  int64  \n",
            "dtypes: float64(2), int64(7), object(5)\n",
            "memory usage: 139.2+ MB\n"
          ]
        }
      ]
    },
    {
      "cell_type": "markdown",
      "source": [
        "새로운 변수가 추가된 것을 볼 수 있음.\n",
        "1개인 데이터들도 존재함. -> 아파트 이름이 비슷한 경우는 다 하나로 묶는게 나을듯! 가장 많이 나오는 아파트 상위 50개를 선정해 묶고, 나머지는 others로 처리해보자."
      ],
      "metadata": {
        "id": "WrHVnAu6705u"
      }
    },
    {
      "cell_type": "code",
      "source": [
        "#데이터에 가장 많이 나오는 아파트의 리스트\n",
        "\n",
        "apt_list = train.apt.value_counts()\n",
        "type(apt_list) #시리즈를 데이터프레임으로 변환"
      ],
      "metadata": {
        "colab": {
          "base_uri": "https://localhost:8080/"
        },
        "id": "u7EJjgPb7y12",
        "outputId": "8fbaa30e-ca95-413c-81b4-3e1fdc06ff85"
      },
      "execution_count": 31,
      "outputs": [
        {
          "output_type": "execute_result",
          "data": {
            "text/plain": [
              "pandas.core.series.Series"
            ]
          },
          "metadata": {},
          "execution_count": 31
        }
      ]
    },
    {
      "cell_type": "code",
      "source": [
        "apt_frame = pd.DataFrame(apt_list)\n",
        "apt_frame = apt_frame[:50]"
      ],
      "metadata": {
        "id": "gefmxbjU83EZ"
      },
      "execution_count": 32,
      "outputs": []
    },
    {
      "cell_type": "code",
      "source": [
        "apt_name = [ name for name in apt_frame.index]\n",
        "apt_name"
      ],
      "metadata": {
        "colab": {
          "base_uri": "https://localhost:8080/"
        },
        "id": "t1Ss12FO9LW5",
        "outputId": "585ca43b-e9ae-4dc2-89aa-0f7790629c91"
      },
      "execution_count": 33,
      "outputs": [
        {
          "output_type": "execute_result",
          "data": {
            "text/plain": [
              "['현대',\n",
              " '한신',\n",
              " '삼성',\n",
              " '대우',\n",
              " '신동아',\n",
              " '두산',\n",
              " '우성',\n",
              " '주공2',\n",
              " '삼성래미안',\n",
              " '벽산',\n",
              " '대림',\n",
              " '동원로얄듀크',\n",
              " '경남',\n",
              " '삼환',\n",
              " '극동',\n",
              " '삼익',\n",
              " '롯데캐슬',\n",
              " '쌍용',\n",
              " '코오롱',\n",
              " '한양',\n",
              " '오륙도에스케이뷰',\n",
              " '성원',\n",
              " '파크리오',\n",
              " '청구',\n",
              " '몰운대',\n",
              " '동아',\n",
              " '경남아너스빌',\n",
              " '현대3',\n",
              " '삼정그린코아',\n",
              " '대림e-편한세상',\n",
              " '에스케이북한산시티',\n",
              " '다대동롯데캐슬몰운대',\n",
              " '주공5',\n",
              " '한진',\n",
              " '현대1',\n",
              " '미성',\n",
              " '엘지메트로시티1',\n",
              " '개포주공 1단지',\n",
              " '한일유앤아이',\n",
              " '삼익비치',\n",
              " '롯데낙천대',\n",
              " '사직쌍용예가',\n",
              " '중앙하이츠',\n",
              " '개금주공2',\n",
              " '잠실엘스',\n",
              " '리센츠',\n",
              " '중계그린1단지',\n",
              " '관악드림',\n",
              " '롯데',\n",
              " '쌍용스윗닷홈']"
            ]
          },
          "metadata": {},
          "execution_count": 33
        }
      ]
    },
    {
      "cell_type": "code",
      "source": [
        "#아파트 이름이 apt_name에 들어가지 않으면, 아파트 명을 others로 변경\n",
        "\n",
        "train['transformed'] = False\n",
        "test['transformed'] = False\n",
        "\n",
        "for a in tqdm(apt_name):\n",
        "  train.loc[train['apt'].str.contains(a),'apt'] = a\n",
        "  test.loc[test['apt'].str.contains(a), 'apt'] = a\n",
        "  train.loc[train['apt'].str.contains(a), 'transformed'] = True\n",
        "  test.loc[test['apt'].str.contains(a), 'transformed'] = True\n",
        "\n",
        "for a in tqdm(apt_name):\n",
        "  train.loc[~train['transformed'], 'apt'] = 'others'\n",
        "  test.loc[~test['transformed'],'apt'] = 'others'"
      ],
      "metadata": {
        "colab": {
          "base_uri": "https://localhost:8080/"
        },
        "id": "t-7fyIr79srj",
        "outputId": "ed1e0a17-5eb0-4774-804d-cef9d42b5137"
      },
      "execution_count": 34,
      "outputs": [
        {
          "output_type": "stream",
          "name": "stderr",
          "text": [
            "100%|██████████| 50/50 [00:53<00:00,  1.06s/it]\n",
            "100%|██████████| 50/50 [00:01<00:00, 29.70it/s]\n"
          ]
        }
      ]
    },
    {
      "cell_type": "code",
      "source": [
        "#다시 데이터 확인\n",
        "train['apt'].value_counts()"
      ],
      "metadata": {
        "colab": {
          "base_uri": "https://localhost:8080/"
        },
        "id": "XiBroqjo-shO",
        "outputId": "4b9d6cb5-ea42-451f-ed33-527781e8e6f0"
      },
      "execution_count": 35,
      "outputs": [
        {
          "output_type": "execute_result",
          "data": {
            "text/plain": [
              "others       730241\n",
              "현대            84894\n",
              "롯데            33190\n",
              "삼성            32828\n",
              "한신            27481\n",
              "벽산            26968\n",
              "동아            26162\n",
              "우성            24524\n",
              "대림            24063\n",
              "두산            19501\n",
              "대우            19035\n",
              "삼익            18708\n",
              "쌍용            16612\n",
              "경남            10800\n",
              "극동             9925\n",
              "주공2            9912\n",
              "한양             9376\n",
              "한진             8625\n",
              "청구             8618\n",
              "코오롱            8602\n",
              "성원             7601\n",
              "삼환             6073\n",
              "동원로얄듀크         6070\n",
              "중앙하이츠          5559\n",
              "미성             4725\n",
              "삼정그린코아         4661\n",
              "한일유앤아이         3558\n",
              "오륙도에스케이뷰       3220\n",
              "파크리오           3094\n",
              "주공5            2977\n",
              "몰운대            2886\n",
              "에스케이북한산시티      2572\n",
              "엘지메트로시티1       2359\n",
              "개포주공 1단지       2356\n",
              "잠실엘스           2258\n",
              "리센츠            2234\n",
              "중계그린1단지        2175\n",
              "관악드림           2110\n",
              "Name: apt, dtype: int64"
            ]
          },
          "metadata": {},
          "execution_count": 35
        }
      ]
    },
    {
      "cell_type": "markdown",
      "source": [
        "깔끔하게~정리되엇답니다? _ 각 아파트의 평균 가격 보고, 내림차순 라벨 인코딩"
      ],
      "metadata": {
        "id": "j5pT4JpsAWYW"
      }
    },
    {
      "cell_type": "code",
      "source": [
        "apt_price = train.groupby('apt')['transaction_real_price'].agg('mean').sort_values(ascending=False)\n",
        "print('변환전\\n', apt_price[:5])\n",
        "\n",
        "for i, a in enumerate(list(apt_price.index)):\n",
        "  train.loc[train['apt']==a, 'apt'] = i #라벨인코딩\n",
        "  test.loc[test['apt'] ==a, 'apt'] = i\n",
        "\n",
        "apt_price = train.groupby('apt')['transaction_real_price'].agg('mean').sort_values(ascending=False)\n",
        "print('변환후\\n', apt_price[:5])"
      ],
      "metadata": {
        "colab": {
          "base_uri": "https://localhost:8080/"
        },
        "id": "f-swAmwP-6hb",
        "outputId": "377ec060-f190-4461-8ea7-21fcedf059cb"
      },
      "execution_count": 36,
      "outputs": [
        {
          "output_type": "stream",
          "name": "stdout",
          "text": [
            "변환전\n",
            " apt\n",
            "잠실엘스        96498.002657\n",
            "리센츠         92961.140555\n",
            "파크리오        88739.646736\n",
            "개포주공 1단지    88516.395161\n",
            "삼성          47598.025557\n",
            "Name: transaction_real_price, dtype: float64\n",
            "변환후\n",
            " apt\n",
            "0    96498.002657\n",
            "1    92961.140555\n",
            "2    88739.646736\n",
            "3    88516.395161\n",
            "4    47598.025557\n",
            "Name: transaction_real_price, dtype: float64\n"
          ]
        }
      ]
    },
    {
      "cell_type": "markdown",
      "source": [
        "### date"
      ],
      "metadata": {
        "id": "pEQTYXRqBVuw"
      }
    },
    {
      "cell_type": "code",
      "source": [
        "train.head(2)"
      ],
      "metadata": {
        "colab": {
          "base_uri": "https://localhost:8080/",
          "height": 246
        },
        "id": "fFwc5ReYAvqM",
        "outputId": "f687bbce-aa5f-4ff3-d663-a084d012cab3"
      },
      "execution_count": 37,
      "outputs": [
        {
          "output_type": "execute_result",
          "data": {
            "text/html": [
              "\n",
              "  <div id=\"df-558890d8-c725-4c2a-b7a3-722de309d409\">\n",
              "    <div class=\"colab-df-container\">\n",
              "      <div>\n",
              "<style scoped>\n",
              "    .dataframe tbody tr th:only-of-type {\n",
              "        vertical-align: middle;\n",
              "    }\n",
              "\n",
              "    .dataframe tbody tr th {\n",
              "        vertical-align: top;\n",
              "    }\n",
              "\n",
              "    .dataframe thead th {\n",
              "        text-align: right;\n",
              "    }\n",
              "</style>\n",
              "<table border=\"1\" class=\"dataframe\">\n",
              "  <thead>\n",
              "    <tr style=\"text-align: right;\">\n",
              "      <th></th>\n",
              "      <th>transaction_id</th>\n",
              "      <th>apartment_id</th>\n",
              "      <th>city</th>\n",
              "      <th>dong</th>\n",
              "      <th>jibun</th>\n",
              "      <th>apt</th>\n",
              "      <th>addr_kr</th>\n",
              "      <th>exclusive_use_area</th>\n",
              "      <th>year_of_completion</th>\n",
              "      <th>transaction_year_month</th>\n",
              "      <th>transaction_date</th>\n",
              "      <th>floor</th>\n",
              "      <th>transaction_real_price</th>\n",
              "      <th>apt_counts</th>\n",
              "      <th>transformed</th>\n",
              "    </tr>\n",
              "  </thead>\n",
              "  <tbody>\n",
              "    <tr>\n",
              "      <th>0</th>\n",
              "      <td>0</td>\n",
              "      <td>7622</td>\n",
              "      <td>1.0</td>\n",
              "      <td>신교동</td>\n",
              "      <td>6-13</td>\n",
              "      <td>17</td>\n",
              "      <td>신교동 6-13 신현(101동)</td>\n",
              "      <td>84.82</td>\n",
              "      <td>2002</td>\n",
              "      <td>200801</td>\n",
              "      <td>21~31</td>\n",
              "      <td>2</td>\n",
              "      <td>37500</td>\n",
              "      <td>13</td>\n",
              "      <td>False</td>\n",
              "    </tr>\n",
              "    <tr>\n",
              "      <th>1</th>\n",
              "      <td>1</td>\n",
              "      <td>5399</td>\n",
              "      <td>1.0</td>\n",
              "      <td>필운동</td>\n",
              "      <td>142</td>\n",
              "      <td>17</td>\n",
              "      <td>필운동 142 사직파크맨션</td>\n",
              "      <td>99.17</td>\n",
              "      <td>1973</td>\n",
              "      <td>200801</td>\n",
              "      <td>1~10</td>\n",
              "      <td>6</td>\n",
              "      <td>20000</td>\n",
              "      <td>1</td>\n",
              "      <td>False</td>\n",
              "    </tr>\n",
              "  </tbody>\n",
              "</table>\n",
              "</div>\n",
              "      <button class=\"colab-df-convert\" onclick=\"convertToInteractive('df-558890d8-c725-4c2a-b7a3-722de309d409')\"\n",
              "              title=\"Convert this dataframe to an interactive table.\"\n",
              "              style=\"display:none;\">\n",
              "        \n",
              "  <svg xmlns=\"http://www.w3.org/2000/svg\" height=\"24px\"viewBox=\"0 0 24 24\"\n",
              "       width=\"24px\">\n",
              "    <path d=\"M0 0h24v24H0V0z\" fill=\"none\"/>\n",
              "    <path d=\"M18.56 5.44l.94 2.06.94-2.06 2.06-.94-2.06-.94-.94-2.06-.94 2.06-2.06.94zm-11 1L8.5 8.5l.94-2.06 2.06-.94-2.06-.94L8.5 2.5l-.94 2.06-2.06.94zm10 10l.94 2.06.94-2.06 2.06-.94-2.06-.94-.94-2.06-.94 2.06-2.06.94z\"/><path d=\"M17.41 7.96l-1.37-1.37c-.4-.4-.92-.59-1.43-.59-.52 0-1.04.2-1.43.59L10.3 9.45l-7.72 7.72c-.78.78-.78 2.05 0 2.83L4 21.41c.39.39.9.59 1.41.59.51 0 1.02-.2 1.41-.59l7.78-7.78 2.81-2.81c.8-.78.8-2.07 0-2.86zM5.41 20L4 18.59l7.72-7.72 1.47 1.35L5.41 20z\"/>\n",
              "  </svg>\n",
              "      </button>\n",
              "      \n",
              "  <style>\n",
              "    .colab-df-container {\n",
              "      display:flex;\n",
              "      flex-wrap:wrap;\n",
              "      gap: 12px;\n",
              "    }\n",
              "\n",
              "    .colab-df-convert {\n",
              "      background-color: #E8F0FE;\n",
              "      border: none;\n",
              "      border-radius: 50%;\n",
              "      cursor: pointer;\n",
              "      display: none;\n",
              "      fill: #1967D2;\n",
              "      height: 32px;\n",
              "      padding: 0 0 0 0;\n",
              "      width: 32px;\n",
              "    }\n",
              "\n",
              "    .colab-df-convert:hover {\n",
              "      background-color: #E2EBFA;\n",
              "      box-shadow: 0px 1px 2px rgba(60, 64, 67, 0.3), 0px 1px 3px 1px rgba(60, 64, 67, 0.15);\n",
              "      fill: #174EA6;\n",
              "    }\n",
              "\n",
              "    [theme=dark] .colab-df-convert {\n",
              "      background-color: #3B4455;\n",
              "      fill: #D2E3FC;\n",
              "    }\n",
              "\n",
              "    [theme=dark] .colab-df-convert:hover {\n",
              "      background-color: #434B5C;\n",
              "      box-shadow: 0px 1px 3px 1px rgba(0, 0, 0, 0.15);\n",
              "      filter: drop-shadow(0px 1px 2px rgba(0, 0, 0, 0.3));\n",
              "      fill: #FFFFFF;\n",
              "    }\n",
              "  </style>\n",
              "\n",
              "      <script>\n",
              "        const buttonEl =\n",
              "          document.querySelector('#df-558890d8-c725-4c2a-b7a3-722de309d409 button.colab-df-convert');\n",
              "        buttonEl.style.display =\n",
              "          google.colab.kernel.accessAllowed ? 'block' : 'none';\n",
              "\n",
              "        async function convertToInteractive(key) {\n",
              "          const element = document.querySelector('#df-558890d8-c725-4c2a-b7a3-722de309d409');\n",
              "          const dataTable =\n",
              "            await google.colab.kernel.invokeFunction('convertToInteractive',\n",
              "                                                     [key], {});\n",
              "          if (!dataTable) return;\n",
              "\n",
              "          const docLinkHtml = 'Like what you see? Visit the ' +\n",
              "            '<a target=\"_blank\" href=https://colab.research.google.com/notebooks/data_table.ipynb>data table notebook</a>'\n",
              "            + ' to learn more about interactive tables.';\n",
              "          element.innerHTML = '';\n",
              "          dataTable['output_type'] = 'display_data';\n",
              "          await google.colab.output.renderOutput(dataTable, element);\n",
              "          const docLink = document.createElement('div');\n",
              "          docLink.innerHTML = docLinkHtml;\n",
              "          element.appendChild(docLink);\n",
              "        }\n",
              "      </script>\n",
              "    </div>\n",
              "  </div>\n",
              "  "
            ],
            "text/plain": [
              "   transaction_id  apartment_id  ...  apt_counts transformed\n",
              "0               0          7622  ...          13       False\n",
              "1               1          5399  ...           1       False\n",
              "\n",
              "[2 rows x 15 columns]"
            ]
          },
          "metadata": {},
          "execution_count": 37
        }
      ]
    },
    {
      "cell_type": "markdown",
      "source": [
        "year_of_completion, transaction_year_month, transaction_date : 날짜 관련 컬럼들"
      ],
      "metadata": {
        "id": "LQ4K8pAWSk2e"
      }
    },
    {
      "cell_type": "code",
      "source": [
        "print(min(train.year_of_completion))\n",
        "print(max(train.year_of_completion))"
      ],
      "metadata": {
        "colab": {
          "base_uri": "https://localhost:8080/"
        },
        "id": "tGoR9NIkBmub",
        "outputId": "28896772-ff5d-4da9-d281-cfa803a57a97"
      },
      "execution_count": 38,
      "outputs": [
        {
          "output_type": "stream",
          "name": "stdout",
          "text": [
            "1961\n",
            "2017\n"
          ]
        }
      ]
    },
    {
      "cell_type": "code",
      "source": [
        "print(min(train.transaction_year_month))\n",
        "print(max(train.transaction_year_month))"
      ],
      "metadata": {
        "colab": {
          "base_uri": "https://localhost:8080/"
        },
        "id": "AkGsD9wZBsXq",
        "outputId": "d195739e-fe51-486b-c641-6006e14fd770"
      },
      "execution_count": 39,
      "outputs": [
        {
          "output_type": "stream",
          "name": "stdout",
          "text": [
            "200801\n",
            "201711\n"
          ]
        }
      ]
    },
    {
      "cell_type": "code",
      "source": [
        "test_start = train.loc[train['transaction_year_month'] == 201701, 'transaction_year_month'].index[0]"
      ],
      "metadata": {
        "id": "3UFwEqA36C8D"
      },
      "execution_count": 40,
      "outputs": []
    },
    {
      "cell_type": "markdown",
      "source": [
        "각각의 최대연도에서 최소연도를 빼면 정수형 라벨인코딩 가능! (따로 희소행렬이나, 원핫인코딩을 진행하지 않고 그냥 라벨인코딩만)\n",
        "\n",
        "test data는 라벨인코딩을 할 때 주의해야 함. 거래연월이 2017년만 있기 때문에, 라벨 인코딩 값이 달라짐\n",
        "\n",
        "test는 거래연월에서 2017을 뺀 값에서, 201701의 인코딩 값을 더해주는 과정을 거쳐야 함.\n"
      ],
      "metadata": {
        "id": "74tYAB0ISn5U"
      }
    },
    {
      "cell_type": "code",
      "source": [
        "#완공연도 - 최소연도 빼서 완공연도 라벨인코딩\n",
        "print('변환전\\n', train['year_of_completion'].unique()[:5])\n",
        "train['year_of_completion'] = train['year_of_completion'] - train['year_of_completion'].min()\n",
        "test['year_of_completion'] = test['year_of_completion'] - test['year_of_completion'].min()\n",
        "print('변환후\\n', train['year_of_completion'].unique()[:5])\n",
        "\n",
        "# 연월 증가하는 순으로 라벨 인코딩\n",
        "print('train 변환전\\n', train['transaction_year_month'].unique()[:5])\n",
        "print('test 변환전\\n', test['transaction_year_month'].unique()[:5])\n",
        "le = LabelEncoder()\n",
        "train['transaction_year_month'] = le.fit_transform(train['transaction_year_month'])\n",
        "\n",
        "# test는 다음과 같이 처리\n",
        "test['transaction_year_month'] = test['transaction_year_month'] - test['transaction_year_month'].min() + train.at[test_start, 'transaction_year_month']\n",
        "print('train 변환후\\n', train['transaction_year_month'].unique()[:5])\n",
        "print('test 변환후\\n', test['transaction_year_month'].unique()[:5])"
      ],
      "metadata": {
        "colab": {
          "base_uri": "https://localhost:8080/"
        },
        "id": "7jRXp7EsClpw",
        "outputId": "a1f18b4b-723c-4911-bbbd-d0157417bbcd"
      },
      "execution_count": 41,
      "outputs": [
        {
          "output_type": "stream",
          "name": "stdout",
          "text": [
            "변환전\n",
            " [2002 1973 2007 2003 2004]\n",
            "변환후\n",
            " [41 12 46 42 43]\n",
            "train 변환전\n",
            " [200801 200802 200803 200804 200805]\n",
            "test 변환전\n",
            " [201711 201708 201710 201707 201712]\n",
            "train 변환후\n",
            " [0 1 2 3 4]\n",
            "test 변환후\n",
            " [118 115 117 114 119]\n"
          ]
        }
      ]
    },
    {
      "cell_type": "code",
      "source": [
        "# 필요없는 열 제거\n",
        "train = train.drop(['jibun', 'transaction_date', 'addr_kr'], axis=1)\n",
        "test = test.drop(['jibun', 'transaction_date', 'addr_kr'], axis=1)"
      ],
      "metadata": {
        "id": "0e8MlKznDne-"
      },
      "execution_count": 42,
      "outputs": []
    },
    {
      "cell_type": "code",
      "source": [
        "train.head(5)"
      ],
      "metadata": {
        "colab": {
          "base_uri": "https://localhost:8080/",
          "height": 357
        },
        "id": "iLo3CM8QC2aX",
        "outputId": "a9ebf6a6-1ed3-4c3c-9a17-357d7022838c"
      },
      "execution_count": 43,
      "outputs": [
        {
          "output_type": "execute_result",
          "data": {
            "text/html": [
              "\n",
              "  <div id=\"df-639f39bc-969e-4da4-9f31-d3a554c8f07e\">\n",
              "    <div class=\"colab-df-container\">\n",
              "      <div>\n",
              "<style scoped>\n",
              "    .dataframe tbody tr th:only-of-type {\n",
              "        vertical-align: middle;\n",
              "    }\n",
              "\n",
              "    .dataframe tbody tr th {\n",
              "        vertical-align: top;\n",
              "    }\n",
              "\n",
              "    .dataframe thead th {\n",
              "        text-align: right;\n",
              "    }\n",
              "</style>\n",
              "<table border=\"1\" class=\"dataframe\">\n",
              "  <thead>\n",
              "    <tr style=\"text-align: right;\">\n",
              "      <th></th>\n",
              "      <th>transaction_id</th>\n",
              "      <th>apartment_id</th>\n",
              "      <th>city</th>\n",
              "      <th>dong</th>\n",
              "      <th>apt</th>\n",
              "      <th>exclusive_use_area</th>\n",
              "      <th>year_of_completion</th>\n",
              "      <th>transaction_year_month</th>\n",
              "      <th>floor</th>\n",
              "      <th>transaction_real_price</th>\n",
              "      <th>apt_counts</th>\n",
              "      <th>transformed</th>\n",
              "    </tr>\n",
              "  </thead>\n",
              "  <tbody>\n",
              "    <tr>\n",
              "      <th>0</th>\n",
              "      <td>0</td>\n",
              "      <td>7622</td>\n",
              "      <td>1.0</td>\n",
              "      <td>신교동</td>\n",
              "      <td>17</td>\n",
              "      <td>84.82</td>\n",
              "      <td>41</td>\n",
              "      <td>0</td>\n",
              "      <td>2</td>\n",
              "      <td>37500</td>\n",
              "      <td>13</td>\n",
              "      <td>False</td>\n",
              "    </tr>\n",
              "    <tr>\n",
              "      <th>1</th>\n",
              "      <td>1</td>\n",
              "      <td>5399</td>\n",
              "      <td>1.0</td>\n",
              "      <td>필운동</td>\n",
              "      <td>17</td>\n",
              "      <td>99.17</td>\n",
              "      <td>12</td>\n",
              "      <td>0</td>\n",
              "      <td>6</td>\n",
              "      <td>20000</td>\n",
              "      <td>1</td>\n",
              "      <td>False</td>\n",
              "    </tr>\n",
              "    <tr>\n",
              "      <th>2</th>\n",
              "      <td>2</td>\n",
              "      <td>3578</td>\n",
              "      <td>1.0</td>\n",
              "      <td>필운동</td>\n",
              "      <td>17</td>\n",
              "      <td>84.74</td>\n",
              "      <td>46</td>\n",
              "      <td>0</td>\n",
              "      <td>6</td>\n",
              "      <td>38500</td>\n",
              "      <td>13</td>\n",
              "      <td>False</td>\n",
              "    </tr>\n",
              "    <tr>\n",
              "      <th>3</th>\n",
              "      <td>3</td>\n",
              "      <td>10957</td>\n",
              "      <td>1.0</td>\n",
              "      <td>내수동</td>\n",
              "      <td>17</td>\n",
              "      <td>146.39</td>\n",
              "      <td>42</td>\n",
              "      <td>0</td>\n",
              "      <td>15</td>\n",
              "      <td>118000</td>\n",
              "      <td>55</td>\n",
              "      <td>False</td>\n",
              "    </tr>\n",
              "    <tr>\n",
              "      <th>4</th>\n",
              "      <td>4</td>\n",
              "      <td>10639</td>\n",
              "      <td>1.0</td>\n",
              "      <td>내수동</td>\n",
              "      <td>17</td>\n",
              "      <td>194.43</td>\n",
              "      <td>43</td>\n",
              "      <td>0</td>\n",
              "      <td>3</td>\n",
              "      <td>120000</td>\n",
              "      <td>15</td>\n",
              "      <td>False</td>\n",
              "    </tr>\n",
              "  </tbody>\n",
              "</table>\n",
              "</div>\n",
              "      <button class=\"colab-df-convert\" onclick=\"convertToInteractive('df-639f39bc-969e-4da4-9f31-d3a554c8f07e')\"\n",
              "              title=\"Convert this dataframe to an interactive table.\"\n",
              "              style=\"display:none;\">\n",
              "        \n",
              "  <svg xmlns=\"http://www.w3.org/2000/svg\" height=\"24px\"viewBox=\"0 0 24 24\"\n",
              "       width=\"24px\">\n",
              "    <path d=\"M0 0h24v24H0V0z\" fill=\"none\"/>\n",
              "    <path d=\"M18.56 5.44l.94 2.06.94-2.06 2.06-.94-2.06-.94-.94-2.06-.94 2.06-2.06.94zm-11 1L8.5 8.5l.94-2.06 2.06-.94-2.06-.94L8.5 2.5l-.94 2.06-2.06.94zm10 10l.94 2.06.94-2.06 2.06-.94-2.06-.94-.94-2.06-.94 2.06-2.06.94z\"/><path d=\"M17.41 7.96l-1.37-1.37c-.4-.4-.92-.59-1.43-.59-.52 0-1.04.2-1.43.59L10.3 9.45l-7.72 7.72c-.78.78-.78 2.05 0 2.83L4 21.41c.39.39.9.59 1.41.59.51 0 1.02-.2 1.41-.59l7.78-7.78 2.81-2.81c.8-.78.8-2.07 0-2.86zM5.41 20L4 18.59l7.72-7.72 1.47 1.35L5.41 20z\"/>\n",
              "  </svg>\n",
              "      </button>\n",
              "      \n",
              "  <style>\n",
              "    .colab-df-container {\n",
              "      display:flex;\n",
              "      flex-wrap:wrap;\n",
              "      gap: 12px;\n",
              "    }\n",
              "\n",
              "    .colab-df-convert {\n",
              "      background-color: #E8F0FE;\n",
              "      border: none;\n",
              "      border-radius: 50%;\n",
              "      cursor: pointer;\n",
              "      display: none;\n",
              "      fill: #1967D2;\n",
              "      height: 32px;\n",
              "      padding: 0 0 0 0;\n",
              "      width: 32px;\n",
              "    }\n",
              "\n",
              "    .colab-df-convert:hover {\n",
              "      background-color: #E2EBFA;\n",
              "      box-shadow: 0px 1px 2px rgba(60, 64, 67, 0.3), 0px 1px 3px 1px rgba(60, 64, 67, 0.15);\n",
              "      fill: #174EA6;\n",
              "    }\n",
              "\n",
              "    [theme=dark] .colab-df-convert {\n",
              "      background-color: #3B4455;\n",
              "      fill: #D2E3FC;\n",
              "    }\n",
              "\n",
              "    [theme=dark] .colab-df-convert:hover {\n",
              "      background-color: #434B5C;\n",
              "      box-shadow: 0px 1px 3px 1px rgba(0, 0, 0, 0.15);\n",
              "      filter: drop-shadow(0px 1px 2px rgba(0, 0, 0, 0.3));\n",
              "      fill: #FFFFFF;\n",
              "    }\n",
              "  </style>\n",
              "\n",
              "      <script>\n",
              "        const buttonEl =\n",
              "          document.querySelector('#df-639f39bc-969e-4da4-9f31-d3a554c8f07e button.colab-df-convert');\n",
              "        buttonEl.style.display =\n",
              "          google.colab.kernel.accessAllowed ? 'block' : 'none';\n",
              "\n",
              "        async function convertToInteractive(key) {\n",
              "          const element = document.querySelector('#df-639f39bc-969e-4da4-9f31-d3a554c8f07e');\n",
              "          const dataTable =\n",
              "            await google.colab.kernel.invokeFunction('convertToInteractive',\n",
              "                                                     [key], {});\n",
              "          if (!dataTable) return;\n",
              "\n",
              "          const docLinkHtml = 'Like what you see? Visit the ' +\n",
              "            '<a target=\"_blank\" href=https://colab.research.google.com/notebooks/data_table.ipynb>data table notebook</a>'\n",
              "            + ' to learn more about interactive tables.';\n",
              "          element.innerHTML = '';\n",
              "          dataTable['output_type'] = 'display_data';\n",
              "          await google.colab.output.renderOutput(dataTable, element);\n",
              "          const docLink = document.createElement('div');\n",
              "          docLink.innerHTML = docLinkHtml;\n",
              "          element.appendChild(docLink);\n",
              "        }\n",
              "      </script>\n",
              "    </div>\n",
              "  </div>\n",
              "  "
            ],
            "text/plain": [
              "   transaction_id  apartment_id  ...  apt_counts transformed\n",
              "0               0          7622  ...          13       False\n",
              "1               1          5399  ...           1       False\n",
              "2               2          3578  ...          13       False\n",
              "3               3         10957  ...          55       False\n",
              "4               4         10639  ...          15       False\n",
              "\n",
              "[5 rows x 12 columns]"
            ]
          },
          "metadata": {},
          "execution_count": 43
        }
      ]
    },
    {
      "cell_type": "code",
      "source": [
        "test"
      ],
      "metadata": {
        "colab": {
          "base_uri": "https://localhost:8080/",
          "height": 835
        },
        "id": "IKNXIIBTDMvJ",
        "outputId": "5fae18da-e322-4607-aa9d-24814c58a1bc"
      },
      "execution_count": 44,
      "outputs": [
        {
          "output_type": "execute_result",
          "data": {
            "text/html": [
              "\n",
              "  <div id=\"df-8124d1a8-c1a4-4ce1-acd0-212a1117c77e\">\n",
              "    <div class=\"colab-df-container\">\n",
              "      <div>\n",
              "<style scoped>\n",
              "    .dataframe tbody tr th:only-of-type {\n",
              "        vertical-align: middle;\n",
              "    }\n",
              "\n",
              "    .dataframe tbody tr th {\n",
              "        vertical-align: top;\n",
              "    }\n",
              "\n",
              "    .dataframe thead th {\n",
              "        text-align: right;\n",
              "    }\n",
              "</style>\n",
              "<table border=\"1\" class=\"dataframe\">\n",
              "  <thead>\n",
              "    <tr style=\"text-align: right;\">\n",
              "      <th></th>\n",
              "      <th>transaction_id</th>\n",
              "      <th>apartment_id</th>\n",
              "      <th>city</th>\n",
              "      <th>dong</th>\n",
              "      <th>apt</th>\n",
              "      <th>exclusive_use_area</th>\n",
              "      <th>year_of_completion</th>\n",
              "      <th>transaction_year_month</th>\n",
              "      <th>floor</th>\n",
              "      <th>apt_counts</th>\n",
              "      <th>transformed</th>\n",
              "    </tr>\n",
              "  </thead>\n",
              "  <tbody>\n",
              "    <tr>\n",
              "      <th>0</th>\n",
              "      <td>1145756</td>\n",
              "      <td>10453</td>\n",
              "      <td>서울특별시</td>\n",
              "      <td>목동</td>\n",
              "      <td>17</td>\n",
              "      <td>35.5500</td>\n",
              "      <td>41</td>\n",
              "      <td>118</td>\n",
              "      <td>2</td>\n",
              "      <td>1</td>\n",
              "      <td>False</td>\n",
              "    </tr>\n",
              "    <tr>\n",
              "      <th>1</th>\n",
              "      <td>1198704</td>\n",
              "      <td>989</td>\n",
              "      <td>부산광역시</td>\n",
              "      <td>초량동</td>\n",
              "      <td>17</td>\n",
              "      <td>68.7200</td>\n",
              "      <td>16</td>\n",
              "      <td>115</td>\n",
              "      <td>2</td>\n",
              "      <td>1</td>\n",
              "      <td>False</td>\n",
              "    </tr>\n",
              "    <tr>\n",
              "      <th>2</th>\n",
              "      <td>1222384</td>\n",
              "      <td>8597</td>\n",
              "      <td>부산광역시</td>\n",
              "      <td>괴정동</td>\n",
              "      <td>17</td>\n",
              "      <td>72.5400</td>\n",
              "      <td>28</td>\n",
              "      <td>117</td>\n",
              "      <td>2</td>\n",
              "      <td>1</td>\n",
              "      <td>False</td>\n",
              "    </tr>\n",
              "    <tr>\n",
              "      <th>3</th>\n",
              "      <td>1179897</td>\n",
              "      <td>11086</td>\n",
              "      <td>서울특별시</td>\n",
              "      <td>대치동</td>\n",
              "      <td>17</td>\n",
              "      <td>111.5400</td>\n",
              "      <td>43</td>\n",
              "      <td>114</td>\n",
              "      <td>10</td>\n",
              "      <td>2</td>\n",
              "      <td>False</td>\n",
              "    </tr>\n",
              "    <tr>\n",
              "      <th>4</th>\n",
              "      <td>1223091</td>\n",
              "      <td>2121</td>\n",
              "      <td>부산광역시</td>\n",
              "      <td>다대동</td>\n",
              "      <td>9</td>\n",
              "      <td>119.6398</td>\n",
              "      <td>53</td>\n",
              "      <td>119</td>\n",
              "      <td>21</td>\n",
              "      <td>3</td>\n",
              "      <td>True</td>\n",
              "    </tr>\n",
              "    <tr>\n",
              "      <th>...</th>\n",
              "      <td>...</td>\n",
              "      <td>...</td>\n",
              "      <td>...</td>\n",
              "      <td>...</td>\n",
              "      <td>...</td>\n",
              "      <td>...</td>\n",
              "      <td>...</td>\n",
              "      <td>...</td>\n",
              "      <td>...</td>\n",
              "      <td>...</td>\n",
              "      <td>...</td>\n",
              "    </tr>\n",
              "    <tr>\n",
              "      <th>5458</th>\n",
              "      <td>1174640</td>\n",
              "      <td>8965</td>\n",
              "      <td>서울특별시</td>\n",
              "      <td>양재동</td>\n",
              "      <td>17</td>\n",
              "      <td>84.0500</td>\n",
              "      <td>42</td>\n",
              "      <td>117</td>\n",
              "      <td>7</td>\n",
              "      <td>1</td>\n",
              "      <td>False</td>\n",
              "    </tr>\n",
              "    <tr>\n",
              "      <th>5459</th>\n",
              "      <td>1175575</td>\n",
              "      <td>3831</td>\n",
              "      <td>서울특별시</td>\n",
              "      <td>반포동</td>\n",
              "      <td>17</td>\n",
              "      <td>84.9300</td>\n",
              "      <td>48</td>\n",
              "      <td>119</td>\n",
              "      <td>4</td>\n",
              "      <td>2</td>\n",
              "      <td>False</td>\n",
              "    </tr>\n",
              "    <tr>\n",
              "      <th>5460</th>\n",
              "      <td>1157024</td>\n",
              "      <td>5550</td>\n",
              "      <td>서울특별시</td>\n",
              "      <td>구로동</td>\n",
              "      <td>4</td>\n",
              "      <td>110.1880</td>\n",
              "      <td>43</td>\n",
              "      <td>119</td>\n",
              "      <td>23</td>\n",
              "      <td>23</td>\n",
              "      <td>True</td>\n",
              "    </tr>\n",
              "    <tr>\n",
              "      <th>5461</th>\n",
              "      <td>1136863</td>\n",
              "      <td>3371</td>\n",
              "      <td>서울특별시</td>\n",
              "      <td>홍제동</td>\n",
              "      <td>17</td>\n",
              "      <td>92.4400</td>\n",
              "      <td>44</td>\n",
              "      <td>117</td>\n",
              "      <td>1</td>\n",
              "      <td>1</td>\n",
              "      <td>False</td>\n",
              "    </tr>\n",
              "    <tr>\n",
              "      <th>5462</th>\n",
              "      <td>1218921</td>\n",
              "      <td>6825</td>\n",
              "      <td>부산광역시</td>\n",
              "      <td>재송동</td>\n",
              "      <td>17</td>\n",
              "      <td>84.6400</td>\n",
              "      <td>32</td>\n",
              "      <td>119</td>\n",
              "      <td>7</td>\n",
              "      <td>1</td>\n",
              "      <td>False</td>\n",
              "    </tr>\n",
              "  </tbody>\n",
              "</table>\n",
              "<p>5463 rows × 11 columns</p>\n",
              "</div>\n",
              "      <button class=\"colab-df-convert\" onclick=\"convertToInteractive('df-8124d1a8-c1a4-4ce1-acd0-212a1117c77e')\"\n",
              "              title=\"Convert this dataframe to an interactive table.\"\n",
              "              style=\"display:none;\">\n",
              "        \n",
              "  <svg xmlns=\"http://www.w3.org/2000/svg\" height=\"24px\"viewBox=\"0 0 24 24\"\n",
              "       width=\"24px\">\n",
              "    <path d=\"M0 0h24v24H0V0z\" fill=\"none\"/>\n",
              "    <path d=\"M18.56 5.44l.94 2.06.94-2.06 2.06-.94-2.06-.94-.94-2.06-.94 2.06-2.06.94zm-11 1L8.5 8.5l.94-2.06 2.06-.94-2.06-.94L8.5 2.5l-.94 2.06-2.06.94zm10 10l.94 2.06.94-2.06 2.06-.94-2.06-.94-.94-2.06-.94 2.06-2.06.94z\"/><path d=\"M17.41 7.96l-1.37-1.37c-.4-.4-.92-.59-1.43-.59-.52 0-1.04.2-1.43.59L10.3 9.45l-7.72 7.72c-.78.78-.78 2.05 0 2.83L4 21.41c.39.39.9.59 1.41.59.51 0 1.02-.2 1.41-.59l7.78-7.78 2.81-2.81c.8-.78.8-2.07 0-2.86zM5.41 20L4 18.59l7.72-7.72 1.47 1.35L5.41 20z\"/>\n",
              "  </svg>\n",
              "      </button>\n",
              "      \n",
              "  <style>\n",
              "    .colab-df-container {\n",
              "      display:flex;\n",
              "      flex-wrap:wrap;\n",
              "      gap: 12px;\n",
              "    }\n",
              "\n",
              "    .colab-df-convert {\n",
              "      background-color: #E8F0FE;\n",
              "      border: none;\n",
              "      border-radius: 50%;\n",
              "      cursor: pointer;\n",
              "      display: none;\n",
              "      fill: #1967D2;\n",
              "      height: 32px;\n",
              "      padding: 0 0 0 0;\n",
              "      width: 32px;\n",
              "    }\n",
              "\n",
              "    .colab-df-convert:hover {\n",
              "      background-color: #E2EBFA;\n",
              "      box-shadow: 0px 1px 2px rgba(60, 64, 67, 0.3), 0px 1px 3px 1px rgba(60, 64, 67, 0.15);\n",
              "      fill: #174EA6;\n",
              "    }\n",
              "\n",
              "    [theme=dark] .colab-df-convert {\n",
              "      background-color: #3B4455;\n",
              "      fill: #D2E3FC;\n",
              "    }\n",
              "\n",
              "    [theme=dark] .colab-df-convert:hover {\n",
              "      background-color: #434B5C;\n",
              "      box-shadow: 0px 1px 3px 1px rgba(0, 0, 0, 0.15);\n",
              "      filter: drop-shadow(0px 1px 2px rgba(0, 0, 0, 0.3));\n",
              "      fill: #FFFFFF;\n",
              "    }\n",
              "  </style>\n",
              "\n",
              "      <script>\n",
              "        const buttonEl =\n",
              "          document.querySelector('#df-8124d1a8-c1a4-4ce1-acd0-212a1117c77e button.colab-df-convert');\n",
              "        buttonEl.style.display =\n",
              "          google.colab.kernel.accessAllowed ? 'block' : 'none';\n",
              "\n",
              "        async function convertToInteractive(key) {\n",
              "          const element = document.querySelector('#df-8124d1a8-c1a4-4ce1-acd0-212a1117c77e');\n",
              "          const dataTable =\n",
              "            await google.colab.kernel.invokeFunction('convertToInteractive',\n",
              "                                                     [key], {});\n",
              "          if (!dataTable) return;\n",
              "\n",
              "          const docLinkHtml = 'Like what you see? Visit the ' +\n",
              "            '<a target=\"_blank\" href=https://colab.research.google.com/notebooks/data_table.ipynb>data table notebook</a>'\n",
              "            + ' to learn more about interactive tables.';\n",
              "          element.innerHTML = '';\n",
              "          dataTable['output_type'] = 'display_data';\n",
              "          await google.colab.output.renderOutput(dataTable, element);\n",
              "          const docLink = document.createElement('div');\n",
              "          docLink.innerHTML = docLinkHtml;\n",
              "          element.appendChild(docLink);\n",
              "        }\n",
              "      </script>\n",
              "    </div>\n",
              "  </div>\n",
              "  "
            ],
            "text/plain": [
              "      transaction_id  apartment_id   city  ... floor apt_counts  transformed\n",
              "0            1145756         10453  서울특별시  ...     2          1        False\n",
              "1            1198704           989  부산광역시  ...     2          1        False\n",
              "2            1222384          8597  부산광역시  ...     2          1        False\n",
              "3            1179897         11086  서울특별시  ...    10          2        False\n",
              "4            1223091          2121  부산광역시  ...    21          3         True\n",
              "...              ...           ...    ...  ...   ...        ...          ...\n",
              "5458         1174640          8965  서울특별시  ...     7          1        False\n",
              "5459         1175575          3831  서울특별시  ...     4          2        False\n",
              "5460         1157024          5550  서울특별시  ...    23         23         True\n",
              "5461         1136863          3371  서울특별시  ...     1          1        False\n",
              "5462         1218921          6825  부산광역시  ...     7          1        False\n",
              "\n",
              "[5463 rows x 11 columns]"
            ]
          },
          "metadata": {},
          "execution_count": 44
        }
      ]
    },
    {
      "cell_type": "markdown",
      "source": [
        "### dong"
      ],
      "metadata": {
        "id": "t9-vZXqHEBPi"
      }
    },
    {
      "cell_type": "code",
      "source": [
        "#같은 이름을 가진 동이 있는지 확인\n",
        "seoul_set = set(train.loc[train['city']=='서울특별시', 'dong'])\n",
        "busan_set = set(train.loc[train['city']=='부산광역시', 'dong'])\n",
        "same_dong = seoul_set & busan_set \n",
        "print(same_dong)\n",
        "\n",
        "seoul_set = set(test.loc[test['city']=='서울특별시', 'dong'])\n",
        "busan_set = set(test.loc[test['city']=='부산광역시', 'dong'])\n",
        "same_dong = seoul_set & busan_set \n",
        "print(same_dong)"
      ],
      "metadata": {
        "colab": {
          "base_uri": "https://localhost:8080/"
        },
        "id": "pMVIkrSkEB5A",
        "outputId": "44e4ff53-fcc3-4e37-842c-a42f1b23a7a7"
      },
      "execution_count": 45,
      "outputs": [
        {
          "output_type": "stream",
          "name": "stdout",
          "text": [
            "set()\n",
            "{'부암동', '사직동', '송정동', '중동'}\n"
          ]
        }
      ]
    },
    {
      "cell_type": "code",
      "source": [
        "#위 네 동은 부산과 서울에 이름이 겹침. 앞에 서울특별시, 부산광역시를 붙여서 분리\n",
        "\n",
        "for d in same_dong:\n",
        "  train.loc[(train['city']=='서울특별시')&(train['dong']==d),'dong'] = '서울'+d\n",
        "  train.loc[(train['city']=='부산광역시')&(train['dong']==d),'dong'] = '부산'+d\n",
        "  test.loc[(test['city']=='서울특별시')&(test['dong']==d),'dong'] = '서울'+d\n",
        "  test.loc[(test['city']=='부산광역시')&(test['dong']==d),'dong'] = '부산'+d\n",
        "\n"
      ],
      "metadata": {
        "id": "SsR7LQQ3EE4P"
      },
      "execution_count": 46,
      "outputs": []
    },
    {
      "cell_type": "code",
      "source": [
        "#다시 확인 -> 더 이상 겹치는 동이 없음\n",
        "seoul_set = set(test.loc[test['city']=='서울특별시', 'dong'])\n",
        "busan_set = set(test.loc[test['city']=='부산광역시', 'dong'])\n",
        "same_dong = seoul_set & busan_set \n",
        "print(same_dong)"
      ],
      "metadata": {
        "colab": {
          "base_uri": "https://localhost:8080/"
        },
        "id": "gS5CUDb7EnYj",
        "outputId": "735acc8b-b1e8-4484-99b1-9ffc297ffb11"
      },
      "execution_count": 47,
      "outputs": [
        {
          "output_type": "stream",
          "name": "stdout",
          "text": [
            "set()\n"
          ]
        }
      ]
    },
    {
      "cell_type": "code",
      "source": [
        "#동별 평균 가격 확인\n",
        "train[train['dong'].str.contains('장충동')].groupby('dong')['transaction_real_price'].agg('mean')"
      ],
      "metadata": {
        "colab": {
          "base_uri": "https://localhost:8080/"
        },
        "id": "1dZyN1JpEqAl",
        "outputId": "d5c69674-7bc4-48b5-e6a0-09ce2fa696d0"
      },
      "execution_count": 48,
      "outputs": [
        {
          "output_type": "execute_result",
          "data": {
            "text/plain": [
              "dong\n",
              "장충동1가    269888.888889\n",
              "장충동2가      6628.421053\n",
              "Name: transaction_real_price, dtype: float64"
            ]
          },
          "metadata": {},
          "execution_count": 48
        }
      ]
    },
    {
      "cell_type": "code",
      "source": [
        "#동별로 가격차이가 많이 남. -> 동은 그대로 냅두자.. -> 어디가 젤 비쌈?\n",
        "\n",
        "dong_price = train.groupby('dong')['transaction_real_price'].agg('mean').sort_values(ascending=False)\n",
        "dong_price[:20]"
      ],
      "metadata": {
        "colab": {
          "base_uri": "https://localhost:8080/"
        },
        "id": "XRv8tzpREz9h",
        "outputId": "92475226-b4a3-4be4-ad94-030888790742"
      },
      "execution_count": 49,
      "outputs": [
        {
          "output_type": "execute_result",
          "data": {
            "text/plain": [
              "dong\n",
              "장충동1가     269888.888889\n",
              "압구정동      164534.722914\n",
              "청암동       161403.700000\n",
              "용산동5가     153497.331633\n",
              "회현동2가     139906.140351\n",
              "반포동       132489.395651\n",
              "한남동       122593.293264\n",
              "서빙고동      116547.239777\n",
              "대치동       116320.538909\n",
              "남대문로5가    113153.604651\n",
              "도곡동       110655.655354\n",
              "청담동       110289.411168\n",
              "교남동       108600.000000\n",
              "내수동       107899.014778\n",
              "주성동       106000.000000\n",
              "하중동       105900.477833\n",
              "삼성동       101379.971621\n",
              "잠실동       101166.337275\n",
              "동자동        99472.876033\n",
              "동빙고동       99057.552239\n",
              "Name: transaction_real_price, dtype: float64"
            ]
          },
          "metadata": {},
          "execution_count": 49
        }
      ]
    },
    {
      "cell_type": "code",
      "source": [
        "#라벨 인코딩 진행\n",
        "\n",
        "for i, d in tqdm(enumerate(list(dong_price.index)), total=len(dong_price)):\n",
        "  train.loc[train['dong']==d, 'dong']=i\n",
        "  test.loc[test['dong']==d, 'dong']=i\n",
        "train.head(5)"
      ],
      "metadata": {
        "colab": {
          "base_uri": "https://localhost:8080/",
          "height": 288
        },
        "id": "bO6xqy9EE_Lp",
        "outputId": "4257c948-01d4-482c-9c44-6f0a84618ed7"
      },
      "execution_count": 50,
      "outputs": [
        {
          "output_type": "stream",
          "name": "stderr",
          "text": [
            "100%|██████████| 473/473 [00:43<00:00, 10.90it/s]\n"
          ]
        },
        {
          "output_type": "execute_result",
          "data": {
            "text/html": [
              "\n",
              "  <div id=\"df-c0155397-6fbb-48a4-b8db-4df68f9c0ccc\">\n",
              "    <div class=\"colab-df-container\">\n",
              "      <div>\n",
              "<style scoped>\n",
              "    .dataframe tbody tr th:only-of-type {\n",
              "        vertical-align: middle;\n",
              "    }\n",
              "\n",
              "    .dataframe tbody tr th {\n",
              "        vertical-align: top;\n",
              "    }\n",
              "\n",
              "    .dataframe thead th {\n",
              "        text-align: right;\n",
              "    }\n",
              "</style>\n",
              "<table border=\"1\" class=\"dataframe\">\n",
              "  <thead>\n",
              "    <tr style=\"text-align: right;\">\n",
              "      <th></th>\n",
              "      <th>transaction_id</th>\n",
              "      <th>apartment_id</th>\n",
              "      <th>city</th>\n",
              "      <th>dong</th>\n",
              "      <th>apt</th>\n",
              "      <th>exclusive_use_area</th>\n",
              "      <th>year_of_completion</th>\n",
              "      <th>transaction_year_month</th>\n",
              "      <th>floor</th>\n",
              "      <th>transaction_real_price</th>\n",
              "      <th>apt_counts</th>\n",
              "      <th>transformed</th>\n",
              "    </tr>\n",
              "  </thead>\n",
              "  <tbody>\n",
              "    <tr>\n",
              "      <th>0</th>\n",
              "      <td>0</td>\n",
              "      <td>7622</td>\n",
              "      <td>1.0</td>\n",
              "      <td>137</td>\n",
              "      <td>17</td>\n",
              "      <td>84.82</td>\n",
              "      <td>41</td>\n",
              "      <td>0</td>\n",
              "      <td>2</td>\n",
              "      <td>37500</td>\n",
              "      <td>13</td>\n",
              "      <td>False</td>\n",
              "    </tr>\n",
              "    <tr>\n",
              "      <th>1</th>\n",
              "      <td>1</td>\n",
              "      <td>5399</td>\n",
              "      <td>1.0</td>\n",
              "      <td>64</td>\n",
              "      <td>17</td>\n",
              "      <td>99.17</td>\n",
              "      <td>12</td>\n",
              "      <td>0</td>\n",
              "      <td>6</td>\n",
              "      <td>20000</td>\n",
              "      <td>1</td>\n",
              "      <td>False</td>\n",
              "    </tr>\n",
              "    <tr>\n",
              "      <th>2</th>\n",
              "      <td>2</td>\n",
              "      <td>3578</td>\n",
              "      <td>1.0</td>\n",
              "      <td>64</td>\n",
              "      <td>17</td>\n",
              "      <td>84.74</td>\n",
              "      <td>46</td>\n",
              "      <td>0</td>\n",
              "      <td>6</td>\n",
              "      <td>38500</td>\n",
              "      <td>13</td>\n",
              "      <td>False</td>\n",
              "    </tr>\n",
              "    <tr>\n",
              "      <th>3</th>\n",
              "      <td>3</td>\n",
              "      <td>10957</td>\n",
              "      <td>1.0</td>\n",
              "      <td>13</td>\n",
              "      <td>17</td>\n",
              "      <td>146.39</td>\n",
              "      <td>42</td>\n",
              "      <td>0</td>\n",
              "      <td>15</td>\n",
              "      <td>118000</td>\n",
              "      <td>55</td>\n",
              "      <td>False</td>\n",
              "    </tr>\n",
              "    <tr>\n",
              "      <th>4</th>\n",
              "      <td>4</td>\n",
              "      <td>10639</td>\n",
              "      <td>1.0</td>\n",
              "      <td>13</td>\n",
              "      <td>17</td>\n",
              "      <td>194.43</td>\n",
              "      <td>43</td>\n",
              "      <td>0</td>\n",
              "      <td>3</td>\n",
              "      <td>120000</td>\n",
              "      <td>15</td>\n",
              "      <td>False</td>\n",
              "    </tr>\n",
              "  </tbody>\n",
              "</table>\n",
              "</div>\n",
              "      <button class=\"colab-df-convert\" onclick=\"convertToInteractive('df-c0155397-6fbb-48a4-b8db-4df68f9c0ccc')\"\n",
              "              title=\"Convert this dataframe to an interactive table.\"\n",
              "              style=\"display:none;\">\n",
              "        \n",
              "  <svg xmlns=\"http://www.w3.org/2000/svg\" height=\"24px\"viewBox=\"0 0 24 24\"\n",
              "       width=\"24px\">\n",
              "    <path d=\"M0 0h24v24H0V0z\" fill=\"none\"/>\n",
              "    <path d=\"M18.56 5.44l.94 2.06.94-2.06 2.06-.94-2.06-.94-.94-2.06-.94 2.06-2.06.94zm-11 1L8.5 8.5l.94-2.06 2.06-.94-2.06-.94L8.5 2.5l-.94 2.06-2.06.94zm10 10l.94 2.06.94-2.06 2.06-.94-2.06-.94-.94-2.06-.94 2.06-2.06.94z\"/><path d=\"M17.41 7.96l-1.37-1.37c-.4-.4-.92-.59-1.43-.59-.52 0-1.04.2-1.43.59L10.3 9.45l-7.72 7.72c-.78.78-.78 2.05 0 2.83L4 21.41c.39.39.9.59 1.41.59.51 0 1.02-.2 1.41-.59l7.78-7.78 2.81-2.81c.8-.78.8-2.07 0-2.86zM5.41 20L4 18.59l7.72-7.72 1.47 1.35L5.41 20z\"/>\n",
              "  </svg>\n",
              "      </button>\n",
              "      \n",
              "  <style>\n",
              "    .colab-df-container {\n",
              "      display:flex;\n",
              "      flex-wrap:wrap;\n",
              "      gap: 12px;\n",
              "    }\n",
              "\n",
              "    .colab-df-convert {\n",
              "      background-color: #E8F0FE;\n",
              "      border: none;\n",
              "      border-radius: 50%;\n",
              "      cursor: pointer;\n",
              "      display: none;\n",
              "      fill: #1967D2;\n",
              "      height: 32px;\n",
              "      padding: 0 0 0 0;\n",
              "      width: 32px;\n",
              "    }\n",
              "\n",
              "    .colab-df-convert:hover {\n",
              "      background-color: #E2EBFA;\n",
              "      box-shadow: 0px 1px 2px rgba(60, 64, 67, 0.3), 0px 1px 3px 1px rgba(60, 64, 67, 0.15);\n",
              "      fill: #174EA6;\n",
              "    }\n",
              "\n",
              "    [theme=dark] .colab-df-convert {\n",
              "      background-color: #3B4455;\n",
              "      fill: #D2E3FC;\n",
              "    }\n",
              "\n",
              "    [theme=dark] .colab-df-convert:hover {\n",
              "      background-color: #434B5C;\n",
              "      box-shadow: 0px 1px 3px 1px rgba(0, 0, 0, 0.15);\n",
              "      filter: drop-shadow(0px 1px 2px rgba(0, 0, 0, 0.3));\n",
              "      fill: #FFFFFF;\n",
              "    }\n",
              "  </style>\n",
              "\n",
              "      <script>\n",
              "        const buttonEl =\n",
              "          document.querySelector('#df-c0155397-6fbb-48a4-b8db-4df68f9c0ccc button.colab-df-convert');\n",
              "        buttonEl.style.display =\n",
              "          google.colab.kernel.accessAllowed ? 'block' : 'none';\n",
              "\n",
              "        async function convertToInteractive(key) {\n",
              "          const element = document.querySelector('#df-c0155397-6fbb-48a4-b8db-4df68f9c0ccc');\n",
              "          const dataTable =\n",
              "            await google.colab.kernel.invokeFunction('convertToInteractive',\n",
              "                                                     [key], {});\n",
              "          if (!dataTable) return;\n",
              "\n",
              "          const docLinkHtml = 'Like what you see? Visit the ' +\n",
              "            '<a target=\"_blank\" href=https://colab.research.google.com/notebooks/data_table.ipynb>data table notebook</a>'\n",
              "            + ' to learn more about interactive tables.';\n",
              "          element.innerHTML = '';\n",
              "          dataTable['output_type'] = 'display_data';\n",
              "          await google.colab.output.renderOutput(dataTable, element);\n",
              "          const docLink = document.createElement('div');\n",
              "          docLink.innerHTML = docLinkHtml;\n",
              "          element.appendChild(docLink);\n",
              "        }\n",
              "      </script>\n",
              "    </div>\n",
              "  </div>\n",
              "  "
            ],
            "text/plain": [
              "   transaction_id  apartment_id  ...  apt_counts transformed\n",
              "0               0          7622  ...          13       False\n",
              "1               1          5399  ...           1       False\n",
              "2               2          3578  ...          13       False\n",
              "3               3         10957  ...          55       False\n",
              "4               4         10639  ...          15       False\n",
              "\n",
              "[5 rows x 12 columns]"
            ]
          },
          "metadata": {},
          "execution_count": 50
        }
      ]
    },
    {
      "cell_type": "markdown",
      "source": [
        "### floor"
      ],
      "metadata": {
        "id": "5LPkm9eFFrt4"
      }
    },
    {
      "cell_type": "code",
      "source": [
        "train.floor.describe()"
      ],
      "metadata": {
        "colab": {
          "base_uri": "https://localhost:8080/"
        },
        "id": "t5cv5m9CFLVU",
        "outputId": "b6c35758-902d-494e-bd69-b6d7eb8bb283"
      },
      "execution_count": 51,
      "outputs": [
        {
          "output_type": "execute_result",
          "data": {
            "text/plain": [
              "count    1.216553e+06\n",
              "mean     9.343291e+00\n",
              "std      6.606500e+00\n",
              "min     -4.000000e+00\n",
              "25%      4.000000e+00\n",
              "50%      8.000000e+00\n",
              "75%      1.300000e+01\n",
              "max      8.000000e+01\n",
              "Name: floor, dtype: float64"
            ]
          },
          "metadata": {},
          "execution_count": 51
        }
      ]
    },
    {
      "cell_type": "code",
      "source": [
        "#최소가 4 -> 4를 다 더해서 라벨 인코딩. test는 최소가 -1이었으니까 그거에 맞게 더해\n",
        "\n",
        "print('변환전\\n', train['floor'].values[:5])\n",
        "train['floor'] = train['floor'].map(lambda x: x+4)\n",
        "test['floor'] = test['floor'].map(lambda x: x+1)\n",
        "print('변환후\\n', train['floor'].values[:5])"
      ],
      "metadata": {
        "colab": {
          "base_uri": "https://localhost:8080/"
        },
        "id": "vVLpd8WrFtve",
        "outputId": "346ab8ac-6d72-44f4-8f71-ae9cc1e046d9"
      },
      "execution_count": 52,
      "outputs": [
        {
          "output_type": "stream",
          "name": "stdout",
          "text": [
            "변환전\n",
            " [ 2  6  6 15  3]\n",
            "변환후\n",
            " [ 6 10 10 19  7]\n"
          ]
        }
      ]
    },
    {
      "cell_type": "markdown",
      "source": [
        "### Price"
      ],
      "metadata": {
        "id": "dNqv-BPZF7_s"
      }
    },
    {
      "cell_type": "code",
      "source": [
        "plt.figure()\n",
        "sns.displot(train['transaction_real_price'], bins=40)\n",
        "plt.xlabel('Price')\n",
        "plt.title('Price Distribution')\n",
        "plt.show()"
      ],
      "metadata": {
        "colab": {
          "base_uri": "https://localhost:8080/",
          "height": 400
        },
        "id": "JytORAGHGJys",
        "outputId": "9ab3f0ee-97d2-4367-fbb6-d1f0396727cd"
      },
      "execution_count": 53,
      "outputs": [
        {
          "output_type": "display_data",
          "data": {
            "text/plain": [
              "<Figure size 432x288 with 0 Axes>"
            ]
          },
          "metadata": {}
        },
        {
          "output_type": "display_data",
          "data": {
            "image/png": "[encoded data removed]",
            "text/plain": [
              "<Figure size 360x360 with 1 Axes>"
            ]
          },
          "metadata": {
            "needs_background": "light"
          }
        }
      ]
    },
    {
      "cell_type": "code",
      "source": [
        "#한쪽에 치우친 모양 -> 로그 변환 통해 정규화\n",
        "\n",
        "train['log_price'] = np.log1p(train['transaction_real_price'])\n",
        "real_price = train['transaction_real_price']#원래가격 따로 저장\n",
        "train.drop('transaction_real_price', axis=1, inplace=True)\n",
        "train.head(5)"
      ],
      "metadata": {
        "colab": {
          "base_uri": "https://localhost:8080/",
          "height": 270
        },
        "id": "930Krq1KGhll",
        "outputId": "0e62d643-9e68-4bdf-9187-ec67231f0aba"
      },
      "execution_count": 54,
      "outputs": [
        {
          "output_type": "execute_result",
          "data": {
            "text/html": [
              "\n",
              "  <div id=\"df-659aae80-b85b-4627-86aa-ef92ee42e964\">\n",
              "    <div class=\"colab-df-container\">\n",
              "      <div>\n",
              "<style scoped>\n",
              "    .dataframe tbody tr th:only-of-type {\n",
              "        vertical-align: middle;\n",
              "    }\n",
              "\n",
              "    .dataframe tbody tr th {\n",
              "        vertical-align: top;\n",
              "    }\n",
              "\n",
              "    .dataframe thead th {\n",
              "        text-align: right;\n",
              "    }\n",
              "</style>\n",
              "<table border=\"1\" class=\"dataframe\">\n",
              "  <thead>\n",
              "    <tr style=\"text-align: right;\">\n",
              "      <th></th>\n",
              "      <th>transaction_id</th>\n",
              "      <th>apartment_id</th>\n",
              "      <th>city</th>\n",
              "      <th>dong</th>\n",
              "      <th>apt</th>\n",
              "      <th>exclusive_use_area</th>\n",
              "      <th>year_of_completion</th>\n",
              "      <th>transaction_year_month</th>\n",
              "      <th>floor</th>\n",
              "      <th>apt_counts</th>\n",
              "      <th>transformed</th>\n",
              "      <th>log_price</th>\n",
              "    </tr>\n",
              "  </thead>\n",
              "  <tbody>\n",
              "    <tr>\n",
              "      <th>0</th>\n",
              "      <td>0</td>\n",
              "      <td>7622</td>\n",
              "      <td>1.0</td>\n",
              "      <td>137</td>\n",
              "      <td>17</td>\n",
              "      <td>84.82</td>\n",
              "      <td>41</td>\n",
              "      <td>0</td>\n",
              "      <td>6</td>\n",
              "      <td>13</td>\n",
              "      <td>False</td>\n",
              "      <td>10.532123</td>\n",
              "    </tr>\n",
              "    <tr>\n",
              "      <th>1</th>\n",
              "      <td>1</td>\n",
              "      <td>5399</td>\n",
              "      <td>1.0</td>\n",
              "      <td>64</td>\n",
              "      <td>17</td>\n",
              "      <td>99.17</td>\n",
              "      <td>12</td>\n",
              "      <td>0</td>\n",
              "      <td>10</td>\n",
              "      <td>1</td>\n",
              "      <td>False</td>\n",
              "      <td>9.903538</td>\n",
              "    </tr>\n",
              "    <tr>\n",
              "      <th>2</th>\n",
              "      <td>2</td>\n",
              "      <td>3578</td>\n",
              "      <td>1.0</td>\n",
              "      <td>64</td>\n",
              "      <td>17</td>\n",
              "      <td>84.74</td>\n",
              "      <td>46</td>\n",
              "      <td>0</td>\n",
              "      <td>10</td>\n",
              "      <td>13</td>\n",
              "      <td>False</td>\n",
              "      <td>10.558439</td>\n",
              "    </tr>\n",
              "    <tr>\n",
              "      <th>3</th>\n",
              "      <td>3</td>\n",
              "      <td>10957</td>\n",
              "      <td>1.0</td>\n",
              "      <td>13</td>\n",
              "      <td>17</td>\n",
              "      <td>146.39</td>\n",
              "      <td>42</td>\n",
              "      <td>0</td>\n",
              "      <td>19</td>\n",
              "      <td>55</td>\n",
              "      <td>False</td>\n",
              "      <td>11.678448</td>\n",
              "    </tr>\n",
              "    <tr>\n",
              "      <th>4</th>\n",
              "      <td>4</td>\n",
              "      <td>10639</td>\n",
              "      <td>1.0</td>\n",
              "      <td>13</td>\n",
              "      <td>17</td>\n",
              "      <td>194.43</td>\n",
              "      <td>43</td>\n",
              "      <td>0</td>\n",
              "      <td>7</td>\n",
              "      <td>15</td>\n",
              "      <td>False</td>\n",
              "      <td>11.695255</td>\n",
              "    </tr>\n",
              "  </tbody>\n",
              "</table>\n",
              "</div>\n",
              "      <button class=\"colab-df-convert\" onclick=\"convertToInteractive('df-659aae80-b85b-4627-86aa-ef92ee42e964')\"\n",
              "              title=\"Convert this dataframe to an interactive table.\"\n",
              "              style=\"display:none;\">\n",
              "        \n",
              "  <svg xmlns=\"http://www.w3.org/2000/svg\" height=\"24px\"viewBox=\"0 0 24 24\"\n",
              "       width=\"24px\">\n",
              "    <path d=\"M0 0h24v24H0V0z\" fill=\"none\"/>\n",
              "    <path d=\"M18.56 5.44l.94 2.06.94-2.06 2.06-.94-2.06-.94-.94-2.06-.94 2.06-2.06.94zm-11 1L8.5 8.5l.94-2.06 2.06-.94-2.06-.94L8.5 2.5l-.94 2.06-2.06.94zm10 10l.94 2.06.94-2.06 2.06-.94-2.06-.94-.94-2.06-.94 2.06-2.06.94z\"/><path d=\"M17.41 7.96l-1.37-1.37c-.4-.4-.92-.59-1.43-.59-.52 0-1.04.2-1.43.59L10.3 9.45l-7.72 7.72c-.78.78-.78 2.05 0 2.83L4 21.41c.39.39.9.59 1.41.59.51 0 1.02-.2 1.41-.59l7.78-7.78 2.81-2.81c.8-.78.8-2.07 0-2.86zM5.41 20L4 18.59l7.72-7.72 1.47 1.35L5.41 20z\"/>\n",
              "  </svg>\n",
              "      </button>\n",
              "      \n",
              "  <style>\n",
              "    .colab-df-container {\n",
              "      display:flex;\n",
              "      flex-wrap:wrap;\n",
              "      gap: 12px;\n",
              "    }\n",
              "\n",
              "    .colab-df-convert {\n",
              "      background-color: #E8F0FE;\n",
              "      border: none;\n",
              "      border-radius: 50%;\n",
              "      cursor: pointer;\n",
              "      display: none;\n",
              "      fill: #1967D2;\n",
              "      height: 32px;\n",
              "      padding: 0 0 0 0;\n",
              "      width: 32px;\n",
              "    }\n",
              "\n",
              "    .colab-df-convert:hover {\n",
              "      background-color: #E2EBFA;\n",
              "      box-shadow: 0px 1px 2px rgba(60, 64, 67, 0.3), 0px 1px 3px 1px rgba(60, 64, 67, 0.15);\n",
              "      fill: #174EA6;\n",
              "    }\n",
              "\n",
              "    [theme=dark] .colab-df-convert {\n",
              "      background-color: #3B4455;\n",
              "      fill: #D2E3FC;\n",
              "    }\n",
              "\n",
              "    [theme=dark] .colab-df-convert:hover {\n",
              "      background-color: #434B5C;\n",
              "      box-shadow: 0px 1px 3px 1px rgba(0, 0, 0, 0.15);\n",
              "      filter: drop-shadow(0px 1px 2px rgba(0, 0, 0, 0.3));\n",
              "      fill: #FFFFFF;\n",
              "    }\n",
              "  </style>\n",
              "\n",
              "      <script>\n",
              "        const buttonEl =\n",
              "          document.querySelector('#df-659aae80-b85b-4627-86aa-ef92ee42e964 button.colab-df-convert');\n",
              "        buttonEl.style.display =\n",
              "          google.colab.kernel.accessAllowed ? 'block' : 'none';\n",
              "\n",
              "        async function convertToInteractive(key) {\n",
              "          const element = document.querySelector('#df-659aae80-b85b-4627-86aa-ef92ee42e964');\n",
              "          const dataTable =\n",
              "            await google.colab.kernel.invokeFunction('convertToInteractive',\n",
              "                                                     [key], {});\n",
              "          if (!dataTable) return;\n",
              "\n",
              "          const docLinkHtml = 'Like what you see? Visit the ' +\n",
              "            '<a target=\"_blank\" href=https://colab.research.google.com/notebooks/data_table.ipynb>data table notebook</a>'\n",
              "            + ' to learn more about interactive tables.';\n",
              "          element.innerHTML = '';\n",
              "          dataTable['output_type'] = 'display_data';\n",
              "          await google.colab.output.renderOutput(dataTable, element);\n",
              "          const docLink = document.createElement('div');\n",
              "          docLink.innerHTML = docLinkHtml;\n",
              "          element.appendChild(docLink);\n",
              "        }\n",
              "      </script>\n",
              "    </div>\n",
              "  </div>\n",
              "  "
            ],
            "text/plain": [
              "   transaction_id  apartment_id  city  ... apt_counts transformed  log_price\n",
              "0               0          7622   1.0  ...         13       False  10.532123\n",
              "1               1          5399   1.0  ...          1       False   9.903538\n",
              "2               2          3578   1.0  ...         13       False  10.558439\n",
              "3               3         10957   1.0  ...         55       False  11.678448\n",
              "4               4         10639   1.0  ...         15       False  11.695255\n",
              "\n",
              "[5 rows x 12 columns]"
            ]
          },
          "metadata": {},
          "execution_count": 54
        }
      ]
    },
    {
      "cell_type": "code",
      "source": [
        "#그래프 그려 변환 확인\n",
        "\n",
        "f, (ax1, ax2) = plt.subplots(1,2,figsize=(12,6))\n",
        "\n",
        "ax1.hist(real_price, bins=30)\n",
        "ax1.set_title('Price Distribution')\n",
        "ax1.set_xlabel('Price')\n",
        "\n",
        "ax2.hist(train['log_price'], bins=30)\n",
        "ax2.set_title('Log Price Distribution')\n",
        "ax2.set_xlabel('Log Price')\n",
        "\n",
        "plt.show()"
      ],
      "metadata": {
        "colab": {
          "base_uri": "https://localhost:8080/",
          "height": 350
        },
        "id": "XHhBJekEHOs1",
        "outputId": "d6edd94a-48b7-43aa-cad3-fde284ff65e4"
      },
      "execution_count": 55,
      "outputs": [
        {
          "output_type": "display_data",
          "data": {
            "image/png": "[encoded data removed]",
            "text/plain": [
              "<Figure size 864x432 with 2 Axes>"
            ]
          },
          "metadata": {
            "needs_background": "light"
          }
        }
      ]
    },
    {
      "cell_type": "markdown",
      "source": [
        "### Area"
      ],
      "metadata": {
        "id": "YOCLQO3EHaBK"
      }
    },
    {
      "cell_type": "code",
      "source": [
        "#train area\n",
        "plt.figure()\n",
        "sns.displot(train['exclusive_use_area'], bins=30)\n",
        "plt.xlabel('Area(Square meter)')\n",
        "plt.title('Distribution of Area')\n",
        "plt.show()"
      ],
      "metadata": {
        "colab": {
          "base_uri": "https://localhost:8080/",
          "height": 401
        },
        "id": "qpB6oUYgHWUK",
        "outputId": "7a29a711-d506-4795-b820-195f2c55d883"
      },
      "execution_count": 56,
      "outputs": [
        {
          "output_type": "display_data",
          "data": {
            "text/plain": [
              "<Figure size 432x288 with 0 Axes>"
            ]
          },
          "metadata": {}
        },
        {
          "output_type": "display_data",
          "data": {
            "image/png": "[encoded data removed]",
            "text/plain": [
              "<Figure size 360x360 with 1 Axes>"
            ]
          },
          "metadata": {
            "needs_background": "light"
          }
        }
      ]
    },
    {
      "cell_type": "code",
      "source": [
        "#area도 로그변환 후, 따로 원래값 저장해두기\n",
        "train['log_area'] = np.log1p(train['exclusive_use_area'])\n",
        "test['log_area'] = np.log1p(test['exclusive_use_area'])\n",
        "\n",
        "area = train['exclusive_use_area']\n",
        "\n",
        "train.drop('exclusive_use_area', axis=1, inplace=True)\n",
        "test.drop('exclusive_use_area', axis=1, inplace=True)\n",
        "\n",
        "train.head(5)"
      ],
      "metadata": {
        "colab": {
          "base_uri": "https://localhost:8080/",
          "height": 270
        },
        "id": "ICD_XEKwHg2M",
        "outputId": "9c1c2af9-6f95-4427-a205-43eb7943e5e5"
      },
      "execution_count": 57,
      "outputs": [
        {
          "output_type": "execute_result",
          "data": {
            "text/html": [
              "\n",
              "  <div id=\"df-6f233a34-2678-4305-a8cc-f86da3e50809\">\n",
              "    <div class=\"colab-df-container\">\n",
              "      <div>\n",
              "<style scoped>\n",
              "    .dataframe tbody tr th:only-of-type {\n",
              "        vertical-align: middle;\n",
              "    }\n",
              "\n",
              "    .dataframe tbody tr th {\n",
              "        vertical-align: top;\n",
              "    }\n",
              "\n",
              "    .dataframe thead th {\n",
              "        text-align: right;\n",
              "    }\n",
              "</style>\n",
              "<table border=\"1\" class=\"dataframe\">\n",
              "  <thead>\n",
              "    <tr style=\"text-align: right;\">\n",
              "      <th></th>\n",
              "      <th>transaction_id</th>\n",
              "      <th>apartment_id</th>\n",
              "      <th>city</th>\n",
              "      <th>dong</th>\n",
              "      <th>apt</th>\n",
              "      <th>year_of_completion</th>\n",
              "      <th>transaction_year_month</th>\n",
              "      <th>floor</th>\n",
              "      <th>apt_counts</th>\n",
              "      <th>transformed</th>\n",
              "      <th>log_price</th>\n",
              "      <th>log_area</th>\n",
              "    </tr>\n",
              "  </thead>\n",
              "  <tbody>\n",
              "    <tr>\n",
              "      <th>0</th>\n",
              "      <td>0</td>\n",
              "      <td>7622</td>\n",
              "      <td>1.0</td>\n",
              "      <td>137</td>\n",
              "      <td>17</td>\n",
              "      <td>41</td>\n",
              "      <td>0</td>\n",
              "      <td>6</td>\n",
              "      <td>13</td>\n",
              "      <td>False</td>\n",
              "      <td>10.532123</td>\n",
              "      <td>4.452252</td>\n",
              "    </tr>\n",
              "    <tr>\n",
              "      <th>1</th>\n",
              "      <td>1</td>\n",
              "      <td>5399</td>\n",
              "      <td>1.0</td>\n",
              "      <td>64</td>\n",
              "      <td>17</td>\n",
              "      <td>12</td>\n",
              "      <td>0</td>\n",
              "      <td>10</td>\n",
              "      <td>1</td>\n",
              "      <td>False</td>\n",
              "      <td>9.903538</td>\n",
              "      <td>4.606869</td>\n",
              "    </tr>\n",
              "    <tr>\n",
              "      <th>2</th>\n",
              "      <td>2</td>\n",
              "      <td>3578</td>\n",
              "      <td>1.0</td>\n",
              "      <td>64</td>\n",
              "      <td>17</td>\n",
              "      <td>46</td>\n",
              "      <td>0</td>\n",
              "      <td>10</td>\n",
              "      <td>13</td>\n",
              "      <td>False</td>\n",
              "      <td>10.558439</td>\n",
              "      <td>4.451319</td>\n",
              "    </tr>\n",
              "    <tr>\n",
              "      <th>3</th>\n",
              "      <td>3</td>\n",
              "      <td>10957</td>\n",
              "      <td>1.0</td>\n",
              "      <td>13</td>\n",
              "      <td>17</td>\n",
              "      <td>42</td>\n",
              "      <td>0</td>\n",
              "      <td>19</td>\n",
              "      <td>55</td>\n",
              "      <td>False</td>\n",
              "      <td>11.678448</td>\n",
              "      <td>4.993082</td>\n",
              "    </tr>\n",
              "    <tr>\n",
              "      <th>4</th>\n",
              "      <td>4</td>\n",
              "      <td>10639</td>\n",
              "      <td>1.0</td>\n",
              "      <td>13</td>\n",
              "      <td>17</td>\n",
              "      <td>43</td>\n",
              "      <td>0</td>\n",
              "      <td>7</td>\n",
              "      <td>15</td>\n",
              "      <td>False</td>\n",
              "      <td>11.695255</td>\n",
              "      <td>5.275202</td>\n",
              "    </tr>\n",
              "  </tbody>\n",
              "</table>\n",
              "</div>\n",
              "      <button class=\"colab-df-convert\" onclick=\"convertToInteractive('df-6f233a34-2678-4305-a8cc-f86da3e50809')\"\n",
              "              title=\"Convert this dataframe to an interactive table.\"\n",
              "              style=\"display:none;\">\n",
              "        \n",
              "  <svg xmlns=\"http://www.w3.org/2000/svg\" height=\"24px\"viewBox=\"0 0 24 24\"\n",
              "       width=\"24px\">\n",
              "    <path d=\"M0 0h24v24H0V0z\" fill=\"none\"/>\n",
              "    <path d=\"M18.56 5.44l.94 2.06.94-2.06 2.06-.94-2.06-.94-.94-2.06-.94 2.06-2.06.94zm-11 1L8.5 8.5l.94-2.06 2.06-.94-2.06-.94L8.5 2.5l-.94 2.06-2.06.94zm10 10l.94 2.06.94-2.06 2.06-.94-2.06-.94-.94-2.06-.94 2.06-2.06.94z\"/><path d=\"M17.41 7.96l-1.37-1.37c-.4-.4-.92-.59-1.43-.59-.52 0-1.04.2-1.43.59L10.3 9.45l-7.72 7.72c-.78.78-.78 2.05 0 2.83L4 21.41c.39.39.9.59 1.41.59.51 0 1.02-.2 1.41-.59l7.78-7.78 2.81-2.81c.8-.78.8-2.07 0-2.86zM5.41 20L4 18.59l7.72-7.72 1.47 1.35L5.41 20z\"/>\n",
              "  </svg>\n",
              "      </button>\n",
              "      \n",
              "  <style>\n",
              "    .colab-df-container {\n",
              "      display:flex;\n",
              "      flex-wrap:wrap;\n",
              "      gap: 12px;\n",
              "    }\n",
              "\n",
              "    .colab-df-convert {\n",
              "      background-color: #E8F0FE;\n",
              "      border: none;\n",
              "      border-radius: 50%;\n",
              "      cursor: pointer;\n",
              "      display: none;\n",
              "      fill: #1967D2;\n",
              "      height: 32px;\n",
              "      padding: 0 0 0 0;\n",
              "      width: 32px;\n",
              "    }\n",
              "\n",
              "    .colab-df-convert:hover {\n",
              "      background-color: #E2EBFA;\n",
              "      box-shadow: 0px 1px 2px rgba(60, 64, 67, 0.3), 0px 1px 3px 1px rgba(60, 64, 67, 0.15);\n",
              "      fill: #174EA6;\n",
              "    }\n",
              "\n",
              "    [theme=dark] .colab-df-convert {\n",
              "      background-color: #3B4455;\n",
              "      fill: #D2E3FC;\n",
              "    }\n",
              "\n",
              "    [theme=dark] .colab-df-convert:hover {\n",
              "      background-color: #434B5C;\n",
              "      box-shadow: 0px 1px 3px 1px rgba(0, 0, 0, 0.15);\n",
              "      filter: drop-shadow(0px 1px 2px rgba(0, 0, 0, 0.3));\n",
              "      fill: #FFFFFF;\n",
              "    }\n",
              "  </style>\n",
              "\n",
              "      <script>\n",
              "        const buttonEl =\n",
              "          document.querySelector('#df-6f233a34-2678-4305-a8cc-f86da3e50809 button.colab-df-convert');\n",
              "        buttonEl.style.display =\n",
              "          google.colab.kernel.accessAllowed ? 'block' : 'none';\n",
              "\n",
              "        async function convertToInteractive(key) {\n",
              "          const element = document.querySelector('#df-6f233a34-2678-4305-a8cc-f86da3e50809');\n",
              "          const dataTable =\n",
              "            await google.colab.kernel.invokeFunction('convertToInteractive',\n",
              "                                                     [key], {});\n",
              "          if (!dataTable) return;\n",
              "\n",
              "          const docLinkHtml = 'Like what you see? Visit the ' +\n",
              "            '<a target=\"_blank\" href=https://colab.research.google.com/notebooks/data_table.ipynb>data table notebook</a>'\n",
              "            + ' to learn more about interactive tables.';\n",
              "          element.innerHTML = '';\n",
              "          dataTable['output_type'] = 'display_data';\n",
              "          await google.colab.output.renderOutput(dataTable, element);\n",
              "          const docLink = document.createElement('div');\n",
              "          docLink.innerHTML = docLinkHtml;\n",
              "          element.appendChild(docLink);\n",
              "        }\n",
              "      </script>\n",
              "    </div>\n",
              "  </div>\n",
              "  "
            ],
            "text/plain": [
              "   transaction_id  apartment_id  city  ... transformed  log_price  log_area\n",
              "0               0          7622   1.0  ...       False  10.532123  4.452252\n",
              "1               1          5399   1.0  ...       False   9.903538  4.606869\n",
              "2               2          3578   1.0  ...       False  10.558439  4.451319\n",
              "3               3         10957   1.0  ...       False  11.678448  4.993082\n",
              "4               4         10639   1.0  ...       False  11.695255  5.275202\n",
              "\n",
              "[5 rows x 12 columns]"
            ]
          },
          "metadata": {},
          "execution_count": 57
        }
      ]
    },
    {
      "cell_type": "code",
      "source": [
        "f, (ax1, ax2) = plt.subplots(1,2,figsize=(12,6))\n",
        "\n",
        "ax1.hist(area, bins=30)\n",
        "ax1.set_title('Distribution of Area')\n",
        "ax1.set_xlabel('Area')\n",
        "\n",
        "ax2.hist(train['log_area'], bins=30)\n",
        "ax2.set_title('Distribution of Log Area')\n",
        "ax2.set_xlabel('Area')\n",
        "\n",
        "plt.show()"
      ],
      "metadata": {
        "colab": {
          "base_uri": "https://localhost:8080/",
          "height": 351
        },
        "id": "zyCiUFwoHzdQ",
        "outputId": "b882f12b-ccb2-41e7-df9f-a09bb9047cc4"
      },
      "execution_count": 58,
      "outputs": [
        {
          "output_type": "display_data",
          "data": {
            "image/png": "[encoded data removed]",
            "text/plain": [
              "<Figure size 864x432 with 2 Axes>"
            ]
          },
          "metadata": {
            "needs_background": "light"
          }
        }
      ]
    },
    {
      "cell_type": "markdown",
      "source": [
        "### city"
      ],
      "metadata": {
        "id": "MuEH9fVTH6J4"
      }
    },
    {
      "cell_type": "code",
      "source": [
        "train['city']=train['city'].map(lambda x:1 if x=='서울특별시' else 0)\n",
        "test['city'] = test['city'].map(lambda x:1 if x=='서울특별시' else 0)"
      ],
      "metadata": {
        "id": "us4MWva3H9Ql"
      },
      "execution_count": 59,
      "outputs": []
    },
    {
      "cell_type": "code",
      "source": [
        "drop_col = ['transaction_id', 'apartment_id', 'apt_counts','transformed']\n",
        "train.drop(drop_col, axis=1, inplace=True)\n",
        "test.drop(drop_col, axis=1, inplace=True)\n",
        "train.head(5)"
      ],
      "metadata": {
        "colab": {
          "base_uri": "https://localhost:8080/",
          "height": 270
        },
        "id": "GqR2RuA_IJex",
        "outputId": "4317a327-89c2-442e-ab74-03f843218ac1"
      },
      "execution_count": 60,
      "outputs": [
        {
          "output_type": "execute_result",
          "data": {
            "text/html": [
              "\n",
              "  <div id=\"df-87783d14-7fed-4f9f-a358-073111d81699\">\n",
              "    <div class=\"colab-df-container\">\n",
              "      <div>\n",
              "<style scoped>\n",
              "    .dataframe tbody tr th:only-of-type {\n",
              "        vertical-align: middle;\n",
              "    }\n",
              "\n",
              "    .dataframe tbody tr th {\n",
              "        vertical-align: top;\n",
              "    }\n",
              "\n",
              "    .dataframe thead th {\n",
              "        text-align: right;\n",
              "    }\n",
              "</style>\n",
              "<table border=\"1\" class=\"dataframe\">\n",
              "  <thead>\n",
              "    <tr style=\"text-align: right;\">\n",
              "      <th></th>\n",
              "      <th>city</th>\n",
              "      <th>dong</th>\n",
              "      <th>apt</th>\n",
              "      <th>year_of_completion</th>\n",
              "      <th>transaction_year_month</th>\n",
              "      <th>floor</th>\n",
              "      <th>log_price</th>\n",
              "      <th>log_area</th>\n",
              "    </tr>\n",
              "  </thead>\n",
              "  <tbody>\n",
              "    <tr>\n",
              "      <th>0</th>\n",
              "      <td>0</td>\n",
              "      <td>137</td>\n",
              "      <td>17</td>\n",
              "      <td>41</td>\n",
              "      <td>0</td>\n",
              "      <td>6</td>\n",
              "      <td>10.532123</td>\n",
              "      <td>4.452252</td>\n",
              "    </tr>\n",
              "    <tr>\n",
              "      <th>1</th>\n",
              "      <td>0</td>\n",
              "      <td>64</td>\n",
              "      <td>17</td>\n",
              "      <td>12</td>\n",
              "      <td>0</td>\n",
              "      <td>10</td>\n",
              "      <td>9.903538</td>\n",
              "      <td>4.606869</td>\n",
              "    </tr>\n",
              "    <tr>\n",
              "      <th>2</th>\n",
              "      <td>0</td>\n",
              "      <td>64</td>\n",
              "      <td>17</td>\n",
              "      <td>46</td>\n",
              "      <td>0</td>\n",
              "      <td>10</td>\n",
              "      <td>10.558439</td>\n",
              "      <td>4.451319</td>\n",
              "    </tr>\n",
              "    <tr>\n",
              "      <th>3</th>\n",
              "      <td>0</td>\n",
              "      <td>13</td>\n",
              "      <td>17</td>\n",
              "      <td>42</td>\n",
              "      <td>0</td>\n",
              "      <td>19</td>\n",
              "      <td>11.678448</td>\n",
              "      <td>4.993082</td>\n",
              "    </tr>\n",
              "    <tr>\n",
              "      <th>4</th>\n",
              "      <td>0</td>\n",
              "      <td>13</td>\n",
              "      <td>17</td>\n",
              "      <td>43</td>\n",
              "      <td>0</td>\n",
              "      <td>7</td>\n",
              "      <td>11.695255</td>\n",
              "      <td>5.275202</td>\n",
              "    </tr>\n",
              "  </tbody>\n",
              "</table>\n",
              "</div>\n",
              "      <button class=\"colab-df-convert\" onclick=\"convertToInteractive('df-87783d14-7fed-4f9f-a358-073111d81699')\"\n",
              "              title=\"Convert this dataframe to an interactive table.\"\n",
              "              style=\"display:none;\">\n",
              "        \n",
              "  <svg xmlns=\"http://www.w3.org/2000/svg\" height=\"24px\"viewBox=\"0 0 24 24\"\n",
              "       width=\"24px\">\n",
              "    <path d=\"M0 0h24v24H0V0z\" fill=\"none\"/>\n",
              "    <path d=\"M18.56 5.44l.94 2.06.94-2.06 2.06-.94-2.06-.94-.94-2.06-.94 2.06-2.06.94zm-11 1L8.5 8.5l.94-2.06 2.06-.94-2.06-.94L8.5 2.5l-.94 2.06-2.06.94zm10 10l.94 2.06.94-2.06 2.06-.94-2.06-.94-.94-2.06-.94 2.06-2.06.94z\"/><path d=\"M17.41 7.96l-1.37-1.37c-.4-.4-.92-.59-1.43-.59-.52 0-1.04.2-1.43.59L10.3 9.45l-7.72 7.72c-.78.78-.78 2.05 0 2.83L4 21.41c.39.39.9.59 1.41.59.51 0 1.02-.2 1.41-.59l7.78-7.78 2.81-2.81c.8-.78.8-2.07 0-2.86zM5.41 20L4 18.59l7.72-7.72 1.47 1.35L5.41 20z\"/>\n",
              "  </svg>\n",
              "      </button>\n",
              "      \n",
              "  <style>\n",
              "    .colab-df-container {\n",
              "      display:flex;\n",
              "      flex-wrap:wrap;\n",
              "      gap: 12px;\n",
              "    }\n",
              "\n",
              "    .colab-df-convert {\n",
              "      background-color: #E8F0FE;\n",
              "      border: none;\n",
              "      border-radius: 50%;\n",
              "      cursor: pointer;\n",
              "      display: none;\n",
              "      fill: #1967D2;\n",
              "      height: 32px;\n",
              "      padding: 0 0 0 0;\n",
              "      width: 32px;\n",
              "    }\n",
              "\n",
              "    .colab-df-convert:hover {\n",
              "      background-color: #E2EBFA;\n",
              "      box-shadow: 0px 1px 2px rgba(60, 64, 67, 0.3), 0px 1px 3px 1px rgba(60, 64, 67, 0.15);\n",
              "      fill: #174EA6;\n",
              "    }\n",
              "\n",
              "    [theme=dark] .colab-df-convert {\n",
              "      background-color: #3B4455;\n",
              "      fill: #D2E3FC;\n",
              "    }\n",
              "\n",
              "    [theme=dark] .colab-df-convert:hover {\n",
              "      background-color: #434B5C;\n",
              "      box-shadow: 0px 1px 3px 1px rgba(0, 0, 0, 0.15);\n",
              "      filter: drop-shadow(0px 1px 2px rgba(0, 0, 0, 0.3));\n",
              "      fill: #FFFFFF;\n",
              "    }\n",
              "  </style>\n",
              "\n",
              "      <script>\n",
              "        const buttonEl =\n",
              "          document.querySelector('#df-87783d14-7fed-4f9f-a358-073111d81699 button.colab-df-convert');\n",
              "        buttonEl.style.display =\n",
              "          google.colab.kernel.accessAllowed ? 'block' : 'none';\n",
              "\n",
              "        async function convertToInteractive(key) {\n",
              "          const element = document.querySelector('#df-87783d14-7fed-4f9f-a358-073111d81699');\n",
              "          const dataTable =\n",
              "            await google.colab.kernel.invokeFunction('convertToInteractive',\n",
              "                                                     [key], {});\n",
              "          if (!dataTable) return;\n",
              "\n",
              "          const docLinkHtml = 'Like what you see? Visit the ' +\n",
              "            '<a target=\"_blank\" href=https://colab.research.google.com/notebooks/data_table.ipynb>data table notebook</a>'\n",
              "            + ' to learn more about interactive tables.';\n",
              "          element.innerHTML = '';\n",
              "          dataTable['output_type'] = 'display_data';\n",
              "          await google.colab.output.renderOutput(dataTable, element);\n",
              "          const docLink = document.createElement('div');\n",
              "          docLink.innerHTML = docLinkHtml;\n",
              "          element.appendChild(docLink);\n",
              "        }\n",
              "      </script>\n",
              "    </div>\n",
              "  </div>\n",
              "  "
            ],
            "text/plain": [
              "   city dong apt  ...  floor  log_price  log_area\n",
              "0     0  137  17  ...      6  10.532123  4.452252\n",
              "1     0   64  17  ...     10   9.903538  4.606869\n",
              "2     0   64  17  ...     10  10.558439  4.451319\n",
              "3     0   13  17  ...     19  11.678448  4.993082\n",
              "4     0   13  17  ...      7  11.695255  5.275202\n",
              "\n",
              "[5 rows x 8 columns]"
            ]
          },
          "metadata": {},
          "execution_count": 60
        }
      ]
    },
    {
      "cell_type": "code",
      "source": [
        "train.info()"
      ],
      "metadata": {
        "colab": {
          "base_uri": "https://localhost:8080/"
        },
        "id": "K7t06FL5IO4W",
        "outputId": "6d5df520-ef34-4d16-ea51-1b237ad31e1e"
      },
      "execution_count": 61,
      "outputs": [
        {
          "output_type": "stream",
          "name": "stdout",
          "text": [
            "<class 'pandas.core.frame.DataFrame'>\n",
            "Int64Index: 1216553 entries, 0 to 1216552\n",
            "Data columns (total 8 columns):\n",
            " #   Column                  Non-Null Count    Dtype  \n",
            "---  ------                  --------------    -----  \n",
            " 0   city                    1216553 non-null  int64  \n",
            " 1   dong                    1216553 non-null  object \n",
            " 2   apt                     1216553 non-null  object \n",
            " 3   year_of_completion      1216553 non-null  int64  \n",
            " 4   transaction_year_month  1216553 non-null  int64  \n",
            " 5   floor                   1216553 non-null  int64  \n",
            " 6   log_price               1216553 non-null  float64\n",
            " 7   log_area                1216553 non-null  float64\n",
            "dtypes: float64(2), int64(4), object(2)\n",
            "memory usage: 123.5+ MB\n"
          ]
        }
      ]
    },
    {
      "cell_type": "code",
      "source": [
        "print(train.shape, test.shape)"
      ],
      "metadata": {
        "colab": {
          "base_uri": "https://localhost:8080/"
        },
        "id": "pB4XYZ_4If48",
        "outputId": "65560048-749f-4be7-980c-c7bc268df816"
      },
      "execution_count": 62,
      "outputs": [
        {
          "output_type": "stream",
          "name": "stdout",
          "text": [
            "(1216553, 8) (5463, 7)\n"
          ]
        }
      ]
    },
    {
      "cell_type": "markdown",
      "source": [
        "# Modeling"
      ],
      "metadata": {
        "id": "Yye_LUezIrQJ"
      }
    },
    {
      "cell_type": "markdown",
      "source": [
        "교재 내의 housing 데이터셋과는 달리, 이 데이터는 거래연월이 있기 때문에 시계열 데이터로 볼 수 있음. 시게열 데이터를 사용할 때에는, 미래의 값으로 과거의 값을 예측하지 않도록 조심해야함! -> TimeSeriesSplit 기법을 사용. 이 폴드 방법에서는 앞에서부터 끊어서 학습하고 검증함. 미래의 값을 학습에 이용하지 않고, 검증에만 이용하는 방법!\n",
        "\n",
        "\n",
        "**사용할 모델**\n",
        "1. 선형회귀모델\n",
        "2. 결정나무\n",
        "3. 랜덤포레스트\n",
        "4. xgboost\n",
        "5. lightgbm\n",
        "\n",
        "이정도만 사용해서 다섯개를 비교해보자.\n",
        "\n",
        "먼저 rmse를 측정할 수 있도록 함수 만들어야 함\n"
      ],
      "metadata": {
        "id": "QA5IW40ITTKF"
      }
    },
    {
      "cell_type": "code",
      "source": [
        "train_X, train_y = train.drop('log_price',axis=1), train['log_price']\n",
        "print(train_X.shape, train_y.shape)"
      ],
      "metadata": {
        "id": "zMZE5bZHIrxu",
        "colab": {
          "base_uri": "https://localhost:8080/"
        },
        "outputId": "a4eff5f9-c3a0-4756-ea55-f784920d94d8"
      },
      "execution_count": 63,
      "outputs": [
        {
          "output_type": "stream",
          "name": "stdout",
          "text": [
            "(1216553, 7) (1216553,)\n"
          ]
        }
      ]
    },
    {
      "cell_type": "code",
      "source": [
        "def RMSE(y,y_pred):\n",
        "  rmse = mean_squared_error(y, y_pred)**0.5 #root\n",
        "  return rmse\n",
        "\n",
        "def rmse_cv(model):\n",
        "  #cv별로 학습하도록 만듦\n",
        "  tscv = TimeSeriesSplit(n_splits=10)\n",
        "  rmse_list = []\n",
        "  model_name = model.__class__.__name__\n",
        "  for _,(train_index, test_index) in tqdm(enumerate(tscv.split(train_X), start=1),\n",
        "                                          desc=f'{model_name} Cross Validations...',total=10):\n",
        "    X_train, X_test = train_X.iloc[train_index], train_X.iloc[test_index]\n",
        "    y_train, y_test = train_y.iloc[train_index], train_y.iloc[test_index]\n",
        "    clf = model.fit(X_train, y_train)\n",
        "    pred = clf.predict(X_test)\n",
        "    rmse = RMSE(y_test, pred)\n",
        "    rmse_list.append(rmse)\n",
        "  return model_name, rmse_list\n",
        "\n",
        "def print_rmse_score(model):\n",
        "  #cv별 프린팅, 평균을 저장\n",
        "  model_name, score = rmse_cv(model)\n",
        "  for i, r in enumerate(score, start=1):\n",
        "    print(f'{i} folds : {model_name} RMSLE : {r:.4f}')\n",
        "  print(f'\\n{model_name} mean RMSLE: {np.mean(score):.4f}')\n",
        "  print('='*40)\n",
        "  return model_name, np.mean(score)"
      ],
      "metadata": {
        "id": "2oBaa7LNUAgd"
      },
      "execution_count": 64,
      "outputs": []
    },
    {
      "cell_type": "code",
      "source": [
        "reg = LinearRegression(n_jobs=-1)\n",
        "DTree = DecisionTreeRegressor(max_depth=6, min_samples_split=10, min_samples_leaf=15, random_state=1)\n",
        "rf = RandomForestRegressor(n_estimators=300, criterion='mse', max_depth=9, min_samples_split=50,\n",
        "                           min_samples_leaf=5, random_state=1, n_jobs=-1)"
      ],
      "metadata": {
        "id": "NJ79c8slVcU0"
      },
      "execution_count": 65,
      "outputs": []
    },
    {
      "cell_type": "code",
      "source": [
        "models = []\n",
        "scores = []\n",
        "for model in [reg, DTree, rf]:\n",
        "  model_name, mean_score = print_rmse_score(model)\n",
        "  models.append(model_name)\n",
        "  scores.append(mean_score)"
      ],
      "metadata": {
        "colab": {
          "base_uri": "https://localhost:8080/"
        },
        "id": "_o2A66X7V9ig",
        "outputId": "bd87a5d1-06ec-4041-cca5-b2468139b30a"
      },
      "execution_count": 66,
      "outputs": [
        {
          "output_type": "stream",
          "name": "stderr",
          "text": [
            "LinearRegression Cross Validations...: 100%|██████████| 10/10 [00:04<00:00,  2.27it/s]\n"
          ]
        },
        {
          "output_type": "stream",
          "name": "stdout",
          "text": [
            "1 folds : LinearRegression RMSLE : 0.1965\n",
            "2 folds : LinearRegression RMSLE : 0.2553\n",
            "3 folds : LinearRegression RMSLE : 0.2209\n",
            "4 folds : LinearRegression RMSLE : 0.3643\n",
            "5 folds : LinearRegression RMSLE : 0.3418\n",
            "6 folds : LinearRegression RMSLE : 0.4219\n",
            "7 folds : LinearRegression RMSLE : 0.3855\n",
            "8 folds : LinearRegression RMSLE : 0.3259\n",
            "9 folds : LinearRegression RMSLE : 0.2739\n",
            "10 folds : LinearRegression RMSLE : 0.2840\n",
            "\n",
            "LinearRegression mean RMSLE: 0.3070\n",
            "========================================\n"
          ]
        },
        {
          "output_type": "stream",
          "name": "stderr",
          "text": [
            "DecisionTreeRegressor Cross Validations...: 100%|██████████| 10/10 [00:13<00:00,  1.39s/it]\n"
          ]
        },
        {
          "output_type": "stream",
          "name": "stdout",
          "text": [
            "1 folds : DecisionTreeRegressor RMSLE : 0.1900\n",
            "2 folds : DecisionTreeRegressor RMSLE : 0.2705\n",
            "3 folds : DecisionTreeRegressor RMSLE : 0.2243\n",
            "4 folds : DecisionTreeRegressor RMSLE : 0.3638\n",
            "5 folds : DecisionTreeRegressor RMSLE : 0.3957\n",
            "6 folds : DecisionTreeRegressor RMSLE : 0.4744\n",
            "7 folds : DecisionTreeRegressor RMSLE : 0.3856\n",
            "8 folds : DecisionTreeRegressor RMSLE : 0.3445\n",
            "9 folds : DecisionTreeRegressor RMSLE : 0.3255\n",
            "10 folds : DecisionTreeRegressor RMSLE : 0.3353\n",
            "\n",
            "DecisionTreeRegressor mean RMSLE: 0.3310\n",
            "========================================\n"
          ]
        },
        {
          "output_type": "stream",
          "name": "stderr",
          "text": [
            "\rRandomForestRegressor Cross Validations...:   0%|          | 0/10 [00:00<?, ?it/s]/usr/local/lib/python3.7/dist-packages/sklearn/ensemble/_forest.py:400: FutureWarning: Criterion 'mse' was deprecated in v1.0 and will be removed in version 1.2. Use `criterion='squared_error'` which is equivalent.\n",
            "  FutureWarning,\n",
            "RandomForestRegressor Cross Validations...:  10%|█         | 1/10 [00:36<05:29, 36.61s/it]/usr/local/lib/python3.7/dist-packages/sklearn/ensemble/_forest.py:400: FutureWarning: Criterion 'mse' was deprecated in v1.0 and will be removed in version 1.2. Use `criterion='squared_error'` which is equivalent.\n",
            "  FutureWarning,\n",
            "RandomForestRegressor Cross Validations...:  20%|██        | 2/10 [01:54<08:08, 61.10s/it]/usr/local/lib/python3.7/dist-packages/sklearn/ensemble/_forest.py:400: FutureWarning: Criterion 'mse' was deprecated in v1.0 and will be removed in version 1.2. Use `criterion='squared_error'` which is equivalent.\n",
            "  FutureWarning,\n",
            "RandomForestRegressor Cross Validations...:  30%|███       | 3/10 [04:01<10:36, 90.94s/it]/usr/local/lib/python3.7/dist-packages/sklearn/ensemble/_forest.py:400: FutureWarning: Criterion 'mse' was deprecated in v1.0 and will be removed in version 1.2. Use `criterion='squared_error'` which is equivalent.\n",
            "  FutureWarning,\n",
            "RandomForestRegressor Cross Validations...:  40%|████      | 4/10 [07:03<12:41, 126.90s/it]/usr/local/lib/python3.7/dist-packages/sklearn/ensemble/_forest.py:400: FutureWarning: Criterion 'mse' was deprecated in v1.0 and will be removed in version 1.2. Use `criterion='squared_error'` which is equivalent.\n",
            "  FutureWarning,\n",
            "RandomForestRegressor Cross Validations...:  50%|█████     | 5/10 [11:04<13:59, 167.96s/it]/usr/local/lib/python3.7/dist-packages/sklearn/ensemble/_forest.py:400: FutureWarning: Criterion 'mse' was deprecated in v1.0 and will be removed in version 1.2. Use `criterion='squared_error'` which is equivalent.\n",
            "  FutureWarning,\n",
            "RandomForestRegressor Cross Validations...:  60%|██████    | 6/10 [16:01<14:07, 211.90s/it]/usr/local/lib/python3.7/dist-packages/sklearn/ensemble/_forest.py:400: FutureWarning: Criterion 'mse' was deprecated in v1.0 and will be removed in version 1.2. Use `criterion='squared_error'` which is equivalent.\n",
            "  FutureWarning,\n",
            "RandomForestRegressor Cross Validations...:  70%|███████   | 7/10 [21:31<12:31, 250.54s/it]/usr/local/lib/python3.7/dist-packages/sklearn/ensemble/_forest.py:400: FutureWarning: Criterion 'mse' was deprecated in v1.0 and will be removed in version 1.2. Use `criterion='squared_error'` which is equivalent.\n",
            "  FutureWarning,\n",
            "RandomForestRegressor Cross Validations...:  80%|████████  | 8/10 [27:39<09:35, 287.90s/it]/usr/local/lib/python3.7/dist-packages/sklearn/ensemble/_forest.py:400: FutureWarning: Criterion 'mse' was deprecated in v1.0 and will be removed in version 1.2. Use `criterion='squared_error'` which is equivalent.\n",
            "  FutureWarning,\n",
            "RandomForestRegressor Cross Validations...:  90%|█████████ | 9/10 [34:49<05:32, 332.51s/it]/usr/local/lib/python3.7/dist-packages/sklearn/ensemble/_forest.py:400: FutureWarning: Criterion 'mse' was deprecated in v1.0 and will be removed in version 1.2. Use `criterion='squared_error'` which is equivalent.\n",
            "  FutureWarning,\n",
            "RandomForestRegressor Cross Validations...: 100%|██████████| 10/10 [42:48<00:00, 256.81s/it]"
          ]
        },
        {
          "output_type": "stream",
          "name": "stdout",
          "text": [
            "1 folds : RandomForestRegressor RMSLE : 0.1815\n",
            "2 folds : RandomForestRegressor RMSLE : 0.2515\n",
            "3 folds : RandomForestRegressor RMSLE : 0.2186\n",
            "4 folds : RandomForestRegressor RMSLE : 0.3634\n",
            "5 folds : RandomForestRegressor RMSLE : 0.3656\n",
            "6 folds : RandomForestRegressor RMSLE : 0.4115\n",
            "7 folds : RandomForestRegressor RMSLE : 0.3429\n",
            "8 folds : RandomForestRegressor RMSLE : 0.3018\n",
            "9 folds : RandomForestRegressor RMSLE : 0.3086\n",
            "10 folds : RandomForestRegressor RMSLE : 0.2560\n",
            "\n",
            "RandomForestRegressor mean RMSLE: 0.3001\n",
            "========================================\n"
          ]
        },
        {
          "output_type": "stream",
          "name": "stderr",
          "text": [
            "\n"
          ]
        }
      ]
    },
    {
      "cell_type": "code",
      "source": [
        "result_df = pd.DataFrame({'Model': models, 'Score': scores}).reset_index(drop=True)\n",
        "result_df"
      ],
      "metadata": {
        "colab": {
          "base_uri": "https://localhost:8080/",
          "height": 143
        },
        "id": "xSWgv2jDWGXT",
        "outputId": "733e3183-4124-42ac-9d39-70695d8bf2bc"
      },
      "execution_count": 67,
      "outputs": [
        {
          "output_type": "execute_result",
          "data": {
            "text/html": [
              "\n",
              "  <div id=\"df-5ade7868-5339-4f10-b751-67c27fb37b92\">\n",
              "    <div class=\"colab-df-container\">\n",
              "      <div>\n",
              "<style scoped>\n",
              "    .dataframe tbody tr th:only-of-type {\n",
              "        vertical-align: middle;\n",
              "    }\n",
              "\n",
              "    .dataframe tbody tr th {\n",
              "        vertical-align: top;\n",
              "    }\n",
              "\n",
              "    .dataframe thead th {\n",
              "        text-align: right;\n",
              "    }\n",
              "</style>\n",
              "<table border=\"1\" class=\"dataframe\">\n",
              "  <thead>\n",
              "    <tr style=\"text-align: right;\">\n",
              "      <th></th>\n",
              "      <th>Model</th>\n",
              "      <th>Score</th>\n",
              "    </tr>\n",
              "  </thead>\n",
              "  <tbody>\n",
              "    <tr>\n",
              "      <th>0</th>\n",
              "      <td>LinearRegression</td>\n",
              "      <td>0.307008</td>\n",
              "    </tr>\n",
              "    <tr>\n",
              "      <th>1</th>\n",
              "      <td>DecisionTreeRegressor</td>\n",
              "      <td>0.330968</td>\n",
              "    </tr>\n",
              "    <tr>\n",
              "      <th>2</th>\n",
              "      <td>RandomForestRegressor</td>\n",
              "      <td>0.300126</td>\n",
              "    </tr>\n",
              "  </tbody>\n",
              "</table>\n",
              "</div>\n",
              "      <button class=\"colab-df-convert\" onclick=\"convertToInteractive('df-5ade7868-5339-4f10-b751-67c27fb37b92')\"\n",
              "              title=\"Convert this dataframe to an interactive table.\"\n",
              "              style=\"display:none;\">\n",
              "        \n",
              "  <svg xmlns=\"http://www.w3.org/2000/svg\" height=\"24px\"viewBox=\"0 0 24 24\"\n",
              "       width=\"24px\">\n",
              "    <path d=\"M0 0h24v24H0V0z\" fill=\"none\"/>\n",
              "    <path d=\"M18.56 5.44l.94 2.06.94-2.06 2.06-.94-2.06-.94-.94-2.06-.94 2.06-2.06.94zm-11 1L8.5 8.5l.94-2.06 2.06-.94-2.06-.94L8.5 2.5l-.94 2.06-2.06.94zm10 10l.94 2.06.94-2.06 2.06-.94-2.06-.94-.94-2.06-.94 2.06-2.06.94z\"/><path d=\"M17.41 7.96l-1.37-1.37c-.4-.4-.92-.59-1.43-.59-.52 0-1.04.2-1.43.59L10.3 9.45l-7.72 7.72c-.78.78-.78 2.05 0 2.83L4 21.41c.39.39.9.59 1.41.59.51 0 1.02-.2 1.41-.59l7.78-7.78 2.81-2.81c.8-.78.8-2.07 0-2.86zM5.41 20L4 18.59l7.72-7.72 1.47 1.35L5.41 20z\"/>\n",
              "  </svg>\n",
              "      </button>\n",
              "      \n",
              "  <style>\n",
              "    .colab-df-container {\n",
              "      display:flex;\n",
              "      flex-wrap:wrap;\n",
              "      gap: 12px;\n",
              "    }\n",
              "\n",
              "    .colab-df-convert {\n",
              "      background-color: #E8F0FE;\n",
              "      border: none;\n",
              "      border-radius: 50%;\n",
              "      cursor: pointer;\n",
              "      display: none;\n",
              "      fill: #1967D2;\n",
              "      height: 32px;\n",
              "      padding: 0 0 0 0;\n",
              "      width: 32px;\n",
              "    }\n",
              "\n",
              "    .colab-df-convert:hover {\n",
              "      background-color: #E2EBFA;\n",
              "      box-shadow: 0px 1px 2px rgba(60, 64, 67, 0.3), 0px 1px 3px 1px rgba(60, 64, 67, 0.15);\n",
              "      fill: #174EA6;\n",
              "    }\n",
              "\n",
              "    [theme=dark] .colab-df-convert {\n",
              "      background-color: #3B4455;\n",
              "      fill: #D2E3FC;\n",
              "    }\n",
              "\n",
              "    [theme=dark] .colab-df-convert:hover {\n",
              "      background-color: #434B5C;\n",
              "      box-shadow: 0px 1px 3px 1px rgba(0, 0, 0, 0.15);\n",
              "      filter: drop-shadow(0px 1px 2px rgba(0, 0, 0, 0.3));\n",
              "      fill: #FFFFFF;\n",
              "    }\n",
              "  </style>\n",
              "\n",
              "      <script>\n",
              "        const buttonEl =\n",
              "          document.querySelector('#df-5ade7868-5339-4f10-b751-67c27fb37b92 button.colab-df-convert');\n",
              "        buttonEl.style.display =\n",
              "          google.colab.kernel.accessAllowed ? 'block' : 'none';\n",
              "\n",
              "        async function convertToInteractive(key) {\n",
              "          const element = document.querySelector('#df-5ade7868-5339-4f10-b751-67c27fb37b92');\n",
              "          const dataTable =\n",
              "            await google.colab.kernel.invokeFunction('convertToInteractive',\n",
              "                                                     [key], {});\n",
              "          if (!dataTable) return;\n",
              "\n",
              "          const docLinkHtml = 'Like what you see? Visit the ' +\n",
              "            '<a target=\"_blank\" href=https://colab.research.google.com/notebooks/data_table.ipynb>data table notebook</a>'\n",
              "            + ' to learn more about interactive tables.';\n",
              "          element.innerHTML = '';\n",
              "          dataTable['output_type'] = 'display_data';\n",
              "          await google.colab.output.renderOutput(dataTable, element);\n",
              "          const docLink = document.createElement('div');\n",
              "          docLink.innerHTML = docLinkHtml;\n",
              "          element.appendChild(docLink);\n",
              "        }\n",
              "      </script>\n",
              "    </div>\n",
              "  </div>\n",
              "  "
            ],
            "text/plain": [
              "                   Model     Score\n",
              "0       LinearRegression  0.307008\n",
              "1  DecisionTreeRegressor  0.330968\n",
              "2  RandomForestRegressor  0.300126"
            ]
          },
          "metadata": {},
          "execution_count": 67
        }
      ]
    },
    {
      "cell_type": "code",
      "source": [
        "f, ax = plt.subplots(figsize=(5, 3))\n",
        "plt.xticks(rotation='90')\n",
        "sns.barplot(x=result_df['Model'], y=result_df['Score'])\n",
        "plt.xlabel('Models', fontsize=15)\n",
        "plt.ylabel('Model Performance', fontsize=15)\n",
        "plt.ylim(0.22, 0.32)\n",
        "plt.title('RMSLE', fontsize=15)\n",
        "plt.show()"
      ],
      "metadata": {
        "colab": {
          "base_uri": "https://localhost:8080/",
          "height": 359
        },
        "id": "FY4k5DQSfiMd",
        "outputId": "e5b37a53-6f80-4faf-896a-9b93d98183e0"
      },
      "execution_count": 68,
      "outputs": [
        {
          "output_type": "display_data",
          "data": {
            "image/png": "[encoded data removed]",
            "text/plain": [
              "<Figure size 360x216 with 1 Axes>"
            ]
          },
          "metadata": {
            "needs_background": "light"
          }
        }
      ]
    },
    {
      "cell_type": "code",
      "source": [
        "#특성 중요도\n",
        " feature_importances = rf.feature_importances_"
      ],
      "metadata": {
        "id": "wmPi7LmkhHcR",
        "colab": {
          "base_uri": "https://localhost:8080/",
          "height": 131
        },
        "outputId": "55745688-679b-446e-f35d-e43ca95428f3"
      },
      "execution_count": 71,
      "outputs": [
        {
          "output_type": "error",
          "ename": "IndentationError",
          "evalue": "ignored",
          "traceback": [
            "\u001b[0;36m  File \u001b[0;32m\"<ipython-input-71-e66dbfa8d7d7>\"\u001b[0;36m, line \u001b[0;32m2\u001b[0m\n\u001b[0;31m    rf.feature_importances_\u001b[0m\n\u001b[0m    ^\u001b[0m\n\u001b[0;31mIndentationError\u001b[0m\u001b[0;31m:\u001b[0m unexpected indent\n"
          ]
        }
      ]
    },
    {
      "cell_type": "code",
      "source": [
        "feature_importances"
      ],
      "metadata": {
        "colab": {
          "base_uri": "https://localhost:8080/"
        },
        "id": "M1yVUcyXYSW7",
        "outputId": "ed7e4239-2685-4472-abd9-5d8dbab7afa5"
      },
      "execution_count": 72,
      "outputs": [
        {
          "output_type": "execute_result",
          "data": {
            "text/plain": [
              "array([0.        , 0.66814874, 0.00126933, 0.03217631, 0.03830866,\n",
              "       0.00099778, 0.25909917])"
            ]
          },
          "metadata": {},
          "execution_count": 72
        }
      ]
    },
    {
      "cell_type": "code",
      "source": [
        "feature_importance = 100.0*(feature_importances/feature_importances.max())\n",
        "sorted_idx = np.argsort(feature_importance)\n",
        "pos = np.arange(sorted_idx.shape[0])+.5\n",
        "\n",
        "plt.figure()\n",
        "plt.barh(pos, feature_importance[sorted_idx], align='center')\n",
        "plt.yticks(pos, train.columns[sorted_idx])\n",
        "plt.xlabel('Relative Importance')\n",
        "plt.title('Variance Importance')\n",
        "plt.show()"
      ],
      "metadata": {
        "colab": {
          "base_uri": "https://localhost:8080/",
          "height": 295
        },
        "id": "OBxX7en9YWRi",
        "outputId": "ba8b9d14-83d5-4742-a2d6-4b4e272057b8"
      },
      "execution_count": 76,
      "outputs": [
        {
          "output_type": "display_data",
          "data": {
            "image/png": "[encoded data removed]",
            "text/plain": [
              "<Figure size 432x288 with 1 Axes>"
            ]
          },
          "metadata": {
            "needs_background": "light"
          }
        }
      ]
    },
    {
      "cell_type": "code",
      "source": [
        ""
      ],
      "metadata": {
        "id": "LVLqOVoeZyb4"
      },
      "execution_count": null,
      "outputs": []
    }
  ]
}
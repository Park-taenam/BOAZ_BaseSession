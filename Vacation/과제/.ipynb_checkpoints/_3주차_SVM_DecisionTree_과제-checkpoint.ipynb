{
 "cells": [
  {
   "cell_type": "markdown",
   "metadata": {
    "id": "g2N0Zdx3EfY2"
   },
   "source": [
    "# SVM 과제\n",
    "\n",
    "이 과제는 svm에 대한 개념은 잘 이해가 되셨나요?\n",
    "이번 과제로 직접 데이터에 적용해보면서 보다 명확한 이해와 사용법을 익혀가시길 바랍니다~"
   ]
  },
  {
   "cell_type": "markdown",
   "metadata": {
    "id": "VqA7aq6FFal8"
   },
   "source": [
    "## Setting"
   ]
  },
  {
   "cell_type": "code",
   "execution_count": 1,
   "metadata": {
    "ExecuteTime": {
     "end_time": "2022-02-02T12:13:43.782155Z",
     "start_time": "2022-02-02T12:13:35.759731Z"
    },
    "id": "2BUICUvPSKm9"
   },
   "outputs": [
    {
     "name": "stdout",
     "output_type": "stream",
     "text": [
      "Collecting mglearn\n",
      "  Downloading mglearn-0.1.9.tar.gz (540 kB)\n",
      "Requirement already satisfied: numpy in c:\\users\\user\\anaconda3\\lib\\site-packages (from mglearn) (1.18.5)\n",
      "Requirement already satisfied: matplotlib in c:\\users\\user\\anaconda3\\lib\\site-packages (from mglearn) (3.2.2)\n",
      "Requirement already satisfied: scikit-learn in c:\\users\\user\\anaconda3\\lib\\site-packages (from mglearn) (0.23.1)\n",
      "Requirement already satisfied: pandas in c:\\users\\user\\anaconda3\\lib\\site-packages (from mglearn) (1.0.5)\n",
      "Requirement already satisfied: pillow in c:\\users\\user\\anaconda3\\lib\\site-packages (from mglearn) (7.2.0)\n",
      "Requirement already satisfied: cycler in c:\\users\\user\\anaconda3\\lib\\site-packages (from mglearn) (0.10.0)\n",
      "Requirement already satisfied: imageio in c:\\users\\user\\anaconda3\\lib\\site-packages (from mglearn) (2.9.0)\n",
      "Requirement already satisfied: joblib in c:\\users\\user\\anaconda3\\lib\\site-packages (from mglearn) (1.0.1)\n",
      "Requirement already satisfied: kiwisolver>=1.0.1 in c:\\users\\user\\anaconda3\\lib\\site-packages (from matplotlib->mglearn) (1.2.0)\n",
      "Requirement already satisfied: python-dateutil>=2.1 in c:\\users\\user\\anaconda3\\lib\\site-packages (from matplotlib->mglearn) (2.8.1)\n",
      "Requirement already satisfied: pyparsing!=2.0.4,!=2.1.2,!=2.1.6,>=2.0.1 in c:\\users\\user\\anaconda3\\lib\\site-packages (from matplotlib->mglearn) (2.4.7)\n",
      "Requirement already satisfied: threadpoolctl>=2.0.0 in c:\\users\\user\\anaconda3\\lib\\site-packages (from scikit-learn->mglearn) (2.1.0)\n",
      "Requirement already satisfied: scipy>=0.19.1 in c:\\users\\user\\anaconda3\\lib\\site-packages (from scikit-learn->mglearn) (1.5.0)\n",
      "Requirement already satisfied: pytz>=2017.2 in c:\\users\\user\\anaconda3\\lib\\site-packages (from pandas->mglearn) (2020.1)\n",
      "Requirement already satisfied: six in c:\\users\\user\\anaconda3\\lib\\site-packages (from cycler->mglearn) (1.15.0)\n",
      "Building wheels for collected packages: mglearn\n",
      "  Building wheel for mglearn (setup.py): started\n",
      "  Building wheel for mglearn (setup.py): finished with status 'done'\n",
      "  Created wheel for mglearn: filename=mglearn-0.1.9-py2.py3-none-any.whl size=582645 sha256=7de118612218b7dd40a0c82046a921a1efb1f7b6b87c39aaaa60dc2ddd8eb671\n",
      "  Stored in directory: c:\\users\\user\\appdata\\local\\pip\\cache\\wheels\\87\\75\\37\\404e66d0c4bad150f101c9a0914b11a8eccc2681559936e7f7\n",
      "Successfully built mglearn\n",
      "Installing collected packages: mglearn\n",
      "Successfully installed mglearn-0.1.9\n"
     ]
    }
   ],
   "source": [
    "#@title 시각화를 위한 라이브러리 설치\n",
    "!pip install mglearn"
   ]
  },
  {
   "cell_type": "code",
   "execution_count": 2,
   "metadata": {
    "ExecuteTime": {
     "end_time": "2022-02-02T12:13:46.727955Z",
     "start_time": "2022-02-02T12:13:43.800458Z"
    },
    "id": "PBY7ETRfDTQE"
   },
   "outputs": [],
   "source": [
    "import sys, os\n",
    "import numpy as np\n",
    "import matplotlib.pyplot as plt\n",
    "from sklearn import datasets\n",
    "from sklearn.svm import SVC\n",
    "from sklearn.model_selection import train_test_split, GridSearchCV\n",
    "import mglearn"
   ]
  },
  {
   "cell_type": "markdown",
   "metadata": {
    "id": "4JpLk5vQFdS9"
   },
   "source": [
    "## SVM 살펴보기"
   ]
  },
  {
   "cell_type": "markdown",
   "metadata": {
    "id": "dRTJl94_Lu89"
   },
   "source": [
    "먼저 데이터를 준비합니다.\n",
    "\n",
    "Iris 데이터셋은 sklearn에서 제공해주는 데이터셋으로 \n",
    "Setosa, Versicolour, Virginica 이렇게 3가지 종류의 붓꽃이 있습니다.\n",
    "\n",
    "Feature는 Sepal Length, Sepal Width, Petal Length, Petal Width로 다양하지만 시각화를 위해 앞의 2가지인 Sepal Length, Sepal Width만 가지고 분류해봅시다.😎"
   ]
  },
  {
   "cell_type": "code",
   "execution_count": 3,
   "metadata": {
    "ExecuteTime": {
     "end_time": "2022-02-02T12:14:06.958065Z",
     "start_time": "2022-02-02T12:14:06.924330Z"
    },
    "id": "4GxlxUi1FWdh"
   },
   "outputs": [],
   "source": [
    "iris = datasets.load_iris()\n",
    "X = iris.data[:,0:2]\n",
    "y = iris.target\n",
    "X_train, X_test, y_train, y_test = train_test_split(X, y, test_size = 0.2, random_state=0)"
   ]
  },
  {
   "cell_type": "markdown",
   "metadata": {
    "id": "NYl-7BvDNQN9"
   },
   "source": [
    "그러면 이제 svm을 이용해서 학습시켜봅시다\n",
    "\n",
    "sklearn에서 제공해주는 함수에서 무엇을 쓰면 될까요?\n",
    "\n",
    "바로 sklearn.svm.SVC 입니다! 먼저 sklearn에서 제공해주는 공식문서부터 살펴봅시다.\n",
    "\n",
    "[document](https://scikit-learn.org/stable/modules/generated/sklearn.svm.SVC.html)\n",
    "\n",
    "이 SVC 함수는 svm을 분류기로 사용하기 위해 지원해주는 모델입니다.\n"
   ]
  },
  {
   "cell_type": "markdown",
   "metadata": {
    "id": "nDZcJpdxOZPp"
   },
   "source": [
    "SVC 코드를 살펴보면\n",
    "```\n",
    "SVC(*, C=1.0, kernel='rbf', degree=3, gamma='scale',\n",
    "  coef0=0.0, shrinking=True, probability=False, tol=0.001,\n",
    "  cache_size=200, class_weight=None, verbose=False, \n",
    "  max_iter=- 1, decision_function_shape='ovr', \n",
    "  break_ties=False, random_state=None)\n",
    "```\n",
    "이렇게나 많은 옵션이 있었네요😳"
   ]
  },
  {
   "cell_type": "markdown",
   "metadata": {
    "id": "1dqWQ8UgOlxk"
   },
   "source": [
    "## Non-Linear SVM"
   ]
  },
  {
   "cell_type": "code",
   "execution_count": 4,
   "metadata": {
    "ExecuteTime": {
     "end_time": "2022-02-02T12:16:36.061810Z",
     "start_time": "2022-02-02T12:16:36.043081Z"
    },
    "id": "K52EhEAfM9XR"
   },
   "outputs": [
    {
     "name": "stdout",
     "output_type": "stream",
     "text": [
      "학습용 데이터로 측정한 정확도 = 0.85\n",
      "시험용 데이터로 측정한 정확도 = 0.73\n"
     ]
    }
   ],
   "source": [
    "svm = SVC()\n",
    "svm.fit(X_train, y_train)\n",
    "\n",
    "\n",
    "print('학습용 데이터로 측정한 정확도 = %.2f' % svm.score(X_train, y_train))\n",
    "print('시험용 데이터로 측정한 정확도 = %.2f' % svm.score(X_test, y_test))"
   ]
  },
  {
   "cell_type": "markdown",
   "metadata": {
    "id": "xNtqnSTNLtrf"
   },
   "source": [
    "위의 결과를 시각화를 통해 확인해볼까요?"
   ]
  },
  {
   "cell_type": "code",
   "execution_count": 5,
   "metadata": {
    "ExecuteTime": {
     "end_time": "2022-02-02T12:17:04.111710Z",
     "start_time": "2022-02-02T12:17:02.452046Z"
    },
    "id": "1_3HsF5yR10a"
   },
   "outputs": [
    {
     "data": {
      "image/png": "[encoded data removed]",
      "text/plain": [
       "<Figure size 576x360 with 1 Axes>"
      ]
     },
     "metadata": {},
     "output_type": "display_data"
    }
   ],
   "source": [
    "def draw_plot(model,xlabel,ylabel):\n",
    "  plt.figure(figsize=(8, 5))\n",
    "  mglearn.plots.plot_2d_classification(model, X_train, alpha=0.1)\n",
    "  mglearn.discrete_scatter(X_train[:,0], X_train[:,1], y_train)\n",
    "  plt.legend()\n",
    "  plt.xlabel(xlabel)\n",
    "  plt.ylabel(ylabel)\n",
    "  plt.show()\n",
    "\n",
    "draw_plot(svm,'sepal length','sepal width')"
   ]
  },
  {
   "cell_type": "markdown",
   "metadata": {
    "id": "mwEEI874UCdC"
   },
   "source": [
    "## Linear SVM\n",
    "\n",
    "이번에는 linear한 svm을 살펴봅시다!\n",
    "\n",
    "위의 document를 참고하여 linear한 svm을 만들기 위해서는 어떤 옵션이 필요할 지 생각해 봅시다."
   ]
  },
  {
   "cell_type": "code",
   "execution_count": 6,
   "metadata": {
    "ExecuteTime": {
     "end_time": "2022-02-02T12:17:12.049267Z",
     "start_time": "2022-02-02T12:17:12.021698Z"
    },
    "id": "kbExve_xUCIK"
   },
   "outputs": [
    {
     "name": "stdout",
     "output_type": "stream",
     "text": [
      "학습용 데이터로 측정한 정확도 = 0.84\n",
      "시험용 데이터로 측정한 정확도 = 0.73\n"
     ]
    }
   ],
   "source": [
    "svm = SVC(\n",
    "    #################\n",
    "    kernel='linear'\n",
    "    #################\n",
    "    )\n",
    "svm.fit(X_train, y_train)\n",
    "\n",
    "\n",
    "print('학습용 데이터로 측정한 정확도 = %.2f' % svm.score(X_train, y_train))\n",
    "print('시험용 데이터로 측정한 정확도 = %.2f' % svm.score(X_test, y_test))"
   ]
  },
  {
   "cell_type": "code",
   "execution_count": 7,
   "metadata": {
    "ExecuteTime": {
     "end_time": "2022-02-02T12:17:14.674076Z",
     "start_time": "2022-02-02T12:17:13.831209Z"
    },
    "id": "XFBvziveVMe1"
   },
   "outputs": [
    {
     "data": {
      "image/png": "[encoded data removed]",
      "text/plain": [
       "<Figure size 576x360 with 1 Axes>"
      ]
     },
     "metadata": {},
     "output_type": "display_data"
    }
   ],
   "source": [
    "draw_plot(svm,'sepal length','sepal width')"
   ]
  },
  {
   "cell_type": "markdown",
   "metadata": {
    "id": "Y4EAbgUHVTRD"
   },
   "source": [
    "## SVM 성능 높여보기\n",
    "\n",
    "기본적인 svm 사용법에 대해서는 익혔으니까\n",
    "\n",
    "이번에는 성능을 높여볼까요?"
   ]
  },
  {
   "cell_type": "markdown",
   "metadata": {
    "id": "bOlIeq8vVxFv"
   },
   "source": [
    "여러가지 옵션들이 있지만 그 중 3가지만 바꿔봅시다!\n",
    "\n",
    "- kernel\n",
    "- gamma\n",
    "- C -> svm regularization parameter"
   ]
  },
  {
   "cell_type": "markdown",
   "metadata": {
    "id": "SHJO65KlWXvd"
   },
   "source": [
    "### ⚠️ 여기서 퀴즈 ⚠️\n",
    "\n",
    "Q1) kernel 종류들에는 어떤 것들이 있을까요?\n",
    "\n",
    "```\n",
    "{'linear', 'poly', 'rbf', 'sigmoid', 'precomputed'}\n",
    "default='rbf'\n",
    "```\n",
    "\n",
    "Q2) gamma 설정이 의미있는 kernel 모드는 무엇일까요? (힌트: 답은 복수개!)\n",
    "\n",
    "```\n",
    "'rbf', 'poly', 'sigmoid'\n",
    "```\n",
    "\n",
    "Q3) C가 의미하는 것은 무엇일까요?\n",
    "\n",
    "```\n",
    "Regularization parameter. \n",
    "The strength of the regularization is inversely proportional to C. \n",
    "Must be strictly positive.\n",
    "The penalty is a squared l2 penalty.\n",
    "trade-off를 결정하는 parameter\n",
    "```\n",
    "\n"
   ]
  },
  {
   "cell_type": "markdown",
   "metadata": {
    "id": "KrSIIZ69WMKN"
   },
   "source": [
    "### 예시"
   ]
  },
  {
   "cell_type": "code",
   "execution_count": 10,
   "metadata": {
    "ExecuteTime": {
     "end_time": "2022-02-02T12:20:40.267514Z",
     "start_time": "2022-02-02T12:20:40.245477Z"
    },
    "id": "palYH6RLWTdM"
   },
   "outputs": [
    {
     "name": "stdout",
     "output_type": "stream",
     "text": [
      "학습용 데이터로 측정한 정확도 = 0.84\n",
      "시험용 데이터로 측정한 정확도 = 0.63\n"
     ]
    }
   ],
   "source": [
    "kernel = 'poly'\n",
    "gamma = 0.6\n",
    "C = 0.9\n",
    "\n",
    "svm = SVC(\n",
    "    kernel=kernel,\n",
    "    gamma = gamma,\n",
    "    C = C\n",
    "    )\n",
    "svm.fit(X_train, y_train)\n",
    "\n",
    "\n",
    "print('학습용 데이터로 측정한 정확도 = %.2f' % svm.score(X_train, y_train))\n",
    "print('시험용 데이터로 측정한 정확도 = %.2f' % svm.score(X_test, y_test))"
   ]
  },
  {
   "cell_type": "code",
   "execution_count": 11,
   "metadata": {
    "ExecuteTime": {
     "end_time": "2022-02-02T12:20:42.714812Z",
     "start_time": "2022-02-02T12:20:41.805273Z"
    },
    "id": "P-aFeTA3Zk1J"
   },
   "outputs": [
    {
     "data": {
      "image/png": "[encoded data removed]",
      "text/plain": [
       "<Figure size 576x360 with 1 Axes>"
      ]
     },
     "metadata": {},
     "output_type": "display_data"
    }
   ],
   "source": [
    "draw_plot(svm,'sepal length','sepal width')"
   ]
  },
  {
   "cell_type": "markdown",
   "metadata": {
    "id": "_JhSR1imYOPj"
   },
   "source": [
    "흑....😭\n",
    "\n",
    "제가 직접 바꿔보니 성능이 더 안 좋아진 것 같아요ㅠㅠㅠ😱\n",
    "\n",
    "여러분은 왜 안 좋아진 것 같나요?? \n",
    "\n",
    "한 번 고민해보시고 \n",
    "여러분이 좋은 파라미터 값들을 찾아주세요🤗"
   ]
  },
  {
   "cell_type": "markdown",
   "metadata": {
    "id": "v2Yyf4t1Z7Yg"
   },
   "source": [
    "### 적절한 파라미터 찾아보기"
   ]
  },
  {
   "cell_type": "code",
   "execution_count": 13,
   "metadata": {
    "ExecuteTime": {
     "end_time": "2022-02-02T12:25:35.138111Z",
     "start_time": "2022-02-02T12:25:35.118046Z"
    }
   },
   "outputs": [],
   "source": [
    "kernels = ['Polynomial', 'RBF', 'Sigmoid','Linear']#A function which returns the corresponding SVC model\n",
    "def getClassifier(ktype):\n",
    "    if ktype == 0:\n",
    "        # Polynomial kernal\n",
    "        return SVC(kernel='poly', degree=8, gamma=\"auto\")\n",
    "    elif ktype == 1:li\n",
    "        # Radial Basis Function kernal\n",
    "        return SVC(kernel='rbf', gamma=\"auto\")\n",
    "    elif ktype == 2:\n",
    "        # Sigmoid kernal\n",
    "        return SVC(kernel='sigmoid', gamma=\"auto\")\n",
    "    elif ktype == 3:\n",
    "        # Linear kernal\n",
    "        return SVC(kernel='linear', gamma=\"auto\")"
   ]
  },
  {
   "cell_type": "code",
   "execution_count": 16,
   "metadata": {
    "ExecuteTime": {
     "end_time": "2022-02-02T12:27:44.271932Z",
     "start_time": "2022-02-02T12:27:39.113010Z"
    },
    "scrolled": true
   },
   "outputs": [
    {
     "name": "stdout",
     "output_type": "stream",
     "text": [
      "Evaluation: Polynomial kernel\n",
      "              precision    recall  f1-score   support\n",
      "\n",
      "           0       1.00      1.00      1.00        11\n",
      "           1       0.75      0.23      0.35        13\n",
      "           2       0.33      0.83      0.48         6\n",
      "\n",
      "    accuracy                           0.63        30\n",
      "   macro avg       0.69      0.69      0.61        30\n",
      "weighted avg       0.76      0.63      0.61        30\n",
      "\n",
      "Evaluation: RBF kernel\n",
      "              precision    recall  f1-score   support\n",
      "\n",
      "           0       1.00      1.00      1.00        11\n",
      "           1       0.62      0.38      0.48        13\n",
      "           2       0.27      0.50      0.35         6\n",
      "\n",
      "    accuracy                           0.63        30\n",
      "   macro avg       0.63      0.63      0.61        30\n",
      "weighted avg       0.69      0.63      0.64        30\n",
      "\n",
      "Evaluation: Sigmoid kernel\n",
      "              precision    recall  f1-score   support\n",
      "\n",
      "           0       0.00      0.00      0.00        11\n",
      "           1       0.00      0.00      0.00        13\n",
      "           2       0.20      1.00      0.33         6\n",
      "\n",
      "    accuracy                           0.20        30\n",
      "   macro avg       0.07      0.33      0.11        30\n",
      "weighted avg       0.04      0.20      0.07        30\n",
      "\n",
      "Evaluation: Linear kernel\n",
      "              precision    recall  f1-score   support\n",
      "\n",
      "           0       1.00      1.00      1.00        11\n",
      "           1       0.73      0.62      0.67        13\n",
      "           2       0.38      0.50      0.43         6\n",
      "\n",
      "    accuracy                           0.73        30\n",
      "   macro avg       0.70      0.71      0.70        30\n",
      "weighted avg       0.76      0.73      0.74        30\n",
      "\n"
     ]
    },
    {
     "name": "stderr",
     "output_type": "stream",
     "text": [
      "C:\\Users\\User\\anaconda3\\lib\\site-packages\\sklearn\\metrics\\_classification.py:1221: UndefinedMetricWarning: Precision and F-score are ill-defined and being set to 0.0 in labels with no predicted samples. Use `zero_division` parameter to control this behavior.\n",
      "  _warn_prf(average, modifier, msg_start, len(result))\n"
     ]
    }
   ],
   "source": [
    "from sklearn.metrics import classification_report\n",
    "for i in range(4):\n",
    "    # Separate data into test and training sets\n",
    "    svclassifier = getClassifier(i) \n",
    "    svclassifier.fit(X_train, y_train)# Make prediction\n",
    "    y_pred = svclassifier.predict(X_test)# Evaluate our model\n",
    "    print(\"Evaluation:\", kernels[i], \"kernel\")\n",
    "    print(classification_report(y_test,y_pred))"
   ]
  },
  {
   "cell_type": "code",
   "execution_count": 24,
   "metadata": {
    "ExecuteTime": {
     "end_time": "2022-02-02T12:31:06.845317Z",
     "start_time": "2022-02-02T12:31:06.824714Z"
    },
    "id": "suJ9UZ2sJuqJ"
   },
   "outputs": [
    {
     "name": "stdout",
     "output_type": "stream",
     "text": [
      "학습용 데이터로 측정한 정확도 = 0.84\n",
      "시험용 데이터로 측정한 정확도 = 0.73\n"
     ]
    }
   ],
   "source": [
    "###################\n",
    "kernel = 'linear'\n",
    "gamma = 'auto'\n",
    "C = 0.5\n",
    "###################\n",
    "svm = SVC(\n",
    "    kernel=kernel,\n",
    "    gamma = gamma,\n",
    "    C = C\n",
    "    )\n",
    "svm.fit(X_train, y_train)\n",
    "\n",
    "\n",
    "print('학습용 데이터로 측정한 정확도 = %.2f' % svm.score(X_train, y_train))\n",
    "print('시험용 데이터로 측정한 정확도 = %.2f' % svm.score(X_test, y_test))"
   ]
  },
  {
   "cell_type": "code",
   "execution_count": 25,
   "metadata": {
    "ExecuteTime": {
     "end_time": "2022-02-02T12:31:08.477531Z",
     "start_time": "2022-02-02T12:31:07.604620Z"
    },
    "id": "nLYJKf5FJvqK"
   },
   "outputs": [
    {
     "data": {
      "image/png": "[encoded data removed]",
      "text/plain": [
       "<Figure size 576x360 with 1 Axes>"
      ]
     },
     "metadata": {},
     "output_type": "display_data"
    }
   ],
   "source": [
    "draw_plot(svm,'sepal length','sepal width')"
   ]
  },
  {
   "cell_type": "markdown",
   "metadata": {
    "id": "iA7m7YmvaCvr"
   },
   "source": [
    "### 추가로 이전에 선택해줬던 Iris의 Feature를 바꿔주면 더 높게 나올 수도 있답니다~"
   ]
  },
  {
   "cell_type": "markdown",
   "metadata": {
    "id": "VzkDBBw_ab1-"
   },
   "source": [
    " - 0 : Sepal Length\n",
    " - 1 : Sepal Width\n",
    " - 2 : Petal Length\n",
    " - 3 : Petal Width"
   ]
  },
  {
   "cell_type": "code",
   "execution_count": 29,
   "metadata": {
    "ExecuteTime": {
     "end_time": "2022-02-02T12:31:37.522299Z",
     "start_time": "2022-02-02T12:31:37.510172Z"
    },
    "id": "nfxkVeKzaPJI"
   },
   "outputs": [],
   "source": [
    "#########################\n",
    "X = iris.data[:,]\n",
    "#########################\n",
    "y = iris.target\n",
    "X_train, X_test, y_train, y_test = train_test_split(X, y, test_size = 0.2, random_state=0)"
   ]
  },
  {
   "cell_type": "code",
   "execution_count": 32,
   "metadata": {
    "ExecuteTime": {
     "end_time": "2022-02-02T12:32:56.998942Z",
     "start_time": "2022-02-02T12:32:56.973127Z"
    },
    "id": "gdzQ5guCaRSm"
   },
   "outputs": [
    {
     "name": "stdout",
     "output_type": "stream",
     "text": [
      "학습용 데이터로 측정한 정확도 = 0.97\n",
      "시험용 데이터로 측정한 정확도 = 1.00\n"
     ]
    }
   ],
   "source": [
    "###################\n",
    "kernel = 'linear'\n",
    "gamma = 'auto'\n",
    "C = 0.5\n",
    "###################\n",
    "svm = SVC(\n",
    "    kernel=kernel,\n",
    "    gamma = gamma,\n",
    "    C = C\n",
    "    )\n",
    "svm.fit(X_train, y_train)\n",
    "\n",
    "\n",
    "print('학습용 데이터로 측정한 정확도 = %.2f' % svm.score(X_train, y_train))\n",
    "print('시험용 데이터로 측정한 정확도 = %.2f' % svm.score(X_test, y_test))"
   ]
  },
  {
   "cell_type": "code",
   "execution_count": 34,
   "metadata": {
    "ExecuteTime": {
     "end_time": "2022-02-02T12:33:13.084869Z",
     "start_time": "2022-02-02T12:33:13.069023Z"
    }
   },
   "outputs": [
    {
     "data": {
      "text/plain": [
       "array([[6.4, 3.1, 5.5, 1.8],\n",
       "       [5.4, 3. , 4.5, 1.5],\n",
       "       [5.2, 3.5, 1.5, 0.2],\n",
       "       [6.1, 3. , 4.9, 1.8],\n",
       "       [6.4, 2.8, 5.6, 2.2],\n",
       "       [5.2, 2.7, 3.9, 1.4],\n",
       "       [5.7, 3.8, 1.7, 0.3],\n",
       "       [6. , 2.7, 5.1, 1.6],\n",
       "       [5.9, 3. , 4.2, 1.5],\n",
       "       [5.8, 2.6, 4. , 1.2],\n",
       "       [6.8, 3. , 5.5, 2.1],\n",
       "       [4.7, 3.2, 1.3, 0.2],\n",
       "       [6.9, 3.1, 5.1, 2.3],\n",
       "       [5. , 3.5, 1.6, 0.6],\n",
       "       [5.4, 3.7, 1.5, 0.2],\n",
       "       [5. , 2. , 3.5, 1. ],\n",
       "       [6.5, 3. , 5.5, 1.8],\n",
       "       [6.7, 3.3, 5.7, 2.5],\n",
       "       [6. , 2.2, 5. , 1.5],\n",
       "       [6.7, 2.5, 5.8, 1.8],\n",
       "       [5.6, 2.5, 3.9, 1.1],\n",
       "       [7.7, 3. , 6.1, 2.3],\n",
       "       [6.3, 3.3, 4.7, 1.6],\n",
       "       [5.5, 2.4, 3.8, 1.1],\n",
       "       [6.3, 2.7, 4.9, 1.8],\n",
       "       [6.3, 2.8, 5.1, 1.5],\n",
       "       [4.9, 2.5, 4.5, 1.7],\n",
       "       [6.3, 2.5, 5. , 1.9],\n",
       "       [7. , 3.2, 4.7, 1.4],\n",
       "       [6.5, 3. , 5.2, 2. ],\n",
       "       [6. , 3.4, 4.5, 1.6],\n",
       "       [4.8, 3.1, 1.6, 0.2],\n",
       "       [5.8, 2.7, 5.1, 1.9],\n",
       "       [5.6, 2.7, 4.2, 1.3],\n",
       "       [5.6, 2.9, 3.6, 1.3],\n",
       "       [5.5, 2.5, 4. , 1.3],\n",
       "       [6.1, 3. , 4.6, 1.4],\n",
       "       [7.2, 3.2, 6. , 1.8],\n",
       "       [5.3, 3.7, 1.5, 0.2],\n",
       "       [4.3, 3. , 1.1, 0.1],\n",
       "       [6.4, 2.7, 5.3, 1.9],\n",
       "       [5.7, 3. , 4.2, 1.2],\n",
       "       [5.4, 3.4, 1.7, 0.2],\n",
       "       [5.7, 4.4, 1.5, 0.4],\n",
       "       [6.9, 3.1, 4.9, 1.5],\n",
       "       [4.6, 3.1, 1.5, 0.2],\n",
       "       [5.9, 3. , 5.1, 1.8],\n",
       "       [5.1, 2.5, 3. , 1.1],\n",
       "       [4.6, 3.4, 1.4, 0.3],\n",
       "       [6.2, 2.2, 4.5, 1.5],\n",
       "       [7.2, 3.6, 6.1, 2.5],\n",
       "       [5.7, 2.9, 4.2, 1.3],\n",
       "       [4.8, 3. , 1.4, 0.1],\n",
       "       [7.1, 3. , 5.9, 2.1],\n",
       "       [6.9, 3.2, 5.7, 2.3],\n",
       "       [6.5, 3. , 5.8, 2.2],\n",
       "       [6.4, 2.8, 5.6, 2.1],\n",
       "       [5.1, 3.8, 1.6, 0.2],\n",
       "       [4.8, 3.4, 1.6, 0.2],\n",
       "       [6.5, 3.2, 5.1, 2. ],\n",
       "       [6.7, 3.3, 5.7, 2.1],\n",
       "       [4.5, 2.3, 1.3, 0.3],\n",
       "       [6.2, 3.4, 5.4, 2.3],\n",
       "       [4.9, 3. , 1.4, 0.2],\n",
       "       [5.7, 2.5, 5. , 2. ],\n",
       "       [6.9, 3.1, 5.4, 2.1],\n",
       "       [4.4, 3.2, 1.3, 0.2],\n",
       "       [5. , 3.6, 1.4, 0.2],\n",
       "       [7.2, 3. , 5.8, 1.6],\n",
       "       [5.1, 3.5, 1.4, 0.3],\n",
       "       [4.4, 3. , 1.3, 0.2],\n",
       "       [5.4, 3.9, 1.7, 0.4],\n",
       "       [5.5, 2.3, 4. , 1.3],\n",
       "       [6.8, 3.2, 5.9, 2.3],\n",
       "       [7.6, 3. , 6.6, 2.1],\n",
       "       [5.1, 3.5, 1.4, 0.2],\n",
       "       [4.9, 3.1, 1.5, 0.2],\n",
       "       [5.2, 3.4, 1.4, 0.2],\n",
       "       [5.7, 2.8, 4.5, 1.3],\n",
       "       [6.6, 3. , 4.4, 1.4],\n",
       "       [5. , 3.2, 1.2, 0.2],\n",
       "       [5.1, 3.3, 1.7, 0.5],\n",
       "       [6.4, 2.9, 4.3, 1.3],\n",
       "       [5.4, 3.4, 1.5, 0.4],\n",
       "       [7.7, 2.6, 6.9, 2.3],\n",
       "       [4.9, 2.4, 3.3, 1. ],\n",
       "       [7.9, 3.8, 6.4, 2. ],\n",
       "       [6.7, 3.1, 4.4, 1.4],\n",
       "       [5.2, 4.1, 1.5, 0.1],\n",
       "       [6. , 3. , 4.8, 1.8],\n",
       "       [5.8, 4. , 1.2, 0.2],\n",
       "       [7.7, 2.8, 6.7, 2. ],\n",
       "       [5.1, 3.8, 1.5, 0.3],\n",
       "       [4.7, 3.2, 1.6, 0.2],\n",
       "       [7.4, 2.8, 6.1, 1.9],\n",
       "       [5. , 3.3, 1.4, 0.2],\n",
       "       [6.3, 3.4, 5.6, 2.4],\n",
       "       [5.7, 2.8, 4.1, 1.3],\n",
       "       [5.8, 2.7, 3.9, 1.2],\n",
       "       [5.7, 2.6, 3.5, 1. ],\n",
       "       [6.4, 3.2, 5.3, 2.3],\n",
       "       [6.7, 3. , 5.2, 2.3],\n",
       "       [6.3, 2.5, 4.9, 1.5],\n",
       "       [6.7, 3. , 5. , 1.7],\n",
       "       [5. , 3. , 1.6, 0.2],\n",
       "       [5.5, 2.4, 3.7, 1. ],\n",
       "       [6.7, 3.1, 5.6, 2.4],\n",
       "       [5.8, 2.7, 5.1, 1.9],\n",
       "       [5.1, 3.4, 1.5, 0.2],\n",
       "       [6.6, 2.9, 4.6, 1.3],\n",
       "       [5.6, 3. , 4.1, 1.3],\n",
       "       [5.9, 3.2, 4.8, 1.8],\n",
       "       [6.3, 2.3, 4.4, 1.3],\n",
       "       [5.5, 3.5, 1.3, 0.2],\n",
       "       [5.1, 3.7, 1.5, 0.4],\n",
       "       [4.9, 3.1, 1.5, 0.1],\n",
       "       [6.3, 2.9, 5.6, 1.8],\n",
       "       [5.8, 2.7, 4.1, 1. ],\n",
       "       [7.7, 3.8, 6.7, 2.2],\n",
       "       [4.6, 3.2, 1.4, 0.2]])"
      ]
     },
     "execution_count": 34,
     "metadata": {},
     "output_type": "execute_result"
    }
   ],
   "source": [
    "X_train"
   ]
  },
  {
   "cell_type": "code",
   "execution_count": null,
   "metadata": {},
   "outputs": [],
   "source": []
  },
  {
   "cell_type": "markdown",
   "metadata": {
    "id": "DsiFF5mbFRab"
   },
   "source": [
    "# Decision Tree 과제\n",
    "\n",
    "*사이킷런의 유방암 데이터셋을 사용합니다.*\n",
    "\n",
    "## 1. 매개변수를 지정하지 않은 모델을 훈련시킨 후 이를 시각화로 나타내주세요. \n",
    "(데이터셋을 train test split 함수를 사용해 분리한 후, 모델을 훈련시킵니다.)"
   ]
  },
  {
   "cell_type": "code",
   "execution_count": 44,
   "metadata": {
    "ExecuteTime": {
     "end_time": "2022-02-02T12:37:32.120133Z",
     "start_time": "2022-02-02T12:37:32.112136Z"
    }
   },
   "outputs": [],
   "source": [
    "import sklearn\n",
    "from sklearn import tree\n",
    "from sklearn.model_selection import train_test_split\n",
    "\n",
    "import graphviz"
   ]
  },
  {
   "cell_type": "code",
   "execution_count": 41,
   "metadata": {
    "ExecuteTime": {
     "end_time": "2022-02-02T12:35:46.347130Z",
     "start_time": "2022-02-02T12:35:46.305237Z"
    },
    "id": "wt-Vsm8aFQbj"
   },
   "outputs": [],
   "source": [
    "cancer = datasets.load_breast_cancer()\n",
    "X = cancer.data\n",
    "y = cancer.target\n",
    "\n",
    "X_train, X_test, y_train, y_test = train_test_split(X, y, test_size=0.3, random_state=42)"
   ]
  },
  {
   "cell_type": "code",
   "execution_count": 43,
   "metadata": {
    "ExecuteTime": {
     "end_time": "2022-02-02T12:36:11.277329Z",
     "start_time": "2022-02-02T12:36:11.240364Z"
    }
   },
   "outputs": [],
   "source": [
    "from sklearn.tree import DecisionTreeClassifier\n",
    "\n",
    "# 아무런 매개변수를 지정하지 않고 모델 생성\n",
    "clf = DecisionTreeClassifier(random_state=42) \n",
    "\n",
    "#모델 적합\n",
    "clf = clf.fit(X_train, y_train)"
   ]
  },
  {
   "cell_type": "code",
   "execution_count": 45,
   "metadata": {
    "ExecuteTime": {
     "end_time": "2022-02-02T12:38:05.707512Z",
     "start_time": "2022-02-02T12:38:04.864910Z"
    },
    "scrolled": false
   },
   "outputs": [
    {
     "data": {
      "image/svg+xml": [
       "<?xml version=\"1.0\" encoding=\"UTF-8\" standalone=\"no\"?>\r\n",
       "<!DOCTYPE svg PUBLIC \"-//W3C//DTD SVG 1.1//EN\"\r\n",
       " \"http://www.w3.org/Graphics/SVG/1.1/DTD/svg11.dtd\">\r\n",
       "<!-- Generated by graphviz version 2.38.0 (20140413.2041)\r\n",
       " -->\r\n",
       "<!-- Title: Tree Pages: 1 -->\r\n",
       "<svg width=\"1616pt\" height=\"909pt\"\r\n",
       " viewBox=\"0.00 0.00 1615.50 909.00\" xmlns=\"http://www.w3.org/2000/svg\" xmlns:xlink=\"http://www.w3.org/1999/xlink\">\r\n",
       "<g id=\"graph0\" class=\"graph\" transform=\"scale(1 1) rotate(0) translate(4 905)\">\r\n",
       "<title>Tree</title>\r\n",
       "<polygon fill=\"white\" stroke=\"none\" points=\"-4,4 -4,-905 1611.5,-905 1611.5,4 -4,4\"/>\r\n",
       "<!-- 0 -->\r\n",
       "<g id=\"node1\" class=\"node\"><title>0</title>\r\n",
       "<path fill=\"#afd8f5\" stroke=\"black\" d=\"M1097.5,-901C1097.5,-901 918.5,-901 918.5,-901 912.5,-901 906.5,-895 906.5,-889 906.5,-889 906.5,-830 906.5,-830 906.5,-824 912.5,-818 918.5,-818 918.5,-818 1097.5,-818 1097.5,-818 1103.5,-818 1109.5,-824 1109.5,-830 1109.5,-830 1109.5,-889 1109.5,-889 1109.5,-895 1103.5,-901 1097.5,-901\"/>\r\n",
       "<text text-anchor=\"start\" x=\"914.5\" y=\"-885.8\" font-family=\"Helvetica,sans-Serif\" font-size=\"14.00\">mean concave points ≤ 0.051</text>\r\n",
       "<text text-anchor=\"start\" x=\"970.5\" y=\"-870.8\" font-family=\"Helvetica,sans-Serif\" font-size=\"14.00\">gini = 0.468</text>\r\n",
       "<text text-anchor=\"start\" x=\"960.5\" y=\"-855.8\" font-family=\"Helvetica,sans-Serif\" font-size=\"14.00\">samples = 398</text>\r\n",
       "<text text-anchor=\"start\" x=\"951\" y=\"-840.8\" font-family=\"Helvetica,sans-Serif\" font-size=\"14.00\">value = [149, 249]</text>\r\n",
       "<text text-anchor=\"start\" x=\"962\" y=\"-825.8\" font-family=\"Helvetica,sans-Serif\" font-size=\"14.00\">class = benign</text>\r\n",
       "</g>\r\n",
       "<!-- 1 -->\r\n",
       "<g id=\"node2\" class=\"node\"><title>1</title>\r\n",
       "<path fill=\"#44a2e6\" stroke=\"black\" d=\"M944,-782C944,-782 824,-782 824,-782 818,-782 812,-776 812,-770 812,-770 812,-711 812,-711 812,-705 818,-699 824,-699 824,-699 944,-699 944,-699 950,-699 956,-705 956,-711 956,-711 956,-770 956,-770 956,-776 950,-782 944,-782\"/>\r\n",
       "<text text-anchor=\"start\" x=\"820\" y=\"-766.8\" font-family=\"Helvetica,sans-Serif\" font-size=\"14.00\">worst radius ≤ 16.83</text>\r\n",
       "<text text-anchor=\"start\" x=\"855\" y=\"-751.8\" font-family=\"Helvetica,sans-Serif\" font-size=\"14.00\">gini = 0.1</text>\r\n",
       "<text text-anchor=\"start\" x=\"836.5\" y=\"-736.8\" font-family=\"Helvetica,sans-Serif\" font-size=\"14.00\">samples = 245</text>\r\n",
       "<text text-anchor=\"start\" x=\"831\" y=\"-721.8\" font-family=\"Helvetica,sans-Serif\" font-size=\"14.00\">value = [13, 232]</text>\r\n",
       "<text text-anchor=\"start\" x=\"838\" y=\"-706.8\" font-family=\"Helvetica,sans-Serif\" font-size=\"14.00\">class = benign</text>\r\n",
       "</g>\r\n",
       "<!-- 0&#45;&gt;1 -->\r\n",
       "<g id=\"edge1\" class=\"edge\"><title>0&#45;&gt;1</title>\r\n",
       "<path fill=\"none\" stroke=\"black\" d=\"M964.979,-817.907C955.072,-808.56 944.45,-798.538 934.266,-788.929\"/>\r\n",
       "<polygon fill=\"black\" stroke=\"black\" points=\"936.621,-786.338 926.945,-782.021 931.817,-791.429 936.621,-786.338\"/>\r\n",
       "<text text-anchor=\"middle\" x=\"927.671\" y=\"-803.31\" font-family=\"Helvetica,sans-Serif\" font-size=\"14.00\">True</text>\r\n",
       "</g>\r\n",
       "<!-- 22 -->\r\n",
       "<g id=\"node23\" class=\"node\"><title>22</title>\r\n",
       "<path fill=\"#e89152\" stroke=\"black\" d=\"M1198.5,-782C1198.5,-782 1065.5,-782 1065.5,-782 1059.5,-782 1053.5,-776 1053.5,-770 1053.5,-770 1053.5,-711 1053.5,-711 1053.5,-705 1059.5,-699 1065.5,-699 1065.5,-699 1198.5,-699 1198.5,-699 1204.5,-699 1210.5,-705 1210.5,-711 1210.5,-711 1210.5,-770 1210.5,-770 1210.5,-776 1204.5,-782 1198.5,-782\"/>\r\n",
       "<text text-anchor=\"start\" x=\"1061.5\" y=\"-766.8\" font-family=\"Helvetica,sans-Serif\" font-size=\"14.00\">worst texture ≤ 20.405</text>\r\n",
       "<text text-anchor=\"start\" x=\"1094.5\" y=\"-751.8\" font-family=\"Helvetica,sans-Serif\" font-size=\"14.00\">gini = 0.198</text>\r\n",
       "<text text-anchor=\"start\" x=\"1084.5\" y=\"-736.8\" font-family=\"Helvetica,sans-Serif\" font-size=\"14.00\">samples = 153</text>\r\n",
       "<text text-anchor=\"start\" x=\"1079\" y=\"-721.8\" font-family=\"Helvetica,sans-Serif\" font-size=\"14.00\">value = [136, 17]</text>\r\n",
       "<text text-anchor=\"start\" x=\"1077.5\" y=\"-706.8\" font-family=\"Helvetica,sans-Serif\" font-size=\"14.00\">class = malignant</text>\r\n",
       "</g>\r\n",
       "<!-- 0&#45;&gt;22 -->\r\n",
       "<g id=\"edge22\" class=\"edge\"><title>0&#45;&gt;22</title>\r\n",
       "<path fill=\"none\" stroke=\"black\" d=\"M1051.02,-817.907C1060.93,-808.56 1071.55,-798.538 1081.73,-788.929\"/>\r\n",
       "<polygon fill=\"black\" stroke=\"black\" points=\"1084.18,-791.429 1089.05,-782.021 1079.38,-786.338 1084.18,-791.429\"/>\r\n",
       "<text text-anchor=\"middle\" x=\"1088.33\" y=\"-803.31\" font-family=\"Helvetica,sans-Serif\" font-size=\"14.00\">False</text>\r\n",
       "</g>\r\n",
       "<!-- 2 -->\r\n",
       "<g id=\"node3\" class=\"node\"><title>2</title>\r\n",
       "<path fill=\"#3d9fe6\" stroke=\"black\" d=\"M659,-663C659,-663 561,-663 561,-663 555,-663 549,-657 549,-651 549,-651 549,-592 549,-592 549,-586 555,-580 561,-580 561,-580 659,-580 659,-580 665,-580 671,-586 671,-592 671,-592 671,-651 671,-651 671,-657 665,-663 659,-663\"/>\r\n",
       "<text text-anchor=\"start\" x=\"557\" y=\"-647.8\" font-family=\"Helvetica,sans-Serif\" font-size=\"14.00\">area error ≤ 48.7</text>\r\n",
       "<text text-anchor=\"start\" x=\"572.5\" y=\"-632.8\" font-family=\"Helvetica,sans-Serif\" font-size=\"14.00\">gini = 0.043</text>\r\n",
       "<text text-anchor=\"start\" x=\"562.5\" y=\"-617.8\" font-family=\"Helvetica,sans-Serif\" font-size=\"14.00\">samples = 230</text>\r\n",
       "<text text-anchor=\"start\" x=\"561.5\" y=\"-602.8\" font-family=\"Helvetica,sans-Serif\" font-size=\"14.00\">value = [5, 225]</text>\r\n",
       "<text text-anchor=\"start\" x=\"564\" y=\"-587.8\" font-family=\"Helvetica,sans-Serif\" font-size=\"14.00\">class = benign</text>\r\n",
       "</g>\r\n",
       "<!-- 1&#45;&gt;2 -->\r\n",
       "<g id=\"edge2\" class=\"edge\"><title>1&#45;&gt;2</title>\r\n",
       "<path fill=\"none\" stroke=\"black\" d=\"M811.651,-708.607C771.054,-691.271 720.628,-669.739 680.358,-652.543\"/>\r\n",
       "<polygon fill=\"black\" stroke=\"black\" points=\"681.713,-649.316 671.142,-648.608 678.964,-655.754 681.713,-649.316\"/>\r\n",
       "</g>\r\n",
       "<!-- 17 -->\r\n",
       "<g id=\"node18\" class=\"node\"><title>17</title>\r\n",
       "<path fill=\"#fcefe6\" stroke=\"black\" d=\"M947,-663C947,-663 821,-663 821,-663 815,-663 809,-657 809,-651 809,-651 809,-592 809,-592 809,-586 815,-580 821,-580 821,-580 947,-580 947,-580 953,-580 959,-586 959,-592 959,-592 959,-651 959,-651 959,-657 953,-663 947,-663\"/>\r\n",
       "<text text-anchor=\"start\" x=\"817\" y=\"-647.8\" font-family=\"Helvetica,sans-Serif\" font-size=\"14.00\">mean texture ≤ 16.19</text>\r\n",
       "<text text-anchor=\"start\" x=\"846.5\" y=\"-632.8\" font-family=\"Helvetica,sans-Serif\" font-size=\"14.00\">gini = 0.498</text>\r\n",
       "<text text-anchor=\"start\" x=\"840.5\" y=\"-617.8\" font-family=\"Helvetica,sans-Serif\" font-size=\"14.00\">samples = 15</text>\r\n",
       "<text text-anchor=\"start\" x=\"843.5\" y=\"-602.8\" font-family=\"Helvetica,sans-Serif\" font-size=\"14.00\">value = [8, 7]</text>\r\n",
       "<text text-anchor=\"start\" x=\"829.5\" y=\"-587.8\" font-family=\"Helvetica,sans-Serif\" font-size=\"14.00\">class = malignant</text>\r\n",
       "</g>\r\n",
       "<!-- 1&#45;&gt;17 -->\r\n",
       "<g id=\"edge17\" class=\"edge\"><title>1&#45;&gt;17</title>\r\n",
       "<path fill=\"none\" stroke=\"black\" d=\"M884,-698.907C884,-690.649 884,-681.864 884,-673.302\"/>\r\n",
       "<polygon fill=\"black\" stroke=\"black\" points=\"887.5,-673.021 884,-663.021 880.5,-673.021 887.5,-673.021\"/>\r\n",
       "</g>\r\n",
       "<!-- 3 -->\r\n",
       "<g id=\"node4\" class=\"node\"><title>3</title>\r\n",
       "<path fill=\"#3c9ee5\" stroke=\"black\" d=\"M504,-544C504,-544 344,-544 344,-544 338,-544 332,-538 332,-532 332,-532 332,-473 332,-473 332,-467 338,-461 344,-461 344,-461 504,-461 504,-461 510,-461 516,-467 516,-473 516,-473 516,-532 516,-532 516,-538 510,-544 504,-544\"/>\r\n",
       "<text text-anchor=\"start\" x=\"340\" y=\"-528.8\" font-family=\"Helvetica,sans-Serif\" font-size=\"14.00\">worst smoothness ≤ 0.178</text>\r\n",
       "<text text-anchor=\"start\" x=\"386.5\" y=\"-513.8\" font-family=\"Helvetica,sans-Serif\" font-size=\"14.00\">gini = 0.026</text>\r\n",
       "<text text-anchor=\"start\" x=\"376.5\" y=\"-498.8\" font-family=\"Helvetica,sans-Serif\" font-size=\"14.00\">samples = 227</text>\r\n",
       "<text text-anchor=\"start\" x=\"375.5\" y=\"-483.8\" font-family=\"Helvetica,sans-Serif\" font-size=\"14.00\">value = [3, 224]</text>\r\n",
       "<text text-anchor=\"start\" x=\"378\" y=\"-468.8\" font-family=\"Helvetica,sans-Serif\" font-size=\"14.00\">class = benign</text>\r\n",
       "</g>\r\n",
       "<!-- 2&#45;&gt;3 -->\r\n",
       "<g id=\"edge3\" class=\"edge\"><title>2&#45;&gt;3</title>\r\n",
       "<path fill=\"none\" stroke=\"black\" d=\"M548.839,-582.028C532.339,-571.649 514.318,-560.313 497.23,-549.564\"/>\r\n",
       "<polygon fill=\"black\" stroke=\"black\" points=\"498.721,-546.367 488.393,-544.005 494.994,-552.292 498.721,-546.367\"/>\r\n",
       "</g>\r\n",
       "<!-- 14 -->\r\n",
       "<g id=\"node15\" class=\"node\"><title>14</title>\r\n",
       "<path fill=\"#f2c09c\" stroke=\"black\" d=\"M674,-544C674,-544 546,-544 546,-544 540,-544 534,-538 534,-532 534,-532 534,-473 534,-473 534,-467 540,-461 546,-461 546,-461 674,-461 674,-461 680,-461 686,-467 686,-473 686,-473 686,-532 686,-532 686,-538 680,-544 674,-544\"/>\r\n",
       "<text text-anchor=\"start\" x=\"542\" y=\"-528.8\" font-family=\"Helvetica,sans-Serif\" font-size=\"14.00\">concavity error ≤ 0.02</text>\r\n",
       "<text text-anchor=\"start\" x=\"572.5\" y=\"-513.8\" font-family=\"Helvetica,sans-Serif\" font-size=\"14.00\">gini = 0.444</text>\r\n",
       "<text text-anchor=\"start\" x=\"570.5\" y=\"-498.8\" font-family=\"Helvetica,sans-Serif\" font-size=\"14.00\">samples = 3</text>\r\n",
       "<text text-anchor=\"start\" x=\"569.5\" y=\"-483.8\" font-family=\"Helvetica,sans-Serif\" font-size=\"14.00\">value = [2, 1]</text>\r\n",
       "<text text-anchor=\"start\" x=\"555.5\" y=\"-468.8\" font-family=\"Helvetica,sans-Serif\" font-size=\"14.00\">class = malignant</text>\r\n",
       "</g>\r\n",
       "<!-- 2&#45;&gt;14 -->\r\n",
       "<g id=\"edge14\" class=\"edge\"><title>2&#45;&gt;14</title>\r\n",
       "<path fill=\"none\" stroke=\"black\" d=\"M610,-579.907C610,-571.649 610,-562.864 610,-554.302\"/>\r\n",
       "<polygon fill=\"black\" stroke=\"black\" points=\"613.5,-554.021 610,-544.021 606.5,-554.021 613.5,-554.021\"/>\r\n",
       "</g>\r\n",
       "<!-- 4 -->\r\n",
       "<g id=\"node5\" class=\"node\"><title>4</title>\r\n",
       "<path fill=\"#3b9ee5\" stroke=\"black\" d=\"M342,-425C342,-425 186,-425 186,-425 180,-425 174,-419 174,-413 174,-413 174,-354 174,-354 174,-348 180,-342 186,-342 186,-342 342,-342 342,-342 348,-342 354,-348 354,-354 354,-354 354,-413 354,-413 354,-419 348,-425 342,-425\"/>\r\n",
       "<text text-anchor=\"start\" x=\"182\" y=\"-409.8\" font-family=\"Helvetica,sans-Serif\" font-size=\"14.00\">smoothness error ≤ 0.003</text>\r\n",
       "<text text-anchor=\"start\" x=\"226.5\" y=\"-394.8\" font-family=\"Helvetica,sans-Serif\" font-size=\"14.00\">gini = 0.018</text>\r\n",
       "<text text-anchor=\"start\" x=\"216.5\" y=\"-379.8\" font-family=\"Helvetica,sans-Serif\" font-size=\"14.00\">samples = 226</text>\r\n",
       "<text text-anchor=\"start\" x=\"215.5\" y=\"-364.8\" font-family=\"Helvetica,sans-Serif\" font-size=\"14.00\">value = [2, 224]</text>\r\n",
       "<text text-anchor=\"start\" x=\"218\" y=\"-349.8\" font-family=\"Helvetica,sans-Serif\" font-size=\"14.00\">class = benign</text>\r\n",
       "</g>\r\n",
       "<!-- 3&#45;&gt;4 -->\r\n",
       "<g id=\"edge4\" class=\"edge\"><title>3&#45;&gt;4</title>\r\n",
       "<path fill=\"none\" stroke=\"black\" d=\"M368.489,-460.907C355.334,-451.288 341.201,-440.953 327.713,-431.09\"/>\r\n",
       "<polygon fill=\"black\" stroke=\"black\" points=\"329.551,-428.098 319.413,-425.021 325.419,-433.749 329.551,-428.098\"/>\r\n",
       "</g>\r\n",
       "<!-- 13 -->\r\n",
       "<g id=\"node14\" class=\"node\"><title>13</title>\r\n",
       "<path fill=\"#e58139\" stroke=\"black\" d=\"M485.5,-417.5C485.5,-417.5 384.5,-417.5 384.5,-417.5 378.5,-417.5 372.5,-411.5 372.5,-405.5 372.5,-405.5 372.5,-361.5 372.5,-361.5 372.5,-355.5 378.5,-349.5 384.5,-349.5 384.5,-349.5 485.5,-349.5 485.5,-349.5 491.5,-349.5 497.5,-355.5 497.5,-361.5 497.5,-361.5 497.5,-405.5 497.5,-405.5 497.5,-411.5 491.5,-417.5 485.5,-417.5\"/>\r\n",
       "<text text-anchor=\"start\" x=\"406\" y=\"-402.3\" font-family=\"Helvetica,sans-Serif\" font-size=\"14.00\">gini = 0.0</text>\r\n",
       "<text text-anchor=\"start\" x=\"395.5\" y=\"-387.3\" font-family=\"Helvetica,sans-Serif\" font-size=\"14.00\">samples = 1</text>\r\n",
       "<text text-anchor=\"start\" x=\"394.5\" y=\"-372.3\" font-family=\"Helvetica,sans-Serif\" font-size=\"14.00\">value = [1, 0]</text>\r\n",
       "<text text-anchor=\"start\" x=\"380.5\" y=\"-357.3\" font-family=\"Helvetica,sans-Serif\" font-size=\"14.00\">class = malignant</text>\r\n",
       "</g>\r\n",
       "<!-- 3&#45;&gt;13 -->\r\n",
       "<g id=\"edge13\" class=\"edge\"><title>3&#45;&gt;13</title>\r\n",
       "<path fill=\"none\" stroke=\"black\" d=\"M427.816,-460.907C428.823,-450.204 429.912,-438.615 430.931,-427.776\"/>\r\n",
       "<polygon fill=\"black\" stroke=\"black\" points=\"434.43,-427.951 431.882,-417.667 427.461,-427.295 434.43,-427.951\"/>\r\n",
       "</g>\r\n",
       "<!-- 5 -->\r\n",
       "<g id=\"node6\" class=\"node\"><title>5</title>\r\n",
       "<path fill=\"#6ab6ec\" stroke=\"black\" d=\"M243.5,-306C243.5,-306 118.5,-306 118.5,-306 112.5,-306 106.5,-300 106.5,-294 106.5,-294 106.5,-235 106.5,-235 106.5,-229 112.5,-223 118.5,-223 118.5,-223 243.5,-223 243.5,-223 249.5,-223 255.5,-229 255.5,-235 255.5,-235 255.5,-294 255.5,-294 255.5,-300 249.5,-306 243.5,-306\"/>\r\n",
       "<text text-anchor=\"start\" x=\"114.5\" y=\"-290.8\" font-family=\"Helvetica,sans-Serif\" font-size=\"14.00\">worst texture ≤ 26.89</text>\r\n",
       "<text text-anchor=\"start\" x=\"147.5\" y=\"-275.8\" font-family=\"Helvetica,sans-Serif\" font-size=\"14.00\">gini = 0.32</text>\r\n",
       "<text text-anchor=\"start\" x=\"141.5\" y=\"-260.8\" font-family=\"Helvetica,sans-Serif\" font-size=\"14.00\">samples = 5</text>\r\n",
       "<text text-anchor=\"start\" x=\"140.5\" y=\"-245.8\" font-family=\"Helvetica,sans-Serif\" font-size=\"14.00\">value = [1, 4]</text>\r\n",
       "<text text-anchor=\"start\" x=\"135\" y=\"-230.8\" font-family=\"Helvetica,sans-Serif\" font-size=\"14.00\">class = benign</text>\r\n",
       "</g>\r\n",
       "<!-- 4&#45;&gt;5 -->\r\n",
       "<g id=\"edge5\" class=\"edge\"><title>4&#45;&gt;5</title>\r\n",
       "<path fill=\"none\" stroke=\"black\" d=\"M235.204,-341.907C228.894,-333.014 222.152,-323.509 215.641,-314.331\"/>\r\n",
       "<polygon fill=\"black\" stroke=\"black\" points=\"218.386,-312.152 209.746,-306.021 212.677,-316.202 218.386,-312.152\"/>\r\n",
       "</g>\r\n",
       "<!-- 8 -->\r\n",
       "<g id=\"node9\" class=\"node\"><title>8</title>\r\n",
       "<path fill=\"#3a9de5\" stroke=\"black\" d=\"M410.5,-306C410.5,-306 285.5,-306 285.5,-306 279.5,-306 273.5,-300 273.5,-294 273.5,-294 273.5,-235 273.5,-235 273.5,-229 279.5,-223 285.5,-223 285.5,-223 410.5,-223 410.5,-223 416.5,-223 422.5,-229 422.5,-235 422.5,-235 422.5,-294 422.5,-294 422.5,-300 416.5,-306 410.5,-306\"/>\r\n",
       "<text text-anchor=\"start\" x=\"281.5\" y=\"-290.8\" font-family=\"Helvetica,sans-Serif\" font-size=\"14.00\">worst texture ≤ 33.35</text>\r\n",
       "<text text-anchor=\"start\" x=\"310.5\" y=\"-275.8\" font-family=\"Helvetica,sans-Serif\" font-size=\"14.00\">gini = 0.009</text>\r\n",
       "<text text-anchor=\"start\" x=\"300.5\" y=\"-260.8\" font-family=\"Helvetica,sans-Serif\" font-size=\"14.00\">samples = 221</text>\r\n",
       "<text text-anchor=\"start\" x=\"299.5\" y=\"-245.8\" font-family=\"Helvetica,sans-Serif\" font-size=\"14.00\">value = [1, 220]</text>\r\n",
       "<text text-anchor=\"start\" x=\"302\" y=\"-230.8\" font-family=\"Helvetica,sans-Serif\" font-size=\"14.00\">class = benign</text>\r\n",
       "</g>\r\n",
       "<!-- 4&#45;&gt;8 -->\r\n",
       "<g id=\"edge8\" class=\"edge\"><title>4&#45;&gt;8</title>\r\n",
       "<path fill=\"none\" stroke=\"black\" d=\"M293.143,-341.907C299.529,-333.014 306.352,-323.509 312.942,-314.331\"/>\r\n",
       "<polygon fill=\"black\" stroke=\"black\" points=\"315.919,-316.185 318.908,-306.021 310.233,-312.103 315.919,-316.185\"/>\r\n",
       "</g>\r\n",
       "<!-- 6 -->\r\n",
       "<g id=\"node7\" class=\"node\"><title>6</title>\r\n",
       "<path fill=\"#399de5\" stroke=\"black\" d=\"M96,-179.5C96,-179.5 12,-179.5 12,-179.5 6,-179.5 0,-173.5 0,-167.5 0,-167.5 0,-123.5 0,-123.5 0,-117.5 6,-111.5 12,-111.5 12,-111.5 96,-111.5 96,-111.5 102,-111.5 108,-117.5 108,-123.5 108,-123.5 108,-167.5 108,-167.5 108,-173.5 102,-179.5 96,-179.5\"/>\r\n",
       "<text text-anchor=\"start\" x=\"25\" y=\"-164.3\" font-family=\"Helvetica,sans-Serif\" font-size=\"14.00\">gini = 0.0</text>\r\n",
       "<text text-anchor=\"start\" x=\"14.5\" y=\"-149.3\" font-family=\"Helvetica,sans-Serif\" font-size=\"14.00\">samples = 4</text>\r\n",
       "<text text-anchor=\"start\" x=\"13.5\" y=\"-134.3\" font-family=\"Helvetica,sans-Serif\" font-size=\"14.00\">value = [0, 4]</text>\r\n",
       "<text text-anchor=\"start\" x=\"8\" y=\"-119.3\" font-family=\"Helvetica,sans-Serif\" font-size=\"14.00\">class = benign</text>\r\n",
       "</g>\r\n",
       "<!-- 5&#45;&gt;6 -->\r\n",
       "<g id=\"edge6\" class=\"edge\"><title>5&#45;&gt;6</title>\r\n",
       "<path fill=\"none\" stroke=\"black\" d=\"M136.938,-222.907C124.122,-211.101 110.137,-198.217 97.364,-186.45\"/>\r\n",
       "<polygon fill=\"black\" stroke=\"black\" points=\"99.7279,-183.868 90.0017,-179.667 94.985,-189.017 99.7279,-183.868\"/>\r\n",
       "</g>\r\n",
       "<!-- 7 -->\r\n",
       "<g id=\"node8\" class=\"node\"><title>7</title>\r\n",
       "<path fill=\"#e58139\" stroke=\"black\" d=\"M239.5,-179.5C239.5,-179.5 138.5,-179.5 138.5,-179.5 132.5,-179.5 126.5,-173.5 126.5,-167.5 126.5,-167.5 126.5,-123.5 126.5,-123.5 126.5,-117.5 132.5,-111.5 138.5,-111.5 138.5,-111.5 239.5,-111.5 239.5,-111.5 245.5,-111.5 251.5,-117.5 251.5,-123.5 251.5,-123.5 251.5,-167.5 251.5,-167.5 251.5,-173.5 245.5,-179.5 239.5,-179.5\"/>\r\n",
       "<text text-anchor=\"start\" x=\"160\" y=\"-164.3\" font-family=\"Helvetica,sans-Serif\" font-size=\"14.00\">gini = 0.0</text>\r\n",
       "<text text-anchor=\"start\" x=\"149.5\" y=\"-149.3\" font-family=\"Helvetica,sans-Serif\" font-size=\"14.00\">samples = 1</text>\r\n",
       "<text text-anchor=\"start\" x=\"148.5\" y=\"-134.3\" font-family=\"Helvetica,sans-Serif\" font-size=\"14.00\">value = [1, 0]</text>\r\n",
       "<text text-anchor=\"start\" x=\"134.5\" y=\"-119.3\" font-family=\"Helvetica,sans-Serif\" font-size=\"14.00\">class = malignant</text>\r\n",
       "</g>\r\n",
       "<!-- 5&#45;&gt;7 -->\r\n",
       "<g id=\"edge7\" class=\"edge\"><title>5&#45;&gt;7</title>\r\n",
       "<path fill=\"none\" stroke=\"black\" d=\"M183.776,-222.907C184.507,-212.204 185.3,-200.615 186.041,-189.776\"/>\r\n",
       "<polygon fill=\"black\" stroke=\"black\" points=\"189.542,-189.882 186.732,-179.667 182.558,-189.405 189.542,-189.882\"/>\r\n",
       "</g>\r\n",
       "<!-- 9 -->\r\n",
       "<g id=\"node10\" class=\"node\"><title>9</title>\r\n",
       "<path fill=\"#399de5\" stroke=\"black\" d=\"M377.5,-179.5C377.5,-179.5 288.5,-179.5 288.5,-179.5 282.5,-179.5 276.5,-173.5 276.5,-167.5 276.5,-167.5 276.5,-123.5 276.5,-123.5 276.5,-117.5 282.5,-111.5 288.5,-111.5 288.5,-111.5 377.5,-111.5 377.5,-111.5 383.5,-111.5 389.5,-117.5 389.5,-123.5 389.5,-123.5 389.5,-167.5 389.5,-167.5 389.5,-173.5 383.5,-179.5 377.5,-179.5\"/>\r\n",
       "<text text-anchor=\"start\" x=\"304\" y=\"-164.3\" font-family=\"Helvetica,sans-Serif\" font-size=\"14.00\">gini = 0.0</text>\r\n",
       "<text text-anchor=\"start\" x=\"285.5\" y=\"-149.3\" font-family=\"Helvetica,sans-Serif\" font-size=\"14.00\">samples = 208</text>\r\n",
       "<text text-anchor=\"start\" x=\"284.5\" y=\"-134.3\" font-family=\"Helvetica,sans-Serif\" font-size=\"14.00\">value = [0, 208]</text>\r\n",
       "<text text-anchor=\"start\" x=\"287\" y=\"-119.3\" font-family=\"Helvetica,sans-Serif\" font-size=\"14.00\">class = benign</text>\r\n",
       "</g>\r\n",
       "<!-- 8&#45;&gt;9 -->\r\n",
       "<g id=\"edge9\" class=\"edge\"><title>8&#45;&gt;9</title>\r\n",
       "<path fill=\"none\" stroke=\"black\" d=\"M342.796,-222.907C341.424,-212.204 339.938,-200.615 338.548,-189.776\"/>\r\n",
       "<polygon fill=\"black\" stroke=\"black\" points=\"341.995,-189.141 337.252,-179.667 335.052,-190.031 341.995,-189.141\"/>\r\n",
       "</g>\r\n",
       "<!-- 10 -->\r\n",
       "<g id=\"node11\" class=\"node\"><title>10</title>\r\n",
       "<path fill=\"#49a5e7\" stroke=\"black\" d=\"M536,-187C536,-187 420,-187 420,-187 414,-187 408,-181 408,-175 408,-175 408,-116 408,-116 408,-110 414,-104 420,-104 420,-104 536,-104 536,-104 542,-104 548,-110 548,-116 548,-116 548,-175 548,-175 548,-181 542,-187 536,-187\"/>\r\n",
       "<text text-anchor=\"start\" x=\"416\" y=\"-171.8\" font-family=\"Helvetica,sans-Serif\" font-size=\"14.00\">worst texture ≤ 34.5</text>\r\n",
       "<text text-anchor=\"start\" x=\"440.5\" y=\"-156.8\" font-family=\"Helvetica,sans-Serif\" font-size=\"14.00\">gini = 0.142</text>\r\n",
       "<text text-anchor=\"start\" x=\"434.5\" y=\"-141.8\" font-family=\"Helvetica,sans-Serif\" font-size=\"14.00\">samples = 13</text>\r\n",
       "<text text-anchor=\"start\" x=\"433.5\" y=\"-126.8\" font-family=\"Helvetica,sans-Serif\" font-size=\"14.00\">value = [1, 12]</text>\r\n",
       "<text text-anchor=\"start\" x=\"432\" y=\"-111.8\" font-family=\"Helvetica,sans-Serif\" font-size=\"14.00\">class = benign</text>\r\n",
       "</g>\r\n",
       "<!-- 8&#45;&gt;10 -->\r\n",
       "<g id=\"edge10\" class=\"edge\"><title>8&#45;&gt;10</title>\r\n",
       "<path fill=\"none\" stroke=\"black\" d=\"M393.103,-222.907C403.489,-213.56 414.625,-203.538 425.301,-193.929\"/>\r\n",
       "<polygon fill=\"black\" stroke=\"black\" points=\"427.885,-196.312 432.977,-187.021 423.203,-191.109 427.885,-196.312\"/>\r\n",
       "</g>\r\n",
       "<!-- 11 -->\r\n",
       "<g id=\"node12\" class=\"node\"><title>11</title>\r\n",
       "<path fill=\"#e58139\" stroke=\"black\" d=\"M460.5,-68C460.5,-68 359.5,-68 359.5,-68 353.5,-68 347.5,-62 347.5,-56 347.5,-56 347.5,-12 347.5,-12 347.5,-6 353.5,-0 359.5,-0 359.5,-0 460.5,-0 460.5,-0 466.5,-0 472.5,-6 472.5,-12 472.5,-12 472.5,-56 472.5,-56 472.5,-62 466.5,-68 460.5,-68\"/>\r\n",
       "<text text-anchor=\"start\" x=\"381\" y=\"-52.8\" font-family=\"Helvetica,sans-Serif\" font-size=\"14.00\">gini = 0.0</text>\r\n",
       "<text text-anchor=\"start\" x=\"370.5\" y=\"-37.8\" font-family=\"Helvetica,sans-Serif\" font-size=\"14.00\">samples = 1</text>\r\n",
       "<text text-anchor=\"start\" x=\"369.5\" y=\"-22.8\" font-family=\"Helvetica,sans-Serif\" font-size=\"14.00\">value = [1, 0]</text>\r\n",
       "<text text-anchor=\"start\" x=\"355.5\" y=\"-7.8\" font-family=\"Helvetica,sans-Serif\" font-size=\"14.00\">class = malignant</text>\r\n",
       "</g>\r\n",
       "<!-- 10&#45;&gt;11 -->\r\n",
       "<g id=\"edge11\" class=\"edge\"><title>10&#45;&gt;11</title>\r\n",
       "<path fill=\"none\" stroke=\"black\" d=\"M452.679,-103.726C447.242,-94.9703 441.487,-85.7032 436.023,-76.9051\"/>\r\n",
       "<polygon fill=\"black\" stroke=\"black\" points=\"438.928,-74.9484 430.679,-68.2996 432.981,-78.6413 438.928,-74.9484\"/>\r\n",
       "</g>\r\n",
       "<!-- 12 -->\r\n",
       "<g id=\"node13\" class=\"node\"><title>12</title>\r\n",
       "<path fill=\"#399de5\" stroke=\"black\" d=\"M587,-68C587,-68 503,-68 503,-68 497,-68 491,-62 491,-56 491,-56 491,-12 491,-12 491,-6 497,-0 503,-0 503,-0 587,-0 587,-0 593,-0 599,-6 599,-12 599,-12 599,-56 599,-56 599,-62 593,-68 587,-68\"/>\r\n",
       "<text text-anchor=\"start\" x=\"516\" y=\"-52.8\" font-family=\"Helvetica,sans-Serif\" font-size=\"14.00\">gini = 0.0</text>\r\n",
       "<text text-anchor=\"start\" x=\"501.5\" y=\"-37.8\" font-family=\"Helvetica,sans-Serif\" font-size=\"14.00\">samples = 12</text>\r\n",
       "<text text-anchor=\"start\" x=\"500.5\" y=\"-22.8\" font-family=\"Helvetica,sans-Serif\" font-size=\"14.00\">value = [0, 12]</text>\r\n",
       "<text text-anchor=\"start\" x=\"499\" y=\"-7.8\" font-family=\"Helvetica,sans-Serif\" font-size=\"14.00\">class = benign</text>\r\n",
       "</g>\r\n",
       "<!-- 10&#45;&gt;12 -->\r\n",
       "<g id=\"edge12\" class=\"edge\"><title>10&#45;&gt;12</title>\r\n",
       "<path fill=\"none\" stroke=\"black\" d=\"M502.948,-103.726C508.306,-94.9703 513.976,-85.7032 519.359,-76.9051\"/>\r\n",
       "<polygon fill=\"black\" stroke=\"black\" points=\"522.391,-78.6563 524.625,-68.2996 516.42,-75.0028 522.391,-78.6563\"/>\r\n",
       "</g>\r\n",
       "<!-- 15 -->\r\n",
       "<g id=\"node16\" class=\"node\"><title>15</title>\r\n",
       "<path fill=\"#e58139\" stroke=\"black\" d=\"M649.5,-417.5C649.5,-417.5 548.5,-417.5 548.5,-417.5 542.5,-417.5 536.5,-411.5 536.5,-405.5 536.5,-405.5 536.5,-361.5 536.5,-361.5 536.5,-355.5 542.5,-349.5 548.5,-349.5 548.5,-349.5 649.5,-349.5 649.5,-349.5 655.5,-349.5 661.5,-355.5 661.5,-361.5 661.5,-361.5 661.5,-405.5 661.5,-405.5 661.5,-411.5 655.5,-417.5 649.5,-417.5\"/>\r\n",
       "<text text-anchor=\"start\" x=\"570\" y=\"-402.3\" font-family=\"Helvetica,sans-Serif\" font-size=\"14.00\">gini = 0.0</text>\r\n",
       "<text text-anchor=\"start\" x=\"559.5\" y=\"-387.3\" font-family=\"Helvetica,sans-Serif\" font-size=\"14.00\">samples = 2</text>\r\n",
       "<text text-anchor=\"start\" x=\"558.5\" y=\"-372.3\" font-family=\"Helvetica,sans-Serif\" font-size=\"14.00\">value = [2, 0]</text>\r\n",
       "<text text-anchor=\"start\" x=\"544.5\" y=\"-357.3\" font-family=\"Helvetica,sans-Serif\" font-size=\"14.00\">class = malignant</text>\r\n",
       "</g>\r\n",
       "<!-- 14&#45;&gt;15 -->\r\n",
       "<g id=\"edge15\" class=\"edge\"><title>14&#45;&gt;15</title>\r\n",
       "<path fill=\"none\" stroke=\"black\" d=\"M606.184,-460.907C605.177,-450.204 604.088,-438.615 603.069,-427.776\"/>\r\n",
       "<polygon fill=\"black\" stroke=\"black\" points=\"606.539,-427.295 602.118,-417.667 599.57,-427.951 606.539,-427.295\"/>\r\n",
       "</g>\r\n",
       "<!-- 16 -->\r\n",
       "<g id=\"node17\" class=\"node\"><title>16</title>\r\n",
       "<path fill=\"#399de5\" stroke=\"black\" d=\"M776,-417.5C776,-417.5 692,-417.5 692,-417.5 686,-417.5 680,-411.5 680,-405.5 680,-405.5 680,-361.5 680,-361.5 680,-355.5 686,-349.5 692,-349.5 692,-349.5 776,-349.5 776,-349.5 782,-349.5 788,-355.5 788,-361.5 788,-361.5 788,-405.5 788,-405.5 788,-411.5 782,-417.5 776,-417.5\"/>\r\n",
       "<text text-anchor=\"start\" x=\"705\" y=\"-402.3\" font-family=\"Helvetica,sans-Serif\" font-size=\"14.00\">gini = 0.0</text>\r\n",
       "<text text-anchor=\"start\" x=\"694.5\" y=\"-387.3\" font-family=\"Helvetica,sans-Serif\" font-size=\"14.00\">samples = 1</text>\r\n",
       "<text text-anchor=\"start\" x=\"693.5\" y=\"-372.3\" font-family=\"Helvetica,sans-Serif\" font-size=\"14.00\">value = [0, 1]</text>\r\n",
       "<text text-anchor=\"start\" x=\"688\" y=\"-357.3\" font-family=\"Helvetica,sans-Serif\" font-size=\"14.00\">class = benign</text>\r\n",
       "</g>\r\n",
       "<!-- 14&#45;&gt;16 -->\r\n",
       "<g id=\"edge16\" class=\"edge\"><title>14&#45;&gt;16</title>\r\n",
       "<path fill=\"none\" stroke=\"black\" d=\"M653.021,-460.907C665.418,-449.211 678.934,-436.457 691.31,-424.78\"/>\r\n",
       "<polygon fill=\"black\" stroke=\"black\" points=\"693.977,-427.075 698.849,-417.667 689.173,-421.984 693.977,-427.075\"/>\r\n",
       "</g>\r\n",
       "<!-- 18 -->\r\n",
       "<g id=\"node19\" class=\"node\"><title>18</title>\r\n",
       "<path fill=\"#399de5\" stroke=\"black\" d=\"M800,-536.5C800,-536.5 716,-536.5 716,-536.5 710,-536.5 704,-530.5 704,-524.5 704,-524.5 704,-480.5 704,-480.5 704,-474.5 710,-468.5 716,-468.5 716,-468.5 800,-468.5 800,-468.5 806,-468.5 812,-474.5 812,-480.5 812,-480.5 812,-524.5 812,-524.5 812,-530.5 806,-536.5 800,-536.5\"/>\r\n",
       "<text text-anchor=\"start\" x=\"729\" y=\"-521.3\" font-family=\"Helvetica,sans-Serif\" font-size=\"14.00\">gini = 0.0</text>\r\n",
       "<text text-anchor=\"start\" x=\"718.5\" y=\"-506.3\" font-family=\"Helvetica,sans-Serif\" font-size=\"14.00\">samples = 5</text>\r\n",
       "<text text-anchor=\"start\" x=\"717.5\" y=\"-491.3\" font-family=\"Helvetica,sans-Serif\" font-size=\"14.00\">value = [0, 5]</text>\r\n",
       "<text text-anchor=\"start\" x=\"712\" y=\"-476.3\" font-family=\"Helvetica,sans-Serif\" font-size=\"14.00\">class = benign</text>\r\n",
       "</g>\r\n",
       "<!-- 17&#45;&gt;18 -->\r\n",
       "<g id=\"edge18\" class=\"edge\"><title>17&#45;&gt;18</title>\r\n",
       "<path fill=\"none\" stroke=\"black\" d=\"M840.285,-579.907C827.689,-568.211 813.954,-555.457 801.378,-543.78\"/>\r\n",
       "<polygon fill=\"black\" stroke=\"black\" points=\"803.428,-540.907 793.718,-536.667 798.665,-546.036 803.428,-540.907\"/>\r\n",
       "</g>\r\n",
       "<!-- 19 -->\r\n",
       "<g id=\"node20\" class=\"node\"><title>19</title>\r\n",
       "<path fill=\"#eca06a\" stroke=\"black\" d=\"M1007.5,-544C1007.5,-544 842.5,-544 842.5,-544 836.5,-544 830.5,-538 830.5,-532 830.5,-532 830.5,-473 830.5,-473 830.5,-467 836.5,-461 842.5,-461 842.5,-461 1007.5,-461 1007.5,-461 1013.5,-461 1019.5,-467 1019.5,-473 1019.5,-473 1019.5,-532 1019.5,-532 1019.5,-538 1013.5,-544 1007.5,-544\"/>\r\n",
       "<text text-anchor=\"start\" x=\"838.5\" y=\"-528.8\" font-family=\"Helvetica,sans-Serif\" font-size=\"14.00\">concave points error ≤ 0.01</text>\r\n",
       "<text text-anchor=\"start\" x=\"891.5\" y=\"-513.8\" font-family=\"Helvetica,sans-Serif\" font-size=\"14.00\">gini = 0.32</text>\r\n",
       "<text text-anchor=\"start\" x=\"881.5\" y=\"-498.8\" font-family=\"Helvetica,sans-Serif\" font-size=\"14.00\">samples = 10</text>\r\n",
       "<text text-anchor=\"start\" x=\"884.5\" y=\"-483.8\" font-family=\"Helvetica,sans-Serif\" font-size=\"14.00\">value = [8, 2]</text>\r\n",
       "<text text-anchor=\"start\" x=\"870.5\" y=\"-468.8\" font-family=\"Helvetica,sans-Serif\" font-size=\"14.00\">class = malignant</text>\r\n",
       "</g>\r\n",
       "<!-- 17&#45;&gt;19 -->\r\n",
       "<g id=\"edge19\" class=\"edge\"><title>17&#45;&gt;19</title>\r\n",
       "<path fill=\"none\" stroke=\"black\" d=\"M898.225,-579.907C901.182,-571.468 904.333,-562.477 907.395,-553.738\"/>\r\n",
       "<polygon fill=\"black\" stroke=\"black\" points=\"910.796,-554.616 910.8,-544.021 904.19,-552.301 910.796,-554.616\"/>\r\n",
       "</g>\r\n",
       "<!-- 20 -->\r\n",
       "<g id=\"node21\" class=\"node\"><title>20</title>\r\n",
       "<path fill=\"#e58139\" stroke=\"black\" d=\"M947.5,-417.5C947.5,-417.5 846.5,-417.5 846.5,-417.5 840.5,-417.5 834.5,-411.5 834.5,-405.5 834.5,-405.5 834.5,-361.5 834.5,-361.5 834.5,-355.5 840.5,-349.5 846.5,-349.5 846.5,-349.5 947.5,-349.5 947.5,-349.5 953.5,-349.5 959.5,-355.5 959.5,-361.5 959.5,-361.5 959.5,-405.5 959.5,-405.5 959.5,-411.5 953.5,-417.5 947.5,-417.5\"/>\r\n",
       "<text text-anchor=\"start\" x=\"868\" y=\"-402.3\" font-family=\"Helvetica,sans-Serif\" font-size=\"14.00\">gini = 0.0</text>\r\n",
       "<text text-anchor=\"start\" x=\"857.5\" y=\"-387.3\" font-family=\"Helvetica,sans-Serif\" font-size=\"14.00\">samples = 8</text>\r\n",
       "<text text-anchor=\"start\" x=\"856.5\" y=\"-372.3\" font-family=\"Helvetica,sans-Serif\" font-size=\"14.00\">value = [8, 0]</text>\r\n",
       "<text text-anchor=\"start\" x=\"842.5\" y=\"-357.3\" font-family=\"Helvetica,sans-Serif\" font-size=\"14.00\">class = malignant</text>\r\n",
       "</g>\r\n",
       "<!-- 19&#45;&gt;20 -->\r\n",
       "<g id=\"edge20\" class=\"edge\"><title>19&#45;&gt;20</title>\r\n",
       "<path fill=\"none\" stroke=\"black\" d=\"M915.286,-460.907C912.698,-450.094 909.893,-438.376 907.277,-427.441\"/>\r\n",
       "<polygon fill=\"black\" stroke=\"black\" points=\"910.669,-426.578 904.937,-417.667 903.861,-428.207 910.669,-426.578\"/>\r\n",
       "</g>\r\n",
       "<!-- 21 -->\r\n",
       "<g id=\"node22\" class=\"node\"><title>21</title>\r\n",
       "<path fill=\"#399de5\" stroke=\"black\" d=\"M1074,-417.5C1074,-417.5 990,-417.5 990,-417.5 984,-417.5 978,-411.5 978,-405.5 978,-405.5 978,-361.5 978,-361.5 978,-355.5 984,-349.5 990,-349.5 990,-349.5 1074,-349.5 1074,-349.5 1080,-349.5 1086,-355.5 1086,-361.5 1086,-361.5 1086,-405.5 1086,-405.5 1086,-411.5 1080,-417.5 1074,-417.5\"/>\r\n",
       "<text text-anchor=\"start\" x=\"1003\" y=\"-402.3\" font-family=\"Helvetica,sans-Serif\" font-size=\"14.00\">gini = 0.0</text>\r\n",
       "<text text-anchor=\"start\" x=\"992.5\" y=\"-387.3\" font-family=\"Helvetica,sans-Serif\" font-size=\"14.00\">samples = 2</text>\r\n",
       "<text text-anchor=\"start\" x=\"991.5\" y=\"-372.3\" font-family=\"Helvetica,sans-Serif\" font-size=\"14.00\">value = [0, 2]</text>\r\n",
       "<text text-anchor=\"start\" x=\"986\" y=\"-357.3\" font-family=\"Helvetica,sans-Serif\" font-size=\"14.00\">class = benign</text>\r\n",
       "</g>\r\n",
       "<!-- 19&#45;&gt;21 -->\r\n",
       "<g id=\"edge21\" class=\"edge\"><title>19&#45;&gt;21</title>\r\n",
       "<path fill=\"none\" stroke=\"black\" d=\"M962.123,-460.907C972.719,-449.321 984.264,-436.698 994.86,-425.111\"/>\r\n",
       "<polygon fill=\"black\" stroke=\"black\" points=\"997.502,-427.408 1001.67,-417.667 992.336,-422.684 997.502,-427.408\"/>\r\n",
       "</g>\r\n",
       "<!-- 23 -->\r\n",
       "<g id=\"node24\" class=\"node\"><title>23</title>\r\n",
       "<path fill=\"#88c4ef\" stroke=\"black\" d=\"M1196,-663C1196,-663 1068,-663 1068,-663 1062,-663 1056,-657 1056,-651 1056,-651 1056,-592 1056,-592 1056,-586 1062,-580 1068,-580 1068,-580 1196,-580 1196,-580 1202,-580 1208,-586 1208,-592 1208,-592 1208,-651 1208,-651 1208,-657 1202,-663 1196,-663\"/>\r\n",
       "<text text-anchor=\"start\" x=\"1064\" y=\"-647.8\" font-family=\"Helvetica,sans-Serif\" font-size=\"14.00\">worst radius ≤ 18.145</text>\r\n",
       "<text text-anchor=\"start\" x=\"1094.5\" y=\"-632.8\" font-family=\"Helvetica,sans-Serif\" font-size=\"14.00\">gini = 0.408</text>\r\n",
       "<text text-anchor=\"start\" x=\"1088.5\" y=\"-617.8\" font-family=\"Helvetica,sans-Serif\" font-size=\"14.00\">samples = 14</text>\r\n",
       "<text text-anchor=\"start\" x=\"1087.5\" y=\"-602.8\" font-family=\"Helvetica,sans-Serif\" font-size=\"14.00\">value = [4, 10]</text>\r\n",
       "<text text-anchor=\"start\" x=\"1086\" y=\"-587.8\" font-family=\"Helvetica,sans-Serif\" font-size=\"14.00\">class = benign</text>\r\n",
       "</g>\r\n",
       "<!-- 22&#45;&gt;23 -->\r\n",
       "<g id=\"edge23\" class=\"edge\"><title>22&#45;&gt;23</title>\r\n",
       "<path fill=\"none\" stroke=\"black\" d=\"M1132,-698.907C1132,-690.649 1132,-681.864 1132,-673.302\"/>\r\n",
       "<polygon fill=\"black\" stroke=\"black\" points=\"1135.5,-673.021 1132,-663.021 1128.5,-673.021 1135.5,-673.021\"/>\r\n",
       "</g>\r\n",
       "<!-- 26 -->\r\n",
       "<g id=\"node27\" class=\"node\"><title>26</title>\r\n",
       "<path fill=\"#e68844\" stroke=\"black\" d=\"M1445,-663C1445,-663 1327,-663 1327,-663 1321,-663 1315,-657 1315,-651 1315,-651 1315,-592 1315,-592 1315,-586 1321,-580 1327,-580 1327,-580 1445,-580 1445,-580 1451,-580 1457,-586 1457,-592 1457,-592 1457,-651 1457,-651 1457,-657 1451,-663 1445,-663\"/>\r\n",
       "<text text-anchor=\"start\" x=\"1323\" y=\"-647.8\" font-family=\"Helvetica,sans-Serif\" font-size=\"14.00\">worst area ≤ 718.65</text>\r\n",
       "<text text-anchor=\"start\" x=\"1348.5\" y=\"-632.8\" font-family=\"Helvetica,sans-Serif\" font-size=\"14.00\">gini = 0.096</text>\r\n",
       "<text text-anchor=\"start\" x=\"1338.5\" y=\"-617.8\" font-family=\"Helvetica,sans-Serif\" font-size=\"14.00\">samples = 139</text>\r\n",
       "<text text-anchor=\"start\" x=\"1337.5\" y=\"-602.8\" font-family=\"Helvetica,sans-Serif\" font-size=\"14.00\">value = [132, 7]</text>\r\n",
       "<text text-anchor=\"start\" x=\"1331.5\" y=\"-587.8\" font-family=\"Helvetica,sans-Serif\" font-size=\"14.00\">class = malignant</text>\r\n",
       "</g>\r\n",
       "<!-- 22&#45;&gt;26 -->\r\n",
       "<g id=\"edge26\" class=\"edge\"><title>22&#45;&gt;26</title>\r\n",
       "<path fill=\"none\" stroke=\"black\" d=\"M1210.63,-703.282C1240.73,-689.415 1275.1,-673.584 1305.39,-659.632\"/>\r\n",
       "<polygon fill=\"black\" stroke=\"black\" points=\"1307.03,-662.73 1314.65,-655.367 1304.1,-656.372 1307.03,-662.73\"/>\r\n",
       "</g>\r\n",
       "<!-- 24 -->\r\n",
       "<g id=\"node25\" class=\"node\"><title>24</title>\r\n",
       "<path fill=\"#399de5\" stroke=\"black\" d=\"M1134,-536.5C1134,-536.5 1050,-536.5 1050,-536.5 1044,-536.5 1038,-530.5 1038,-524.5 1038,-524.5 1038,-480.5 1038,-480.5 1038,-474.5 1044,-468.5 1050,-468.5 1050,-468.5 1134,-468.5 1134,-468.5 1140,-468.5 1146,-474.5 1146,-480.5 1146,-480.5 1146,-524.5 1146,-524.5 1146,-530.5 1140,-536.5 1134,-536.5\"/>\r\n",
       "<text text-anchor=\"start\" x=\"1063\" y=\"-521.3\" font-family=\"Helvetica,sans-Serif\" font-size=\"14.00\">gini = 0.0</text>\r\n",
       "<text text-anchor=\"start\" x=\"1048.5\" y=\"-506.3\" font-family=\"Helvetica,sans-Serif\" font-size=\"14.00\">samples = 10</text>\r\n",
       "<text text-anchor=\"start\" x=\"1047.5\" y=\"-491.3\" font-family=\"Helvetica,sans-Serif\" font-size=\"14.00\">value = [0, 10]</text>\r\n",
       "<text text-anchor=\"start\" x=\"1046\" y=\"-476.3\" font-family=\"Helvetica,sans-Serif\" font-size=\"14.00\">class = benign</text>\r\n",
       "</g>\r\n",
       "<!-- 23&#45;&gt;24 -->\r\n",
       "<g id=\"edge24\" class=\"edge\"><title>23&#45;&gt;24</title>\r\n",
       "<path fill=\"none\" stroke=\"black\" d=\"M1118.12,-579.907C1114.43,-569.094 1110.42,-557.376 1106.68,-546.441\"/>\r\n",
       "<polygon fill=\"black\" stroke=\"black\" points=\"1109.89,-544.997 1103.34,-536.667 1103.26,-547.261 1109.89,-544.997\"/>\r\n",
       "</g>\r\n",
       "<!-- 25 -->\r\n",
       "<g id=\"node26\" class=\"node\"><title>25</title>\r\n",
       "<path fill=\"#e58139\" stroke=\"black\" d=\"M1277.5,-536.5C1277.5,-536.5 1176.5,-536.5 1176.5,-536.5 1170.5,-536.5 1164.5,-530.5 1164.5,-524.5 1164.5,-524.5 1164.5,-480.5 1164.5,-480.5 1164.5,-474.5 1170.5,-468.5 1176.5,-468.5 1176.5,-468.5 1277.5,-468.5 1277.5,-468.5 1283.5,-468.5 1289.5,-474.5 1289.5,-480.5 1289.5,-480.5 1289.5,-524.5 1289.5,-524.5 1289.5,-530.5 1283.5,-536.5 1277.5,-536.5\"/>\r\n",
       "<text text-anchor=\"start\" x=\"1198\" y=\"-521.3\" font-family=\"Helvetica,sans-Serif\" font-size=\"14.00\">gini = 0.0</text>\r\n",
       "<text text-anchor=\"start\" x=\"1187.5\" y=\"-506.3\" font-family=\"Helvetica,sans-Serif\" font-size=\"14.00\">samples = 4</text>\r\n",
       "<text text-anchor=\"start\" x=\"1186.5\" y=\"-491.3\" font-family=\"Helvetica,sans-Serif\" font-size=\"14.00\">value = [4, 0]</text>\r\n",
       "<text text-anchor=\"start\" x=\"1172.5\" y=\"-476.3\" font-family=\"Helvetica,sans-Serif\" font-size=\"14.00\">class = malignant</text>\r\n",
       "</g>\r\n",
       "<!-- 23&#45;&gt;25 -->\r\n",
       "<g id=\"edge25\" class=\"edge\"><title>23&#45;&gt;25</title>\r\n",
       "<path fill=\"none\" stroke=\"black\" d=\"M1164.96,-579.907C1174.28,-568.432 1184.42,-555.938 1193.76,-544.442\"/>\r\n",
       "<polygon fill=\"black\" stroke=\"black\" points=\"1196.48,-546.636 1200.07,-536.667 1191.05,-542.224 1196.48,-546.636\"/>\r\n",
       "</g>\r\n",
       "<!-- 27 -->\r\n",
       "<g id=\"node28\" class=\"node\"><title>27</title>\r\n",
       "<path fill=\"#e3f1fb\" stroke=\"black\" d=\"M1452.5,-544C1452.5,-544 1319.5,-544 1319.5,-544 1313.5,-544 1307.5,-538 1307.5,-532 1307.5,-532 1307.5,-473 1307.5,-473 1307.5,-467 1313.5,-461 1319.5,-461 1319.5,-461 1452.5,-461 1452.5,-461 1458.5,-461 1464.5,-467 1464.5,-473 1464.5,-473 1464.5,-532 1464.5,-532 1464.5,-538 1458.5,-544 1452.5,-544\"/>\r\n",
       "<text text-anchor=\"start\" x=\"1315.5\" y=\"-528.8\" font-family=\"Helvetica,sans-Serif\" font-size=\"14.00\">worst texture ≤ 25.925</text>\r\n",
       "<text text-anchor=\"start\" x=\"1348.5\" y=\"-513.8\" font-family=\"Helvetica,sans-Serif\" font-size=\"14.00\">gini = 0.497</text>\r\n",
       "<text text-anchor=\"start\" x=\"1342.5\" y=\"-498.8\" font-family=\"Helvetica,sans-Serif\" font-size=\"14.00\">samples = 13</text>\r\n",
       "<text text-anchor=\"start\" x=\"1345.5\" y=\"-483.8\" font-family=\"Helvetica,sans-Serif\" font-size=\"14.00\">value = [6, 7]</text>\r\n",
       "<text text-anchor=\"start\" x=\"1340\" y=\"-468.8\" font-family=\"Helvetica,sans-Serif\" font-size=\"14.00\">class = benign</text>\r\n",
       "</g>\r\n",
       "<!-- 26&#45;&gt;27 -->\r\n",
       "<g id=\"edge27\" class=\"edge\"><title>26&#45;&gt;27</title>\r\n",
       "<path fill=\"none\" stroke=\"black\" d=\"M1386,-579.907C1386,-571.649 1386,-562.864 1386,-554.302\"/>\r\n",
       "<polygon fill=\"black\" stroke=\"black\" points=\"1389.5,-554.021 1386,-544.021 1382.5,-554.021 1389.5,-554.021\"/>\r\n",
       "</g>\r\n",
       "<!-- 30 -->\r\n",
       "<g id=\"node31\" class=\"node\"><title>30</title>\r\n",
       "<path fill=\"#e58139\" stroke=\"black\" d=\"M1595.5,-536.5C1595.5,-536.5 1494.5,-536.5 1494.5,-536.5 1488.5,-536.5 1482.5,-530.5 1482.5,-524.5 1482.5,-524.5 1482.5,-480.5 1482.5,-480.5 1482.5,-474.5 1488.5,-468.5 1494.5,-468.5 1494.5,-468.5 1595.5,-468.5 1595.5,-468.5 1601.5,-468.5 1607.5,-474.5 1607.5,-480.5 1607.5,-480.5 1607.5,-524.5 1607.5,-524.5 1607.5,-530.5 1601.5,-536.5 1595.5,-536.5\"/>\r\n",
       "<text text-anchor=\"start\" x=\"1516\" y=\"-521.3\" font-family=\"Helvetica,sans-Serif\" font-size=\"14.00\">gini = 0.0</text>\r\n",
       "<text text-anchor=\"start\" x=\"1497.5\" y=\"-506.3\" font-family=\"Helvetica,sans-Serif\" font-size=\"14.00\">samples = 126</text>\r\n",
       "<text text-anchor=\"start\" x=\"1496.5\" y=\"-491.3\" font-family=\"Helvetica,sans-Serif\" font-size=\"14.00\">value = [126, 0]</text>\r\n",
       "<text text-anchor=\"start\" x=\"1490.5\" y=\"-476.3\" font-family=\"Helvetica,sans-Serif\" font-size=\"14.00\">class = malignant</text>\r\n",
       "</g>\r\n",
       "<!-- 26&#45;&gt;30 -->\r\n",
       "<g id=\"edge30\" class=\"edge\"><title>26&#45;&gt;30</title>\r\n",
       "<path fill=\"none\" stroke=\"black\" d=\"M1441.16,-579.907C1457.51,-567.88 1475.37,-554.735 1491.6,-542.791\"/>\r\n",
       "<polygon fill=\"black\" stroke=\"black\" points=\"1493.95,-545.413 1499.93,-536.667 1489.8,-539.775 1493.95,-545.413\"/>\r\n",
       "</g>\r\n",
       "<!-- 28 -->\r\n",
       "<g id=\"node29\" class=\"node\"><title>28</title>\r\n",
       "<path fill=\"#399de5\" stroke=\"black\" d=\"M1360,-417.5C1360,-417.5 1276,-417.5 1276,-417.5 1270,-417.5 1264,-411.5 1264,-405.5 1264,-405.5 1264,-361.5 1264,-361.5 1264,-355.5 1270,-349.5 1276,-349.5 1276,-349.5 1360,-349.5 1360,-349.5 1366,-349.5 1372,-355.5 1372,-361.5 1372,-361.5 1372,-405.5 1372,-405.5 1372,-411.5 1366,-417.5 1360,-417.5\"/>\r\n",
       "<text text-anchor=\"start\" x=\"1289\" y=\"-402.3\" font-family=\"Helvetica,sans-Serif\" font-size=\"14.00\">gini = 0.0</text>\r\n",
       "<text text-anchor=\"start\" x=\"1278.5\" y=\"-387.3\" font-family=\"Helvetica,sans-Serif\" font-size=\"14.00\">samples = 7</text>\r\n",
       "<text text-anchor=\"start\" x=\"1277.5\" y=\"-372.3\" font-family=\"Helvetica,sans-Serif\" font-size=\"14.00\">value = [0, 7]</text>\r\n",
       "<text text-anchor=\"start\" x=\"1272\" y=\"-357.3\" font-family=\"Helvetica,sans-Serif\" font-size=\"14.00\">class = benign</text>\r\n",
       "</g>\r\n",
       "<!-- 27&#45;&gt;28 -->\r\n",
       "<g id=\"edge28\" class=\"edge\"><title>27&#45;&gt;28</title>\r\n",
       "<path fill=\"none\" stroke=\"black\" d=\"M1362.41,-460.907C1355.93,-449.763 1348.9,-437.658 1342.37,-426.439\"/>\r\n",
       "<polygon fill=\"black\" stroke=\"black\" points=\"1345.33,-424.554 1337.28,-417.667 1339.28,-428.072 1345.33,-424.554\"/>\r\n",
       "</g>\r\n",
       "<!-- 29 -->\r\n",
       "<g id=\"node30\" class=\"node\"><title>29</title>\r\n",
       "<path fill=\"#e58139\" stroke=\"black\" d=\"M1503.5,-417.5C1503.5,-417.5 1402.5,-417.5 1402.5,-417.5 1396.5,-417.5 1390.5,-411.5 1390.5,-405.5 1390.5,-405.5 1390.5,-361.5 1390.5,-361.5 1390.5,-355.5 1396.5,-349.5 1402.5,-349.5 1402.5,-349.5 1503.5,-349.5 1503.5,-349.5 1509.5,-349.5 1515.5,-355.5 1515.5,-361.5 1515.5,-361.5 1515.5,-405.5 1515.5,-405.5 1515.5,-411.5 1509.5,-417.5 1503.5,-417.5\"/>\r\n",
       "<text text-anchor=\"start\" x=\"1424\" y=\"-402.3\" font-family=\"Helvetica,sans-Serif\" font-size=\"14.00\">gini = 0.0</text>\r\n",
       "<text text-anchor=\"start\" x=\"1413.5\" y=\"-387.3\" font-family=\"Helvetica,sans-Serif\" font-size=\"14.00\">samples = 6</text>\r\n",
       "<text text-anchor=\"start\" x=\"1412.5\" y=\"-372.3\" font-family=\"Helvetica,sans-Serif\" font-size=\"14.00\">value = [6, 0]</text>\r\n",
       "<text text-anchor=\"start\" x=\"1398.5\" y=\"-357.3\" font-family=\"Helvetica,sans-Serif\" font-size=\"14.00\">class = malignant</text>\r\n",
       "</g>\r\n",
       "<!-- 27&#45;&gt;29 -->\r\n",
       "<g id=\"edge29\" class=\"edge\"><title>27&#45;&gt;29</title>\r\n",
       "<path fill=\"none\" stroke=\"black\" d=\"M1409.25,-460.907C1415.63,-449.763 1422.56,-437.658 1428.98,-426.439\"/>\r\n",
       "<polygon fill=\"black\" stroke=\"black\" points=\"1432.07,-428.084 1434.01,-417.667 1426,-424.606 1432.07,-428.084\"/>\r\n",
       "</g>\r\n",
       "</g>\r\n",
       "</svg>\r\n"
      ],
      "text/plain": [
       "<graphviz.files.Source at 0x18dc50a7b50>"
      ]
     },
     "execution_count": 45,
     "metadata": {},
     "output_type": "execute_result"
    }
   ],
   "source": [
    "dot_data = tree.export_graphviz(clf, out_file=None) \n",
    "graph = graphviz.Source(dot_data) \n",
    "graph.render(\"cancer\") \n",
    "\n",
    "dot_data = tree.export_graphviz(clf, out_file=None, \n",
    "                     feature_names=cancer.feature_names,  \n",
    "                     class_names=cancer.target_names,  \n",
    "                     filled=True, rounded=True,  \n",
    "                     special_characters=True)  \n",
    "graph = graphviz.Source(dot_data)  \n",
    "graph"
   ]
  },
  {
   "cell_type": "markdown",
   "metadata": {
    "id": "veGLZhYdFi_G"
   },
   "source": [
    "## 2. 적절한 매개변수를 지정해 모델을 다시 훈련시키고 이를 시각화한 후, 위 그림과 어떻게 달라졌는지 설명해주세요. \n",
    "매개변수를 직접 지정해도 되고, 이전에 배운 GridSearchCV를 사용하셔도 좋습니다. \n",
    "\n",
    "> 설명\n",
    "- 최대 깊이를 3으로 지정.\n",
    "- 훨씬 간단해진 모습을 볼 수 있다.\n",
    "- 하지만 샘플 수가 적은데 나눠져 있어 gini가 높은 값들이 존재한다."
   ]
  },
  {
   "cell_type": "code",
   "execution_count": 48,
   "metadata": {
    "ExecuteTime": {
     "end_time": "2022-02-02T12:41:24.496590Z",
     "start_time": "2022-02-02T12:41:24.476345Z"
    }
   },
   "outputs": [],
   "source": [
    "clf2 = DecisionTreeClassifier(random_state=42, max_depth=3) \n",
    "\n",
    "#모델 적합\n",
    "clf2 = clf2.fit(X_train, y_train)"
   ]
  },
  {
   "cell_type": "code",
   "execution_count": 49,
   "metadata": {
    "ExecuteTime": {
     "end_time": "2022-02-02T12:41:25.277583Z",
     "start_time": "2022-02-02T12:41:24.928395Z"
    }
   },
   "outputs": [
    {
     "data": {
      "image/svg+xml": [
       "<?xml version=\"1.0\" encoding=\"UTF-8\" standalone=\"no\"?>\r\n",
       "<!DOCTYPE svg PUBLIC \"-//W3C//DTD SVG 1.1//EN\"\r\n",
       " \"http://www.w3.org/Graphics/SVG/1.1/DTD/svg11.dtd\">\r\n",
       "<!-- Generated by graphviz version 2.38.0 (20140413.2041)\r\n",
       " -->\r\n",
       "<!-- Title: Tree Pages: 1 -->\r\n",
       "<svg width=\"1074pt\" height=\"433pt\"\r\n",
       " viewBox=\"0.00 0.00 1074.00 433.00\" xmlns=\"http://www.w3.org/2000/svg\" xmlns:xlink=\"http://www.w3.org/1999/xlink\">\r\n",
       "<g id=\"graph0\" class=\"graph\" transform=\"scale(1 1) rotate(0) translate(4 429)\">\r\n",
       "<title>Tree</title>\r\n",
       "<polygon fill=\"white\" stroke=\"none\" points=\"-4,4 -4,-429 1070,-429 1070,4 -4,4\"/>\r\n",
       "<!-- 0 -->\r\n",
       "<g id=\"node1\" class=\"node\"><title>0</title>\r\n",
       "<path fill=\"#afd8f5\" stroke=\"black\" d=\"M615,-425C615,-425 436,-425 436,-425 430,-425 424,-419 424,-413 424,-413 424,-354 424,-354 424,-348 430,-342 436,-342 436,-342 615,-342 615,-342 621,-342 627,-348 627,-354 627,-354 627,-413 627,-413 627,-419 621,-425 615,-425\"/>\r\n",
       "<text text-anchor=\"start\" x=\"432\" y=\"-409.8\" font-family=\"Helvetica,sans-Serif\" font-size=\"14.00\">mean concave points ≤ 0.051</text>\r\n",
       "<text text-anchor=\"start\" x=\"488\" y=\"-394.8\" font-family=\"Helvetica,sans-Serif\" font-size=\"14.00\">gini = 0.468</text>\r\n",
       "<text text-anchor=\"start\" x=\"478\" y=\"-379.8\" font-family=\"Helvetica,sans-Serif\" font-size=\"14.00\">samples = 398</text>\r\n",
       "<text text-anchor=\"start\" x=\"468.5\" y=\"-364.8\" font-family=\"Helvetica,sans-Serif\" font-size=\"14.00\">value = [149, 249]</text>\r\n",
       "<text text-anchor=\"start\" x=\"479.5\" y=\"-349.8\" font-family=\"Helvetica,sans-Serif\" font-size=\"14.00\">class = benign</text>\r\n",
       "</g>\r\n",
       "<!-- 1 -->\r\n",
       "<g id=\"node2\" class=\"node\"><title>1</title>\r\n",
       "<path fill=\"#44a2e6\" stroke=\"black\" d=\"M474.5,-306C474.5,-306 354.5,-306 354.5,-306 348.5,-306 342.5,-300 342.5,-294 342.5,-294 342.5,-235 342.5,-235 342.5,-229 348.5,-223 354.5,-223 354.5,-223 474.5,-223 474.5,-223 480.5,-223 486.5,-229 486.5,-235 486.5,-235 486.5,-294 486.5,-294 486.5,-300 480.5,-306 474.5,-306\"/>\r\n",
       "<text text-anchor=\"start\" x=\"350.5\" y=\"-290.8\" font-family=\"Helvetica,sans-Serif\" font-size=\"14.00\">worst radius ≤ 16.83</text>\r\n",
       "<text text-anchor=\"start\" x=\"385.5\" y=\"-275.8\" font-family=\"Helvetica,sans-Serif\" font-size=\"14.00\">gini = 0.1</text>\r\n",
       "<text text-anchor=\"start\" x=\"367\" y=\"-260.8\" font-family=\"Helvetica,sans-Serif\" font-size=\"14.00\">samples = 245</text>\r\n",
       "<text text-anchor=\"start\" x=\"361.5\" y=\"-245.8\" font-family=\"Helvetica,sans-Serif\" font-size=\"14.00\">value = [13, 232]</text>\r\n",
       "<text text-anchor=\"start\" x=\"368.5\" y=\"-230.8\" font-family=\"Helvetica,sans-Serif\" font-size=\"14.00\">class = benign</text>\r\n",
       "</g>\r\n",
       "<!-- 0&#45;&gt;1 -->\r\n",
       "<g id=\"edge1\" class=\"edge\"><title>0&#45;&gt;1</title>\r\n",
       "<path fill=\"none\" stroke=\"black\" d=\"M486.989,-341.907C478.293,-332.742 468.982,-322.927 460.028,-313.489\"/>\r\n",
       "<polygon fill=\"black\" stroke=\"black\" points=\"462.365,-310.867 452.943,-306.021 457.286,-315.684 462.365,-310.867\"/>\r\n",
       "<text text-anchor=\"middle\" x=\"452.285\" y=\"-327.312\" font-family=\"Helvetica,sans-Serif\" font-size=\"14.00\">True</text>\r\n",
       "</g>\r\n",
       "<!-- 8 -->\r\n",
       "<g id=\"node9\" class=\"node\"><title>8</title>\r\n",
       "<path fill=\"#e89152\" stroke=\"black\" d=\"M704,-306C704,-306 571,-306 571,-306 565,-306 559,-300 559,-294 559,-294 559,-235 559,-235 559,-229 565,-223 571,-223 571,-223 704,-223 704,-223 710,-223 716,-229 716,-235 716,-235 716,-294 716,-294 716,-300 710,-306 704,-306\"/>\r\n",
       "<text text-anchor=\"start\" x=\"567\" y=\"-290.8\" font-family=\"Helvetica,sans-Serif\" font-size=\"14.00\">worst texture ≤ 20.405</text>\r\n",
       "<text text-anchor=\"start\" x=\"600\" y=\"-275.8\" font-family=\"Helvetica,sans-Serif\" font-size=\"14.00\">gini = 0.198</text>\r\n",
       "<text text-anchor=\"start\" x=\"590\" y=\"-260.8\" font-family=\"Helvetica,sans-Serif\" font-size=\"14.00\">samples = 153</text>\r\n",
       "<text text-anchor=\"start\" x=\"584.5\" y=\"-245.8\" font-family=\"Helvetica,sans-Serif\" font-size=\"14.00\">value = [136, 17]</text>\r\n",
       "<text text-anchor=\"start\" x=\"583\" y=\"-230.8\" font-family=\"Helvetica,sans-Serif\" font-size=\"14.00\">class = malignant</text>\r\n",
       "</g>\r\n",
       "<!-- 0&#45;&gt;8 -->\r\n",
       "<g id=\"edge8\" class=\"edge\"><title>0&#45;&gt;8</title>\r\n",
       "<path fill=\"none\" stroke=\"black\" d=\"M564.358,-341.907C573.132,-332.742 582.528,-322.927 591.562,-313.489\"/>\r\n",
       "<polygon fill=\"black\" stroke=\"black\" points=\"594.324,-315.665 598.711,-306.021 589.267,-310.824 594.324,-315.665\"/>\r\n",
       "<text text-anchor=\"middle\" x=\"599.257\" y=\"-327.315\" font-family=\"Helvetica,sans-Serif\" font-size=\"14.00\">False</text>\r\n",
       "</g>\r\n",
       "<!-- 2 -->\r\n",
       "<g id=\"node3\" class=\"node\"><title>2</title>\r\n",
       "<path fill=\"#3d9fe6\" stroke=\"black\" d=\"M242.5,-187C242.5,-187 144.5,-187 144.5,-187 138.5,-187 132.5,-181 132.5,-175 132.5,-175 132.5,-116 132.5,-116 132.5,-110 138.5,-104 144.5,-104 144.5,-104 242.5,-104 242.5,-104 248.5,-104 254.5,-110 254.5,-116 254.5,-116 254.5,-175 254.5,-175 254.5,-181 248.5,-187 242.5,-187\"/>\r\n",
       "<text text-anchor=\"start\" x=\"140.5\" y=\"-171.8\" font-family=\"Helvetica,sans-Serif\" font-size=\"14.00\">area error ≤ 48.7</text>\r\n",
       "<text text-anchor=\"start\" x=\"156\" y=\"-156.8\" font-family=\"Helvetica,sans-Serif\" font-size=\"14.00\">gini = 0.043</text>\r\n",
       "<text text-anchor=\"start\" x=\"146\" y=\"-141.8\" font-family=\"Helvetica,sans-Serif\" font-size=\"14.00\">samples = 230</text>\r\n",
       "<text text-anchor=\"start\" x=\"145\" y=\"-126.8\" font-family=\"Helvetica,sans-Serif\" font-size=\"14.00\">value = [5, 225]</text>\r\n",
       "<text text-anchor=\"start\" x=\"147.5\" y=\"-111.8\" font-family=\"Helvetica,sans-Serif\" font-size=\"14.00\">class = benign</text>\r\n",
       "</g>\r\n",
       "<!-- 1&#45;&gt;2 -->\r\n",
       "<g id=\"edge2\" class=\"edge\"><title>1&#45;&gt;2</title>\r\n",
       "<path fill=\"none\" stroke=\"black\" d=\"M342.442,-225.352C317.201,-211.989 288.902,-197.007 263.806,-183.721\"/>\r\n",
       "<polygon fill=\"black\" stroke=\"black\" points=\"265.192,-180.494 254.716,-178.909 261.917,-186.681 265.192,-180.494\"/>\r\n",
       "</g>\r\n",
       "<!-- 5 -->\r\n",
       "<g id=\"node6\" class=\"node\"><title>5</title>\r\n",
       "<path fill=\"#fcefe6\" stroke=\"black\" d=\"M477.5,-187C477.5,-187 351.5,-187 351.5,-187 345.5,-187 339.5,-181 339.5,-175 339.5,-175 339.5,-116 339.5,-116 339.5,-110 345.5,-104 351.5,-104 351.5,-104 477.5,-104 477.5,-104 483.5,-104 489.5,-110 489.5,-116 489.5,-116 489.5,-175 489.5,-175 489.5,-181 483.5,-187 477.5,-187\"/>\r\n",
       "<text text-anchor=\"start\" x=\"347.5\" y=\"-171.8\" font-family=\"Helvetica,sans-Serif\" font-size=\"14.00\">mean texture ≤ 16.19</text>\r\n",
       "<text text-anchor=\"start\" x=\"377\" y=\"-156.8\" font-family=\"Helvetica,sans-Serif\" font-size=\"14.00\">gini = 0.498</text>\r\n",
       "<text text-anchor=\"start\" x=\"371\" y=\"-141.8\" font-family=\"Helvetica,sans-Serif\" font-size=\"14.00\">samples = 15</text>\r\n",
       "<text text-anchor=\"start\" x=\"374\" y=\"-126.8\" font-family=\"Helvetica,sans-Serif\" font-size=\"14.00\">value = [8, 7]</text>\r\n",
       "<text text-anchor=\"start\" x=\"360\" y=\"-111.8\" font-family=\"Helvetica,sans-Serif\" font-size=\"14.00\">class = malignant</text>\r\n",
       "</g>\r\n",
       "<!-- 1&#45;&gt;5 -->\r\n",
       "<g id=\"edge5\" class=\"edge\"><title>1&#45;&gt;5</title>\r\n",
       "<path fill=\"none\" stroke=\"black\" d=\"M414.5,-222.907C414.5,-214.649 414.5,-205.864 414.5,-197.302\"/>\r\n",
       "<polygon fill=\"black\" stroke=\"black\" points=\"418,-197.021 414.5,-187.021 411,-197.021 418,-197.021\"/>\r\n",
       "</g>\r\n",
       "<!-- 3 -->\r\n",
       "<g id=\"node4\" class=\"node\"><title>3</title>\r\n",
       "<path fill=\"#3c9ee5\" stroke=\"black\" d=\"M101,-68C101,-68 12,-68 12,-68 6,-68 0,-62 0,-56 0,-56 0,-12 0,-12 0,-6 6,-0 12,-0 12,-0 101,-0 101,-0 107,-0 113,-6 113,-12 113,-12 113,-56 113,-56 113,-62 107,-68 101,-68\"/>\r\n",
       "<text text-anchor=\"start\" x=\"19\" y=\"-52.8\" font-family=\"Helvetica,sans-Serif\" font-size=\"14.00\">gini = 0.026</text>\r\n",
       "<text text-anchor=\"start\" x=\"9\" y=\"-37.8\" font-family=\"Helvetica,sans-Serif\" font-size=\"14.00\">samples = 227</text>\r\n",
       "<text text-anchor=\"start\" x=\"8\" y=\"-22.8\" font-family=\"Helvetica,sans-Serif\" font-size=\"14.00\">value = [3, 224]</text>\r\n",
       "<text text-anchor=\"start\" x=\"10.5\" y=\"-7.8\" font-family=\"Helvetica,sans-Serif\" font-size=\"14.00\">class = benign</text>\r\n",
       "</g>\r\n",
       "<!-- 2&#45;&gt;3 -->\r\n",
       "<g id=\"edge3\" class=\"edge\"><title>2&#45;&gt;3</title>\r\n",
       "<path fill=\"none\" stroke=\"black\" d=\"M142.486,-103.726C130.618,-94.2406 118,-84.1551 106.19,-74.7159\"/>\r\n",
       "<polygon fill=\"black\" stroke=\"black\" points=\"108.159,-71.8091 98.1625,-68.2996 103.789,-77.2771 108.159,-71.8091\"/>\r\n",
       "</g>\r\n",
       "<!-- 4 -->\r\n",
       "<g id=\"node5\" class=\"node\"><title>4</title>\r\n",
       "<path fill=\"#f2c09c\" stroke=\"black\" d=\"M244,-68C244,-68 143,-68 143,-68 137,-68 131,-62 131,-56 131,-56 131,-12 131,-12 131,-6 137,-0 143,-0 143,-0 244,-0 244,-0 250,-0 256,-6 256,-12 256,-12 256,-56 256,-56 256,-62 250,-68 244,-68\"/>\r\n",
       "<text text-anchor=\"start\" x=\"156\" y=\"-52.8\" font-family=\"Helvetica,sans-Serif\" font-size=\"14.00\">gini = 0.444</text>\r\n",
       "<text text-anchor=\"start\" x=\"154\" y=\"-37.8\" font-family=\"Helvetica,sans-Serif\" font-size=\"14.00\">samples = 3</text>\r\n",
       "<text text-anchor=\"start\" x=\"153\" y=\"-22.8\" font-family=\"Helvetica,sans-Serif\" font-size=\"14.00\">value = [2, 1]</text>\r\n",
       "<text text-anchor=\"start\" x=\"139\" y=\"-7.8\" font-family=\"Helvetica,sans-Serif\" font-size=\"14.00\">class = malignant</text>\r\n",
       "</g>\r\n",
       "<!-- 2&#45;&gt;4 -->\r\n",
       "<g id=\"edge4\" class=\"edge\"><title>2&#45;&gt;4</title>\r\n",
       "<path fill=\"none\" stroke=\"black\" d=\"M193.5,-103.726C193.5,-95.5175 193.5,-86.8595 193.5,-78.56\"/>\r\n",
       "<polygon fill=\"black\" stroke=\"black\" points=\"197,-78.2996 193.5,-68.2996 190,-78.2996 197,-78.2996\"/>\r\n",
       "</g>\r\n",
       "<!-- 6 -->\r\n",
       "<g id=\"node7\" class=\"node\"><title>6</title>\r\n",
       "<path fill=\"#399de5\" stroke=\"black\" d=\"M370.5,-68C370.5,-68 286.5,-68 286.5,-68 280.5,-68 274.5,-62 274.5,-56 274.5,-56 274.5,-12 274.5,-12 274.5,-6 280.5,-0 286.5,-0 286.5,-0 370.5,-0 370.5,-0 376.5,-0 382.5,-6 382.5,-12 382.5,-12 382.5,-56 382.5,-56 382.5,-62 376.5,-68 370.5,-68\"/>\r\n",
       "<text text-anchor=\"start\" x=\"299.5\" y=\"-52.8\" font-family=\"Helvetica,sans-Serif\" font-size=\"14.00\">gini = 0.0</text>\r\n",
       "<text text-anchor=\"start\" x=\"289\" y=\"-37.8\" font-family=\"Helvetica,sans-Serif\" font-size=\"14.00\">samples = 5</text>\r\n",
       "<text text-anchor=\"start\" x=\"288\" y=\"-22.8\" font-family=\"Helvetica,sans-Serif\" font-size=\"14.00\">value = [0, 5]</text>\r\n",
       "<text text-anchor=\"start\" x=\"282.5\" y=\"-7.8\" font-family=\"Helvetica,sans-Serif\" font-size=\"14.00\">class = benign</text>\r\n",
       "</g>\r\n",
       "<!-- 5&#45;&gt;6 -->\r\n",
       "<g id=\"edge6\" class=\"edge\"><title>5&#45;&gt;6</title>\r\n",
       "<path fill=\"none\" stroke=\"black\" d=\"M382.477,-103.726C375.457,-94.7878 368.018,-85.3168 360.98,-76.3558\"/>\r\n",
       "<polygon fill=\"black\" stroke=\"black\" points=\"363.582,-74.0022 354.653,-68.2996 358.077,-78.3259 363.582,-74.0022\"/>\r\n",
       "</g>\r\n",
       "<!-- 7 -->\r\n",
       "<g id=\"node8\" class=\"node\"><title>7</title>\r\n",
       "<path fill=\"#eca06a\" stroke=\"black\" d=\"M514,-68C514,-68 413,-68 413,-68 407,-68 401,-62 401,-56 401,-56 401,-12 401,-12 401,-6 407,-0 413,-0 413,-0 514,-0 514,-0 520,-0 526,-6 526,-12 526,-12 526,-56 526,-56 526,-62 520,-68 514,-68\"/>\r\n",
       "<text text-anchor=\"start\" x=\"430\" y=\"-52.8\" font-family=\"Helvetica,sans-Serif\" font-size=\"14.00\">gini = 0.32</text>\r\n",
       "<text text-anchor=\"start\" x=\"420\" y=\"-37.8\" font-family=\"Helvetica,sans-Serif\" font-size=\"14.00\">samples = 10</text>\r\n",
       "<text text-anchor=\"start\" x=\"423\" y=\"-22.8\" font-family=\"Helvetica,sans-Serif\" font-size=\"14.00\">value = [8, 2]</text>\r\n",
       "<text text-anchor=\"start\" x=\"409\" y=\"-7.8\" font-family=\"Helvetica,sans-Serif\" font-size=\"14.00\">class = malignant</text>\r\n",
       "</g>\r\n",
       "<!-- 5&#45;&gt;7 -->\r\n",
       "<g id=\"edge7\" class=\"edge\"><title>5&#45;&gt;7</title>\r\n",
       "<path fill=\"none\" stroke=\"black\" d=\"M432.746,-103.726C436.582,-95.1527 440.638,-86.0891 444.502,-77.4555\"/>\r\n",
       "<polygon fill=\"black\" stroke=\"black\" points=\"447.709,-78.857 448.599,-68.2996 441.319,-75.9978 447.709,-78.857\"/>\r\n",
       "</g>\r\n",
       "<!-- 9 -->\r\n",
       "<g id=\"node10\" class=\"node\"><title>9</title>\r\n",
       "<path fill=\"#88c4ef\" stroke=\"black\" d=\"M727,-187C727,-187 548,-187 548,-187 542,-187 536,-181 536,-175 536,-175 536,-116 536,-116 536,-110 542,-104 548,-104 548,-104 727,-104 727,-104 733,-104 739,-110 739,-116 739,-116 739,-175 739,-175 739,-181 733,-187 727,-187\"/>\r\n",
       "<text text-anchor=\"start\" x=\"544\" y=\"-171.8\" font-family=\"Helvetica,sans-Serif\" font-size=\"14.00\">mean concave points ≤ 0.091</text>\r\n",
       "<text text-anchor=\"start\" x=\"600\" y=\"-156.8\" font-family=\"Helvetica,sans-Serif\" font-size=\"14.00\">gini = 0.408</text>\r\n",
       "<text text-anchor=\"start\" x=\"594\" y=\"-141.8\" font-family=\"Helvetica,sans-Serif\" font-size=\"14.00\">samples = 14</text>\r\n",
       "<text text-anchor=\"start\" x=\"593\" y=\"-126.8\" font-family=\"Helvetica,sans-Serif\" font-size=\"14.00\">value = [4, 10]</text>\r\n",
       "<text text-anchor=\"start\" x=\"591.5\" y=\"-111.8\" font-family=\"Helvetica,sans-Serif\" font-size=\"14.00\">class = benign</text>\r\n",
       "</g>\r\n",
       "<!-- 8&#45;&gt;9 -->\r\n",
       "<g id=\"edge9\" class=\"edge\"><title>8&#45;&gt;9</title>\r\n",
       "<path fill=\"none\" stroke=\"black\" d=\"M637.5,-222.907C637.5,-214.649 637.5,-205.864 637.5,-197.302\"/>\r\n",
       "<polygon fill=\"black\" stroke=\"black\" points=\"641,-197.021 637.5,-187.021 634,-197.021 641,-197.021\"/>\r\n",
       "</g>\r\n",
       "<!-- 12 -->\r\n",
       "<g id=\"node13\" class=\"node\"><title>12</title>\r\n",
       "<path fill=\"#e68844\" stroke=\"black\" d=\"M927.5,-187C927.5,-187 809.5,-187 809.5,-187 803.5,-187 797.5,-181 797.5,-175 797.5,-175 797.5,-116 797.5,-116 797.5,-110 803.5,-104 809.5,-104 809.5,-104 927.5,-104 927.5,-104 933.5,-104 939.5,-110 939.5,-116 939.5,-116 939.5,-175 939.5,-175 939.5,-181 933.5,-187 927.5,-187\"/>\r\n",
       "<text text-anchor=\"start\" x=\"805.5\" y=\"-171.8\" font-family=\"Helvetica,sans-Serif\" font-size=\"14.00\">worst area ≤ 718.65</text>\r\n",
       "<text text-anchor=\"start\" x=\"831\" y=\"-156.8\" font-family=\"Helvetica,sans-Serif\" font-size=\"14.00\">gini = 0.096</text>\r\n",
       "<text text-anchor=\"start\" x=\"821\" y=\"-141.8\" font-family=\"Helvetica,sans-Serif\" font-size=\"14.00\">samples = 139</text>\r\n",
       "<text text-anchor=\"start\" x=\"820\" y=\"-126.8\" font-family=\"Helvetica,sans-Serif\" font-size=\"14.00\">value = [132, 7]</text>\r\n",
       "<text text-anchor=\"start\" x=\"814\" y=\"-111.8\" font-family=\"Helvetica,sans-Serif\" font-size=\"14.00\">class = malignant</text>\r\n",
       "</g>\r\n",
       "<!-- 8&#45;&gt;12 -->\r\n",
       "<g id=\"edge12\" class=\"edge\"><title>8&#45;&gt;12</title>\r\n",
       "<path fill=\"none\" stroke=\"black\" d=\"M716.028,-223.726C739.237,-211.971 764.673,-199.088 788.004,-187.271\"/>\r\n",
       "<polygon fill=\"black\" stroke=\"black\" points=\"789.834,-190.267 797.174,-182.626 786.671,-184.022 789.834,-190.267\"/>\r\n",
       "</g>\r\n",
       "<!-- 10 -->\r\n",
       "<g id=\"node11\" class=\"node\"><title>10</title>\r\n",
       "<path fill=\"#399de5\" stroke=\"black\" d=\"M640.5,-68C640.5,-68 556.5,-68 556.5,-68 550.5,-68 544.5,-62 544.5,-56 544.5,-56 544.5,-12 544.5,-12 544.5,-6 550.5,-0 556.5,-0 556.5,-0 640.5,-0 640.5,-0 646.5,-0 652.5,-6 652.5,-12 652.5,-12 652.5,-56 652.5,-56 652.5,-62 646.5,-68 640.5,-68\"/>\r\n",
       "<text text-anchor=\"start\" x=\"569.5\" y=\"-52.8\" font-family=\"Helvetica,sans-Serif\" font-size=\"14.00\">gini = 0.0</text>\r\n",
       "<text text-anchor=\"start\" x=\"555\" y=\"-37.8\" font-family=\"Helvetica,sans-Serif\" font-size=\"14.00\">samples = 10</text>\r\n",
       "<text text-anchor=\"start\" x=\"554\" y=\"-22.8\" font-family=\"Helvetica,sans-Serif\" font-size=\"14.00\">value = [0, 10]</text>\r\n",
       "<text text-anchor=\"start\" x=\"552.5\" y=\"-7.8\" font-family=\"Helvetica,sans-Serif\" font-size=\"14.00\">class = benign</text>\r\n",
       "</g>\r\n",
       "<!-- 9&#45;&gt;10 -->\r\n",
       "<g id=\"edge10\" class=\"edge\"><title>9&#45;&gt;10</title>\r\n",
       "<path fill=\"none\" stroke=\"black\" d=\"M622.978,-103.726C619.957,-95.2439 616.765,-86.2819 613.719,-77.7312\"/>\r\n",
       "<polygon fill=\"black\" stroke=\"black\" points=\"617.013,-76.5456 610.36,-68.2996 610.418,-78.8943 617.013,-76.5456\"/>\r\n",
       "</g>\r\n",
       "<!-- 11 -->\r\n",
       "<g id=\"node12\" class=\"node\"><title>11</title>\r\n",
       "<path fill=\"#e58139\" stroke=\"black\" d=\"M784,-68C784,-68 683,-68 683,-68 677,-68 671,-62 671,-56 671,-56 671,-12 671,-12 671,-6 677,-0 683,-0 683,-0 784,-0 784,-0 790,-0 796,-6 796,-12 796,-12 796,-56 796,-56 796,-62 790,-68 784,-68\"/>\r\n",
       "<text text-anchor=\"start\" x=\"704.5\" y=\"-52.8\" font-family=\"Helvetica,sans-Serif\" font-size=\"14.00\">gini = 0.0</text>\r\n",
       "<text text-anchor=\"start\" x=\"694\" y=\"-37.8\" font-family=\"Helvetica,sans-Serif\" font-size=\"14.00\">samples = 4</text>\r\n",
       "<text text-anchor=\"start\" x=\"693\" y=\"-22.8\" font-family=\"Helvetica,sans-Serif\" font-size=\"14.00\">value = [4, 0]</text>\r\n",
       "<text text-anchor=\"start\" x=\"679\" y=\"-7.8\" font-family=\"Helvetica,sans-Serif\" font-size=\"14.00\">class = malignant</text>\r\n",
       "</g>\r\n",
       "<!-- 9&#45;&gt;11 -->\r\n",
       "<g id=\"edge11\" class=\"edge\"><title>9&#45;&gt;11</title>\r\n",
       "<path fill=\"none\" stroke=\"black\" d=\"M673.247,-103.726C681.163,-94.6966 689.556,-85.1235 697.483,-76.0816\"/>\r\n",
       "<polygon fill=\"black\" stroke=\"black\" points=\"700.345,-78.1263 704.306,-68.2996 695.082,-73.5117 700.345,-78.1263\"/>\r\n",
       "</g>\r\n",
       "<!-- 13 -->\r\n",
       "<g id=\"node14\" class=\"node\"><title>13</title>\r\n",
       "<path fill=\"#e3f1fb\" stroke=\"black\" d=\"M910.5,-68C910.5,-68 826.5,-68 826.5,-68 820.5,-68 814.5,-62 814.5,-56 814.5,-56 814.5,-12 814.5,-12 814.5,-6 820.5,-0 826.5,-0 826.5,-0 910.5,-0 910.5,-0 916.5,-0 922.5,-6 922.5,-12 922.5,-12 922.5,-56 922.5,-56 922.5,-62 916.5,-68 910.5,-68\"/>\r\n",
       "<text text-anchor=\"start\" x=\"831\" y=\"-52.8\" font-family=\"Helvetica,sans-Serif\" font-size=\"14.00\">gini = 0.497</text>\r\n",
       "<text text-anchor=\"start\" x=\"825\" y=\"-37.8\" font-family=\"Helvetica,sans-Serif\" font-size=\"14.00\">samples = 13</text>\r\n",
       "<text text-anchor=\"start\" x=\"828\" y=\"-22.8\" font-family=\"Helvetica,sans-Serif\" font-size=\"14.00\">value = [6, 7]</text>\r\n",
       "<text text-anchor=\"start\" x=\"822.5\" y=\"-7.8\" font-family=\"Helvetica,sans-Serif\" font-size=\"14.00\">class = benign</text>\r\n",
       "</g>\r\n",
       "<!-- 12&#45;&gt;13 -->\r\n",
       "<g id=\"edge13\" class=\"edge\"><title>12&#45;&gt;13</title>\r\n",
       "<path fill=\"none\" stroke=\"black\" d=\"M868.5,-103.726C868.5,-95.5175 868.5,-86.8595 868.5,-78.56\"/>\r\n",
       "<polygon fill=\"black\" stroke=\"black\" points=\"872,-78.2996 868.5,-68.2996 865,-78.2996 872,-78.2996\"/>\r\n",
       "</g>\r\n",
       "<!-- 14 -->\r\n",
       "<g id=\"node15\" class=\"node\"><title>14</title>\r\n",
       "<path fill=\"#e58139\" stroke=\"black\" d=\"M1054,-68C1054,-68 953,-68 953,-68 947,-68 941,-62 941,-56 941,-56 941,-12 941,-12 941,-6 947,-0 953,-0 953,-0 1054,-0 1054,-0 1060,-0 1066,-6 1066,-12 1066,-12 1066,-56 1066,-56 1066,-62 1060,-68 1054,-68\"/>\r\n",
       "<text text-anchor=\"start\" x=\"974.5\" y=\"-52.8\" font-family=\"Helvetica,sans-Serif\" font-size=\"14.00\">gini = 0.0</text>\r\n",
       "<text text-anchor=\"start\" x=\"956\" y=\"-37.8\" font-family=\"Helvetica,sans-Serif\" font-size=\"14.00\">samples = 126</text>\r\n",
       "<text text-anchor=\"start\" x=\"955\" y=\"-22.8\" font-family=\"Helvetica,sans-Serif\" font-size=\"14.00\">value = [126, 0]</text>\r\n",
       "<text text-anchor=\"start\" x=\"949\" y=\"-7.8\" font-family=\"Helvetica,sans-Serif\" font-size=\"14.00\">class = malignant</text>\r\n",
       "</g>\r\n",
       "<!-- 12&#45;&gt;14 -->\r\n",
       "<g id=\"edge14\" class=\"edge\"><title>12&#45;&gt;14</title>\r\n",
       "<path fill=\"none\" stroke=\"black\" d=\"M918.769,-103.726C930.464,-94.2406 942.898,-84.1551 954.535,-74.7159\"/>\r\n",
       "<polygon fill=\"black\" stroke=\"black\" points=\"956.884,-77.3173 962.446,-68.2996 952.474,-71.8808 956.884,-77.3173\"/>\r\n",
       "</g>\r\n",
       "</g>\r\n",
       "</svg>\r\n"
      ],
      "text/plain": [
       "<graphviz.files.Source at 0x18dc4cb3df0>"
      ]
     },
     "execution_count": 49,
     "metadata": {},
     "output_type": "execute_result"
    }
   ],
   "source": [
    "dot_data = tree.export_graphviz(clf2, out_file=None) \n",
    "graph = graphviz.Source(dot_data) \n",
    "graph.render(\"cancer\") \n",
    "\n",
    "dot_data = tree.export_graphviz(clf2, out_file=None, \n",
    "                     feature_names=cancer.feature_names,  \n",
    "                     class_names=cancer.target_names,  \n",
    "                     filled=True, rounded=True,  \n",
    "                     special_characters=True)  \n",
    "graph = graphviz.Source(dot_data)  \n",
    "graph"
   ]
  },
  {
   "cell_type": "markdown",
   "metadata": {
    "id": "bGZmsm7RFnLg"
   },
   "source": [
    "## 3. 모델을 평가하는 다양한 지표를 사용해 모델을 평가해주세요.\n",
    "\n",
    " (accuracy, loss, 오차행렬, f1 score, recall, cross validation 등등 자유롭게 선택)"
   ]
  },
  {
   "cell_type": "code",
   "execution_count": 69,
   "metadata": {
    "ExecuteTime": {
     "end_time": "2022-02-02T12:50:32.336505Z",
     "start_time": "2022-02-02T12:50:32.305936Z"
    },
    "id": "iVHh-PRgFn6H"
   },
   "outputs": [
    {
     "name": "stdout",
     "output_type": "stream",
     "text": [
      "accuracy score : 0.9415\n",
      "cross val score(accuracy) : 0.9412\n"
     ]
    }
   ],
   "source": [
    "# clf\n",
    "y_pred = clf.predict(X_test)\n",
    "\n",
    "#accuracy score\n",
    "from sklearn.metrics import accuracy_score\n",
    "print('accuracy score : {:.4f}'.format(accuracy_score(y_test,y_pred)))\n",
    "\n",
    "#cv score\n",
    "from sklearn.model_selection import cross_val_score\n",
    "\n",
    "print('cross val score(accuracy) : {:.4f}'.format(cross_val_score(clf, X_test, y_test, scoring='accuracy', cv=5).mean()))"
   ]
  },
  {
   "cell_type": "code",
   "execution_count": 67,
   "metadata": {
    "ExecuteTime": {
     "end_time": "2022-02-02T12:50:25.435975Z",
     "start_time": "2022-02-02T12:50:25.390564Z"
    }
   },
   "outputs": [
    {
     "name": "stdout",
     "output_type": "stream",
     "text": [
      "accuracy score : 0.9649\n",
      "cross val score(accuracy) : 0.9412\n"
     ]
    }
   ],
   "source": [
    "# clf2\n",
    "y_pred = clf2.predict(X_test)\n",
    "\n",
    "#accuracy score\n",
    "from sklearn.metrics import accuracy_score\n",
    "print('accuracy score : {:.4f}'.format(accuracy_score(y_test,y_pred)))\n",
    "\n",
    "#cv score\n",
    "from sklearn.model_selection import cross_val_score\n",
    "\n",
    "print('cross val score(accuracy) : {:.4f}'.format(cross_val_score(clf2, X_test, y_test, scoring='accuracy', cv=5).mean()))"
   ]
  },
  {
   "cell_type": "code",
   "execution_count": null,
   "metadata": {},
   "outputs": [],
   "source": []
  }
 ],
 "metadata": {
  "colab": {
   "collapsed_sections": [],
   "name": "\b3주차_SVM_DecisionTree_과제.ipynb",
   "provenance": []
  },
  "hide_input": false,
  "kernelspec": {
   "display_name": "Python 3",
   "language": "python",
   "name": "python3"
  },
  "language_info": {
   "codemirror_mode": {
    "name": "ipython",
    "version": 3
   },
   "file_extension": ".py",
   "mimetype": "text/x-python",
   "name": "python",
   "nbconvert_exporter": "python",
   "pygments_lexer": "ipython3",
   "version": "3.8.3"
  },
  "toc": {
   "base_numbering": 1,
   "nav_menu": {},
   "number_sections": true,
   "sideBar": true,
   "skip_h1_title": false,
   "title_cell": "Table of Contents",
   "title_sidebar": "Contents",
   "toc_cell": false,
   "toc_position": {},
   "toc_section_display": true,
   "toc_window_display": false
  },
  "varInspector": {
   "cols": {
    "lenName": 16,
    "lenType": 16,
    "lenVar": 40
   },
   "kernels_config": {
    "python": {
     "delete_cmd_postfix": "",
     "delete_cmd_prefix": "del ",
     "library": "var_list.py",
     "varRefreshCmd": "print(var_dic_list())"
    },
    "r": {
     "delete_cmd_postfix": ") ",
     "delete_cmd_prefix": "rm(",
     "library": "var_list.r",
     "varRefreshCmd": "cat(var_dic_list()) "
    }
   },
   "types_to_exclude": [
    "module",
    "function",
    "builtin_function_or_method",
    "instance",
    "_Feature"
   ],
   "window_display": false
  }
 },
 "nbformat": 4,
 "nbformat_minor": 1
}
